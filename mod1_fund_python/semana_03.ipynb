{
 "cells": [
  {
   "cell_type": "markdown",
   "id": "c06b0b95-3304-480c-9576-6a4614d3bf3e",
   "metadata": {},
   "source": [
    "## Semana 03\n",
    "\n",
    "- Descripción: Curso de Fundamentos de Python\n",
    "- Semana 3: Fundamentos de programación\n",
    "- Autor: Jaime Gomez\n",
    "- Fecha: 04/10/2025\n",
    "- Versión:1\n"
   ]
  },
  {
   "cell_type": "code",
   "execution_count": 6,
   "id": "2cff179c-b3f0-4f5b-be04-0caca3298f19",
   "metadata": {},
   "outputs": [
    {
     "name": "stdout",
     "output_type": "stream",
     "text": [
      "False\n",
      "False\n",
      "True\n"
     ]
    }
   ],
   "source": [
    "mi_var = 5\n",
    "\n",
    "print(mi_var > 5)\n",
    "print(\"Lima\" == \"lima\" )\n",
    "print(\"Lima\" != \"lima\" )"
   ]
  },
  {
   "cell_type": "markdown",
   "id": "df09218a-abd9-4409-899c-3cc96ba36543",
   "metadata": {},
   "source": [
    "### IF simple"
   ]
  },
  {
   "cell_type": "code",
   "execution_count": 14,
   "id": "ebe34165-933b-42ba-b415-9789e45abac9",
   "metadata": {},
   "outputs": [
    {
     "name": "stdout",
     "output_type": "stream",
     "text": [
      "Inicio del programa\n",
      "Puedes votar en las siguientes elecciones\n",
      "Fin de programa\n"
     ]
    }
   ],
   "source": [
    "\n",
    "edad = 30\n",
    "\n",
    "print(\"Inicio del programa\")\n",
    "\n",
    "if edad >= 18 :\n",
    "    print(\"Puedes votar en las siguientes elecciones\")\n",
    "\n",
    "print(\"Fin de programa\")\n",
    "\n"
   ]
  },
  {
   "cell_type": "markdown",
   "id": "f5ec9981-a031-4b8b-9977-037a9bcebda6",
   "metadata": {},
   "source": [
    "#### Ejercicio 1\n",
    "\n",
    "- Pre Kids, requisito de edad : 6 a 7 años\n",
    "\n",
    "Hacer un programa que valide si tiene 6 o 7 años puede llevar el curso, para tal fin solo se necesita imprimir el mensaje , \"Puedes llevar el curso de Pre Kids\"\n"
   ]
  }
 ],
 "metadata": {
  "kernelspec": {
   "display_name": "Python [conda env:base] *",
   "language": "python",
   "name": "conda-base-py"
  },
  "language_info": {
   "codemirror_mode": {
    "name": "ipython",
    "version": 3
   },
   "file_extension": ".py",
   "mimetype": "text/x-python",
   "name": "python",
   "nbconvert_exporter": "python",
   "pygments_lexer": "ipython3",
   "version": "3.13.5"
  }
 },
 "nbformat": 4,
 "nbformat_minor": 5
}
