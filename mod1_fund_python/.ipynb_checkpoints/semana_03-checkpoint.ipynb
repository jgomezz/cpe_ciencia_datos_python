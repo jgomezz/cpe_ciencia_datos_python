{
 "cells": [
  {
   "cell_type": "markdown",
   "id": "c06b0b95-3304-480c-9576-6a4614d3bf3e",
   "metadata": {},
   "source": [
    "## Semana 03\n",
    "\n",
    "- Descripción: Curso de Fundamentos de Python\n",
    "- Semana 3: Fundamentos de programación\n",
    "- Autor: Jaime Gomez\n",
    "- Fecha: 04/10/2025\n",
    "- Versión:1\n"
   ]
  },
  {
   "cell_type": "code",
   "execution_count": 6,
   "id": "2cff179c-b3f0-4f5b-be04-0caca3298f19",
   "metadata": {},
   "outputs": [
    {
     "name": "stdout",
     "output_type": "stream",
     "text": [
      "False\n",
      "False\n",
      "True\n"
     ]
    }
   ],
   "source": [
    "mi_var = 5\n",
    "\n",
    "print(mi_var > 5)\n",
    "print(\"Lima\" == \"lima\" )\n",
    "print(\"Lima\" != \"lima\" )"
   ]
  },
  {
   "cell_type": "markdown",
   "id": "df09218a-abd9-4409-899c-3cc96ba36543",
   "metadata": {},
   "source": [
    "### if "
   ]
  },
  {
   "cell_type": "code",
   "execution_count": 14,
   "id": "ebe34165-933b-42ba-b415-9789e45abac9",
   "metadata": {},
   "outputs": [
    {
     "name": "stdout",
     "output_type": "stream",
     "text": [
      "Inicio del programa\n",
      "Puedes votar en las siguientes elecciones\n",
      "Fin de programa\n"
     ]
    }
   ],
   "source": [
    "\n",
    "edad = 30\n",
    "\n",
    "print(\"Inicio del programa\")\n",
    "\n",
    "if edad >= 18 :\n",
    "    print(\"Puedes votar en las siguientes elecciones\")\n",
    "\n",
    "print(\"Fin de programa\")\n",
    "\n"
   ]
  },
  {
   "cell_type": "markdown",
   "id": "f5ec9981-a031-4b8b-9977-037a9bcebda6",
   "metadata": {},
   "source": [
    "#### Ejercicio 1\n",
    "\n",
    "- Pre Kids, requisito de edad : 6 a 7 años\n",
    "\n",
    "Hacer un programa que valide si tiene 6 o 7 años puede llevar el curso, para tal fin solo se necesita imprimir el mensaje , \"Puedes llevar el curso de Pre Kids\"\n"
   ]
  },
  {
   "cell_type": "code",
   "execution_count": 16,
   "id": "836ee67a-6b05-43df-bcc1-646b62fef7e8",
   "metadata": {},
   "outputs": [
    {
     "name": "stdin",
     "output_type": "stream",
     "text": [
      "Ingrese la edad del niño:  6\n"
     ]
    },
    {
     "name": "stdout",
     "output_type": "stream",
     "text": [
      "Puedes llevar el curso\n",
      "Fin del programa\n"
     ]
    }
   ],
   "source": [
    "edad = int(input(\"Ingrese la edad del niño: \"))\n",
    "\n",
    "if edad == 6 or edad == 7:\n",
    "    print(\"Puedes llevar el curso\")\n",
    "print(\"Fin del programa\")"
   ]
  },
  {
   "cell_type": "code",
   "execution_count": 19,
   "id": "590b877d-8397-4df9-8665-27f1c405350b",
   "metadata": {},
   "outputs": [
    {
     "name": "stdout",
     "output_type": "stream",
     "text": [
      "Puedes llevar el curso de Pre Kids\n"
     ]
    }
   ],
   "source": [
    "Edad = 6\n",
    "if Edad ==6 or Edad ==7:\n",
    "    print(\"Puedes llevar el curso de Pre Kids\")"
   ]
  },
  {
   "cell_type": "code",
   "execution_count": 37,
   "id": "60603ac4-15fb-4321-8946-0155580c810d",
   "metadata": {},
   "outputs": [
    {
     "name": "stdout",
     "output_type": "stream",
     "text": [
      "Puedes llevar el curso de Pre Kids\n"
     ]
    }
   ],
   "source": [
    "edad = 6\n",
    "\n",
    "if ( edad > 5 and edad < 8 ):\n",
    "    print(\"Puedes llevar el curso de Pre Kids\")\n"
   ]
  },
  {
   "cell_type": "code",
   "execution_count": 27,
   "id": "23e01e25-0a96-4fa9-9eed-c5fadb4effe9",
   "metadata": {},
   "outputs": [],
   "source": [
    "edad = 5\n",
    "\n",
    "if  5 < edad < 8 :\n",
    "    print(\"Puedes llevar el curso de Pre Kids\")\n"
   ]
  },
  {
   "cell_type": "code",
   "execution_count": 31,
   "id": "5edf6a24-12cb-4c63-949c-a8ae69697bbd",
   "metadata": {},
   "outputs": [],
   "source": [
    "edad = 8\n",
    "\n",
    "if  6 <= edad <= 7 :\n",
    "    print(\"Puedes llevar el curso de Pre Kids\")\n"
   ]
  },
  {
   "cell_type": "code",
   "execution_count": 35,
   "id": "52e3c915-3784-4aa8-a56d-19b3330e9d83",
   "metadata": {},
   "outputs": [],
   "source": [
    "edad = 5\n",
    "\n",
    "if edad in (6,7) :\n",
    "    print(\"Puedes llevar el curso de Pre Kids\")"
   ]
  },
  {
   "cell_type": "markdown",
   "id": "5c62278e-316d-4314-a12c-5be57674925e",
   "metadata": {},
   "source": [
    "### if .. else"
   ]
  },
  {
   "cell_type": "code",
   "execution_count": 39,
   "id": "73aa59d8-a598-4a28-b67f-d10ee388c06c",
   "metadata": {},
   "outputs": [
    {
     "name": "stdout",
     "output_type": "stream",
     "text": [
      "Inicio del programa\n",
      "Aun eres menor de edad\n",
      "Fin de programa\n"
     ]
    }
   ],
   "source": [
    "edad = 17\n",
    "\n",
    "print(\"Inicio del programa\")\n",
    "\n",
    "if edad >= 18 :\n",
    "    print(\"Puedes votar en las siguientes elecciones\")\n",
    "else:\n",
    "    print(\"Aún eres menor de edad\")\n",
    "\n",
    "print(\"Fin de programa\")"
   ]
  },
  {
   "cell_type": "code",
   "execution_count": null,
   "id": "42bf38e7-1c7c-43c7-b42f-48486a23c230",
   "metadata": {},
   "outputs": [],
   "source": []
  }
 ],
 "metadata": {
  "kernelspec": {
   "display_name": "Python [conda env:base] *",
   "language": "python",
   "name": "conda-base-py"
  },
  "language_info": {
   "codemirror_mode": {
    "name": "ipython",
    "version": 3
   },
   "file_extension": ".py",
   "mimetype": "text/x-python",
   "name": "python",
   "nbconvert_exporter": "python",
   "pygments_lexer": "ipython3",
   "version": "3.13.5"
  }
 },
 "nbformat": 4,
 "nbformat_minor": 5
}
