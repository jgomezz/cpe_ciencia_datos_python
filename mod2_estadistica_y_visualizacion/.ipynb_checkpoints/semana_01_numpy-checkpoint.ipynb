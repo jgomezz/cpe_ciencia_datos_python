{
 "cells": [
  {
   "cell_type": "markdown",
   "id": "49aaaf90-c7bd-44a6-a363-247777cb663f",
   "metadata": {},
   "source": [
    "# Numpy"
   ]
  },
  {
   "cell_type": "code",
   "execution_count": 3,
   "id": "52e96d80-e6bf-4b48-b873-d2b500c03e96",
   "metadata": {},
   "outputs": [
    {
     "data": {
      "text/plain": [
       "list"
      ]
     },
     "execution_count": 3,
     "metadata": {},
     "output_type": "execute_result"
    }
   ],
   "source": [
    "'''\n",
    "Modulo 2 : Estadistica y Visualizacion de Datos\n",
    "Sesion : 01\n",
    "Fecha : 25/10/2025\n",
    "'''\n",
    "\n",
    "import numpy as np\n",
    "\n",
    "nros = [ x for x in range(20)]\n",
    "nros"
   ]
  },
  {
   "cell_type": "code",
   "execution_count": null,
   "id": "3c309957-f4e7-40b2-8d97-7bcb15bafd5a",
   "metadata": {},
   "outputs": [],
   "source": [
    "np_nros = np.array(nros)\n",
    "np_nros\n"
   ]
  }
 ],
 "metadata": {
  "kernelspec": {
   "display_name": "Python [conda env:base] *",
   "language": "python",
   "name": "conda-base-py"
  },
  "language_info": {
   "codemirror_mode": {
    "name": "ipython",
    "version": 3
   },
   "file_extension": ".py",
   "mimetype": "text/x-python",
   "name": "python",
   "nbconvert_exporter": "python",
   "pygments_lexer": "ipython3",
   "version": "3.13.5"
  }
 },
 "nbformat": 4,
 "nbformat_minor": 5
}
