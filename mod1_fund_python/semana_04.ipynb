{
 "cells": [
  {
   "cell_type": "markdown",
   "id": "f6dea77b-8f19-4fec-bc52-0e3a6855cd0f",
   "metadata": {},
   "source": [
    "## Semana 04\n",
    "\n",
    "- Descripción: Curso de Fundamentos de Python\n",
    "- Semana 4: Manipulación de datos\n",
    "- Autor: Jaime Gomez\n",
    "- Fecha: 11/10/2025\n",
    "- Versión:1\n"
   ]
  },
  {
   "cell_type": "code",
   "execution_count": 32,
   "id": "8ff55566-7229-476b-81ff-ef431827a6dc",
   "metadata": {},
   "outputs": [
    {
     "name": "stdout",
     "output_type": "stream",
     "text": [
      "<class '_io.TextIOWrapper'>\n",
      "archivo1.txt\n",
      "Linea 1\n",
      "Linea 2\n",
      "Linea 3\n",
      "Linea 4\n",
      "Linea 5\n",
      "Linea 6\n",
      "Linea 7\n",
      "False\n",
      "True\n"
     ]
    }
   ],
   "source": [
    "# open() es una funcion para abrir archivos\n",
    "#  modo r : lectura\n",
    "#  modo a : agregación\n",
    "\n",
    "# Abrir archivo\n",
    "mi_archivo = open(\"archivo1.txt\",'r')\n",
    "\n",
    "print(type(mi_archivo))\n",
    "print(mi_archivo.name)\n",
    "\n",
    "# TO DO\n",
    "data = mi_archivo.read()\n",
    "print(data)\n",
    "print(mi_archivo.closed)\n",
    "\n",
    "# Cerrar archivo\n",
    "mi_archivo.close()\n",
    "print(mi_archivo.closed)"
   ]
  },
  {
   "cell_type": "code",
   "execution_count": 33,
   "id": "65b5c2f8-fe30-46e8-8647-41574628bb7b",
   "metadata": {},
   "outputs": [
    {
     "name": "stdout",
     "output_type": "stream",
     "text": [
      "Linea 1\n",
      "Linea 2\n",
      "Linea 3\n",
      "Linea 4\n",
      "Linea 5\n",
      "Linea 6\n",
      "Linea 7\n",
      "True\n"
     ]
    }
   ],
   "source": [
    "# open() es una funcion para abrir archivos\n",
    "#  modo r : lectura\n",
    "#  modo a : agregación\n",
    "\n",
    "# Abrir archivo\n",
    "with open(\"archivo1.txt\",'r') as mi_archivo:\n",
    "    contenido = mi_archivo.read()\n",
    "    print(contenido)\n",
    "    \n",
    "print(mi_archivo.closed)"
   ]
  },
  {
   "cell_type": "code",
   "execution_count": 34,
   "id": "d3d298c3-7bbf-4ee8-924a-5365120812a8",
   "metadata": {},
   "outputs": [
    {
     "name": "stdout",
     "output_type": "stream",
     "text": [
      "Li\n",
      "ne\n"
     ]
    }
   ],
   "source": [
    "# open() es una funcion para abrir archivos\n",
    "#  modo r : lectura\n",
    "#  modo a : agregación\n",
    "\n",
    "# Abrir archivo\n",
    "with open(\"archivo1.txt\",'r') as mi_archivo:\n",
    "    contenido = mi_archivo.read(2)\n",
    "    print(contenido)\n",
    "    contenido = mi_archivo.read(2)\n",
    "    print(contenido)\n",
    "    "
   ]
  },
  {
   "cell_type": "markdown",
   "id": "bbd4f74f-5750-41c7-82d2-411a0ffe0d9a",
   "metadata": {},
   "source": [
    "### Leer lineas de un archivo"
   ]
  },
  {
   "cell_type": "code",
   "execution_count": 35,
   "id": "c00424f0-05f0-4534-a997-d2da1ff26785",
   "metadata": {},
   "outputs": [
    {
     "name": "stdout",
     "output_type": "stream",
     "text": [
      "Linea 1\n",
      "\n",
      "Linea 2\n",
      "\n"
     ]
    }
   ],
   "source": [
    "with open(\"archivo1.txt\",'r') as mi_archivo:\n",
    "    contenido = mi_archivo.readline()\n",
    "    print(contenido)\n",
    "    contenido = mi_archivo.readline()\n",
    "    print(contenido)"
   ]
  },
  {
   "cell_type": "code",
   "execution_count": 36,
   "id": "c8aaa554-0cc2-4e17-a482-9071a4b11180",
   "metadata": {},
   "outputs": [
    {
     "name": "stdout",
     "output_type": "stream",
     "text": [
      "Linea 1\n",
      "\n",
      "Linea 2\n",
      "\n",
      "Linea 3\n",
      "\n",
      "Linea 4\n",
      "\n",
      "Linea 5\n",
      "\n",
      "Linea 6\n",
      "\n",
      "Linea 7\n"
     ]
    }
   ],
   "source": [
    "with open(\"archivo1.txt\",'r') as mi_archivo:\n",
    "    for una_linea in mi_archivo:\n",
    "       print(una_linea)"
   ]
  },
  {
   "cell_type": "code",
   "execution_count": 37,
   "id": "40cf5ece-2210-4e9f-90f8-f3398e73ea81",
   "metadata": {},
   "outputs": [
    {
     "name": "stdout",
     "output_type": "stream",
     "text": [
      "['Linea 1\\n', 'Linea 2\\n', 'Linea 3\\n', 'Linea 4\\n', 'Linea 5\\n', 'Linea 6\\n', 'Linea 7']\n",
      "Linea 1\n",
      "\n",
      "Linea 2\n",
      "\n",
      "Linea 3\n",
      "\n",
      "Linea 4\n",
      "\n",
      "Linea 5\n",
      "\n",
      "Linea 6\n",
      "\n",
      "Linea 7\n"
     ]
    }
   ],
   "source": [
    "with open(\"archivo1.txt\",'r') as mi_archivo:\n",
    "    contenido = mi_archivo.readlines()\n",
    "    print(contenido)\n",
    "\n",
    "for linea in contenido:\n",
    "    print(linea)"
   ]
  },
  {
   "cell_type": "markdown",
   "id": "1a4a7d54-b3ee-4a15-b4b3-93d1f470e618",
   "metadata": {},
   "source": [
    "### Ejercicio 1\n",
    "\n",
    "Dado el archivo personas.txt, calcular lo siguiente\n",
    "\n",
    "- Juan:Pastor:25:Pyhton\n",
    "- Jose:Gomez:18:Pyhton\n",
    "- Maribel:Alegria:22:Java\n",
    "- Ana:Garcia:23:C#\n",
    "- Pedro:Flores:20:Java\n",
    "- Elizabeth:Alvarado:26:Pyhton\n",
    "- Jaime:Alvarez:22:Pyhton\n",
    "- Noemi:Palomino:26:Php\n",
    "- Pedro:Davila:30:Php\n",
    "\n",
    "Debe calcular\n",
    "\n",
    "- Los lenguajes de programación favoritos\n",
    "- Los apellidos de todos los participantes\n",
    "- Los nombre de las personas mayores de 22 años\n"
   ]
  },
  {
   "cell_type": "code",
   "execution_count": 38,
   "id": "68dbdc0d-203d-48ee-84c2-d047b4fd7474",
   "metadata": {},
   "outputs": [
    {
     "name": "stdout",
     "output_type": "stream",
     "text": [
      "{'Java\\n', 'C#\\n', 'Php\\n', 'Pyhton\\n'}\n"
     ]
    }
   ],
   "source": [
    "# Lectura de datos\n",
    "nombre_archivo = \"personas.txt\"\n",
    "\n",
    "contenido = []\n",
    "with open(nombre_archivo,'r') as mi_archivo:\n",
    "    contenido = mi_archivo.readlines()\n",
    "    \n",
    "# Tratamiento de los datos de los programas\n",
    "progs = []\n",
    "for una_linea in contenido:\n",
    "    #print(una_linea)\n",
    "    dato_persona = una_linea.split(':')\n",
    "    progs.append(dato_persona[3])\n",
    "    #print(dato_persona[3])\n",
    "    \n",
    "# Salida de los datos\n",
    "print(set(progs))\n"
   ]
  },
  {
   "cell_type": "markdown",
   "id": "78fe9f50-f55e-4b02-bfdd-ee4c6ab9b583",
   "metadata": {},
   "source": [
    "### Módulo y paquetes"
   ]
  },
  {
   "cell_type": "code",
   "execution_count": 39,
   "id": "a96020b7-3891-4ed1-9e6c-7b54080dd009",
   "metadata": {},
   "outputs": [
    {
     "name": "stdout",
     "output_type": "stream",
     "text": [
      "9\n"
     ]
    }
   ],
   "source": [
    "def suma(a, b):\n",
    "   return a+b\n",
    "\n",
    "s = suma(4,5)\n",
    "\n",
    "print(s)\n"
   ]
  },
  {
   "cell_type": "code",
   "execution_count": 40,
   "id": "aec81744-f82c-4d32-999c-e4fb3d373823",
   "metadata": {},
   "outputs": [
    {
     "name": "stdout",
     "output_type": "stream",
     "text": [
      "-1\n",
      "20\n"
     ]
    }
   ],
   "source": [
    "from mate import resta, mul\n",
    "\n",
    "r = resta(4,5)\n",
    "print(r)\n",
    "\n",
    "m = mul(4,5)\n",
    "print(m)\n"
   ]
  },
  {
   "cell_type": "code",
   "execution_count": 41,
   "id": "c3286266-6870-4a6c-80d3-8f2b85f06a58",
   "metadata": {},
   "outputs": [
    {
     "name": "stdout",
     "output_type": "stream",
     "text": [
      "-1\n",
      "20\n",
      "0.8\n"
     ]
    }
   ],
   "source": [
    "import mate as ma\n",
    "\n",
    "r = ma.resta(4,5)\n",
    "print(r)\n",
    "\n",
    "m = ma.mul(4,5)\n",
    "print(m)\n",
    "\n",
    "d = ma.div(4,5)\n",
    "print(d)\n",
    "\n"
   ]
  },
  {
   "cell_type": "code",
   "execution_count": 42,
   "id": "e232f56f-996d-470a-b4fe-e949dba91b7a",
   "metadata": {},
   "outputs": [
    {
     "name": "stdout",
     "output_type": "stream",
     "text": [
      "hola-\n",
      "hola-\n",
      "hola-\n",
      "hola-\n",
      "hola-\n"
     ]
    }
   ],
   "source": [
    "def imprimir(mensaje, relleno=\"-\" , nro_veces=2):\n",
    "    for i in range(nro_veces):\n",
    "        print(mensaje + relleno)\n",
    "\n",
    "imprimir(\"hola\", nro_veces=5)\n",
    "    "
   ]
  },
  {
   "cell_type": "markdown",
   "id": "3abd9a9e-b124-4c7c-ad50-29ce362607ed",
   "metadata": {},
   "source": [
    "### Pandas"
   ]
  },
  {
   "cell_type": "code",
   "execution_count": 43,
   "id": "08720197-3c6e-4a8f-9647-7953291159f6",
   "metadata": {},
   "outputs": [
    {
     "name": "stdout",
     "output_type": "stream",
     "text": [
      "   nombre  edad\n",
      "0   Maria    18\n",
      "1    Juan    25\n",
      "2  Silvia    20\n",
      "3  Albert    30\n"
     ]
    }
   ],
   "source": [
    "import pandas as pd\n",
    "\n",
    "personas = [\n",
    "                ['Maria',18],\n",
    "                ['Juan',25],\n",
    "                ['Silvia',20],\n",
    "                ['Albert',30]\n",
    "            ]\n",
    "\n",
    "df = pd.DataFrame(personas,columns=['nombre','edad'])\n",
    "\n",
    "print(df)"
   ]
  },
  {
   "cell_type": "code",
   "execution_count": 44,
   "id": "eb4aafc4-a6b4-4908-8de9-d20097e7d87e",
   "metadata": {},
   "outputs": [
    {
     "name": "stdout",
     "output_type": "stream",
     "text": [
      "0     Maria\n",
      "1      Juan\n",
      "2    Silvia\n",
      "3    Albert\n",
      "Name: nombre, dtype: object\n"
     ]
    }
   ],
   "source": [
    "print(df['nombre'])"
   ]
  },
  {
   "cell_type": "code",
   "execution_count": 45,
   "id": "ed778e20-6f82-46c6-9697-0f564c66ea0a",
   "metadata": {},
   "outputs": [
    {
     "name": "stdout",
     "output_type": "stream",
     "text": [
      "0    18\n",
      "1    25\n",
      "2    20\n",
      "3    30\n",
      "Name: edad, dtype: int64\n"
     ]
    }
   ],
   "source": [
    "print(df['edad'])"
   ]
  },
  {
   "cell_type": "code",
   "execution_count": 46,
   "id": "2efeab4a-9ac8-464a-a6c2-f532524686f2",
   "metadata": {},
   "outputs": [
    {
     "name": "stdout",
     "output_type": "stream",
     "text": [
      "   nombre  edad\n",
      "1    Juan    25\n",
      "3  Albert    30\n"
     ]
    }
   ],
   "source": [
    "print(df[df['edad']>20])"
   ]
  },
  {
   "cell_type": "code",
   "execution_count": 47,
   "id": "df9a079c-d3ac-42de-868c-2d9777ffab64",
   "metadata": {},
   "outputs": [
    {
     "name": "stdout",
     "output_type": "stream",
     "text": [
      "   nombre  edad\n",
      "0   Maria    18\n",
      "1    Juan    25\n",
      "2  Silvia    20\n",
      "3  Albert    30\n"
     ]
    }
   ],
   "source": [
    "import pandas as pd\n",
    "\n",
    "personas = {\n",
    "     \"nombre\": ['Maria','Juan','Silvia','Albert'],\n",
    "     \"edad\":   [18,25,20,30]\n",
    "}\n",
    "\n",
    "df = pd.DataFrame(personas)\n",
    "\n",
    "print(df)"
   ]
  },
  {
   "cell_type": "code",
   "execution_count": 48,
   "id": "1d85c97d-3cc8-492b-ba4c-1c8f923fc611",
   "metadata": {},
   "outputs": [
    {
     "name": "stdout",
     "output_type": "stream",
     "text": [
      "0         Juan\n",
      "1         Jose\n",
      "2      Maribel\n",
      "3          Ana\n",
      "4        Pedro\n",
      "5    Elizabeth\n",
      "6        Jaime\n",
      "7        Noemi\n",
      "8        Pedro\n",
      "Name: nombre, dtype: object\n"
     ]
    }
   ],
   "source": [
    "import pandas as pd\n",
    "\n",
    "# Lectura de archivos\n",
    "\n",
    "nombre_archivo = \"personas.csv\"\n",
    "\n",
    "df = pd.read_csv(nombre_archivo)\n",
    "\n",
    "print(df['nombre'])"
   ]
  },
  {
   "cell_type": "code",
   "execution_count": 49,
   "id": "71ae77f2-a753-4999-b7b2-cc838b75b7c4",
   "metadata": {},
   "outputs": [
    {
     "data": {
      "text/html": [
       "<div>\n",
       "<style scoped>\n",
       "    .dataframe tbody tr th:only-of-type {\n",
       "        vertical-align: middle;\n",
       "    }\n",
       "\n",
       "    .dataframe tbody tr th {\n",
       "        vertical-align: top;\n",
       "    }\n",
       "\n",
       "    .dataframe thead th {\n",
       "        text-align: right;\n",
       "    }\n",
       "</style>\n",
       "<table border=\"1\" class=\"dataframe\">\n",
       "  <thead>\n",
       "    <tr style=\"text-align: right;\">\n",
       "      <th></th>\n",
       "      <th>Posicion</th>\n",
       "      <th>Pais</th>\n",
       "      <th>Oro</th>\n",
       "      <th>Plata</th>\n",
       "      <th>Bronce</th>\n",
       "      <th>Total</th>\n",
       "      <th>Ranking Total</th>\n",
       "    </tr>\n",
       "  </thead>\n",
       "  <tbody>\n",
       "    <tr>\n",
       "      <th>0</th>\n",
       "      <td>1</td>\n",
       "      <td>Estados Unidos</td>\n",
       "      <td>120</td>\n",
       "      <td>88</td>\n",
       "      <td>85</td>\n",
       "      <td>293</td>\n",
       "      <td>1</td>\n",
       "    </tr>\n",
       "    <tr>\n",
       "      <th>1</th>\n",
       "      <td>2</td>\n",
       "      <td>Brasil</td>\n",
       "      <td>55</td>\n",
       "      <td>45</td>\n",
       "      <td>71</td>\n",
       "      <td>171</td>\n",
       "      <td>2</td>\n",
       "    </tr>\n",
       "    <tr>\n",
       "      <th>2</th>\n",
       "      <td>3</td>\n",
       "      <td>México</td>\n",
       "      <td>37</td>\n",
       "      <td>36</td>\n",
       "      <td>63</td>\n",
       "      <td>136</td>\n",
       "      <td>4</td>\n",
       "    </tr>\n",
       "    <tr>\n",
       "      <th>3</th>\n",
       "      <td>4</td>\n",
       "      <td>Canadá</td>\n",
       "      <td>35</td>\n",
       "      <td>64</td>\n",
       "      <td>53</td>\n",
       "      <td>152</td>\n",
       "      <td>3</td>\n",
       "    </tr>\n",
       "    <tr>\n",
       "      <th>4</th>\n",
       "      <td>5</td>\n",
       "      <td>Cuba</td>\n",
       "      <td>33</td>\n",
       "      <td>27</td>\n",
       "      <td>38</td>\n",
       "      <td>98</td>\n",
       "      <td>6</td>\n",
       "    </tr>\n",
       "  </tbody>\n",
       "</table>\n",
       "</div>"
      ],
      "text/plain": [
       "   Posicion            Pais  Oro  Plata  Bronce  Total  Ranking Total\n",
       "0         1  Estados Unidos  120     88      85    293              1\n",
       "1         2          Brasil   55     45      71    171              2\n",
       "2         3          México   37     36      63    136              4\n",
       "3         4          Canadá   35     64      53    152              3\n",
       "4         5            Cuba   33     27      38     98              6"
      ]
     },
     "execution_count": 49,
     "metadata": {},
     "output_type": "execute_result"
    }
   ],
   "source": [
    "import pandas as pd\n",
    "\n",
    "# Lectura de archivos\n",
    "\n",
    "nombre_archivo = \"medallero_Panamericanos_Lima2019.csv\"\n",
    "\n",
    "df = pd.read_csv(nombre_archivo)\n",
    "\n",
    "df.head()"
   ]
  },
  {
   "cell_type": "code",
   "execution_count": 50,
   "id": "03ffd8c5-b706-4e4e-9e8b-2f412a7d2ea8",
   "metadata": {},
   "outputs": [
    {
     "data": {
      "text/plain": [
       "Index(['Posicion', 'Pais', 'Oro', 'Plata', 'Bronce', 'Total', 'Ranking Total'], dtype='object')"
      ]
     },
     "execution_count": 50,
     "metadata": {},
     "output_type": "execute_result"
    }
   ],
   "source": [
    "df.keys()"
   ]
  },
  {
   "cell_type": "code",
   "execution_count": 51,
   "id": "750b502f-df23-4b09-96d0-7b60a47cdb90",
   "metadata": {},
   "outputs": [
    {
     "data": {
      "text/plain": [
       "0    Estados Unidos\n",
       "1            Brasil\n",
       "2            México\n",
       "3            Canadá\n",
       "4              Cuba\n",
       "Name: Pais, dtype: object"
      ]
     },
     "execution_count": 51,
     "metadata": {},
     "output_type": "execute_result"
    }
   ],
   "source": [
    "# Serie\n",
    "df['Pais'].head() # para leer los últimos 5 registros se usa el tail()"
   ]
  },
  {
   "cell_type": "code",
   "execution_count": 52,
   "id": "f7e4ae2a-921e-4a1c-a91f-700fcbbfbdaf",
   "metadata": {},
   "outputs": [
    {
     "data": {
      "text/html": [
       "<div>\n",
       "<style scoped>\n",
       "    .dataframe tbody tr th:only-of-type {\n",
       "        vertical-align: middle;\n",
       "    }\n",
       "\n",
       "    .dataframe tbody tr th {\n",
       "        vertical-align: top;\n",
       "    }\n",
       "\n",
       "    .dataframe thead th {\n",
       "        text-align: right;\n",
       "    }\n",
       "</style>\n",
       "<table border=\"1\" class=\"dataframe\">\n",
       "  <thead>\n",
       "    <tr style=\"text-align: right;\">\n",
       "      <th></th>\n",
       "      <th>Pais</th>\n",
       "      <th>Oro</th>\n",
       "      <th>Plata</th>\n",
       "    </tr>\n",
       "  </thead>\n",
       "  <tbody>\n",
       "    <tr>\n",
       "      <th>0</th>\n",
       "      <td>Estados Unidos</td>\n",
       "      <td>120</td>\n",
       "      <td>88</td>\n",
       "    </tr>\n",
       "    <tr>\n",
       "      <th>1</th>\n",
       "      <td>Brasil</td>\n",
       "      <td>55</td>\n",
       "      <td>45</td>\n",
       "    </tr>\n",
       "    <tr>\n",
       "      <th>2</th>\n",
       "      <td>México</td>\n",
       "      <td>37</td>\n",
       "      <td>36</td>\n",
       "    </tr>\n",
       "    <tr>\n",
       "      <th>3</th>\n",
       "      <td>Canadá</td>\n",
       "      <td>35</td>\n",
       "      <td>64</td>\n",
       "    </tr>\n",
       "    <tr>\n",
       "      <th>4</th>\n",
       "      <td>Cuba</td>\n",
       "      <td>33</td>\n",
       "      <td>27</td>\n",
       "    </tr>\n",
       "  </tbody>\n",
       "</table>\n",
       "</div>"
      ],
      "text/plain": [
       "             Pais  Oro  Plata\n",
       "0  Estados Unidos  120     88\n",
       "1          Brasil   55     45\n",
       "2          México   37     36\n",
       "3          Canadá   35     64\n",
       "4            Cuba   33     27"
      ]
     },
     "execution_count": 52,
     "metadata": {},
     "output_type": "execute_result"
    }
   ],
   "source": [
    "# Dataframe\n",
    "df[['Pais','Oro','Plata']].head()"
   ]
  },
  {
   "cell_type": "code",
   "execution_count": 53,
   "id": "bfd27994-f1bb-470a-8225-d55d71aa126c",
   "metadata": {},
   "outputs": [
    {
     "data": {
      "text/html": [
       "<div>\n",
       "<style scoped>\n",
       "    .dataframe tbody tr th:only-of-type {\n",
       "        vertical-align: middle;\n",
       "    }\n",
       "\n",
       "    .dataframe tbody tr th {\n",
       "        vertical-align: top;\n",
       "    }\n",
       "\n",
       "    .dataframe thead th {\n",
       "        text-align: right;\n",
       "    }\n",
       "</style>\n",
       "<table border=\"1\" class=\"dataframe\">\n",
       "  <thead>\n",
       "    <tr style=\"text-align: right;\">\n",
       "      <th></th>\n",
       "      <th>Posicion</th>\n",
       "      <th>Pais</th>\n",
       "      <th>Oro</th>\n",
       "      <th>Plata</th>\n",
       "      <th>Bronce</th>\n",
       "      <th>Total</th>\n",
       "      <th>Ranking Total</th>\n",
       "    </tr>\n",
       "  </thead>\n",
       "  <tbody>\n",
       "    <tr>\n",
       "      <th>0</th>\n",
       "      <td>1</td>\n",
       "      <td>Estados Unidos</td>\n",
       "      <td>120</td>\n",
       "      <td>88</td>\n",
       "      <td>85</td>\n",
       "      <td>293</td>\n",
       "      <td>1</td>\n",
       "    </tr>\n",
       "    <tr>\n",
       "      <th>1</th>\n",
       "      <td>2</td>\n",
       "      <td>Brasil</td>\n",
       "      <td>55</td>\n",
       "      <td>45</td>\n",
       "      <td>71</td>\n",
       "      <td>171</td>\n",
       "      <td>2</td>\n",
       "    </tr>\n",
       "    <tr>\n",
       "      <th>2</th>\n",
       "      <td>3</td>\n",
       "      <td>México</td>\n",
       "      <td>37</td>\n",
       "      <td>36</td>\n",
       "      <td>63</td>\n",
       "      <td>136</td>\n",
       "      <td>4</td>\n",
       "    </tr>\n",
       "    <tr>\n",
       "      <th>3</th>\n",
       "      <td>4</td>\n",
       "      <td>Canadá</td>\n",
       "      <td>35</td>\n",
       "      <td>64</td>\n",
       "      <td>53</td>\n",
       "      <td>152</td>\n",
       "      <td>3</td>\n",
       "    </tr>\n",
       "    <tr>\n",
       "      <th>4</th>\n",
       "      <td>5</td>\n",
       "      <td>Cuba</td>\n",
       "      <td>33</td>\n",
       "      <td>27</td>\n",
       "      <td>38</td>\n",
       "      <td>98</td>\n",
       "      <td>6</td>\n",
       "    </tr>\n",
       "  </tbody>\n",
       "</table>\n",
       "</div>"
      ],
      "text/plain": [
       "   Posicion            Pais  Oro  Plata  Bronce  Total  Ranking Total\n",
       "0         1  Estados Unidos  120     88      85    293              1\n",
       "1         2          Brasil   55     45      71    171              2\n",
       "2         3          México   37     36      63    136              4\n",
       "3         4          Canadá   35     64      53    152              3\n",
       "4         5            Cuba   33     27      38     98              6"
      ]
     },
     "execution_count": 53,
     "metadata": {},
     "output_type": "execute_result"
    }
   ],
   "source": [
    "df.head()"
   ]
  },
  {
   "cell_type": "code",
   "execution_count": 54,
   "id": "ea8d0bf4-097b-4881-969c-5c7a46095783",
   "metadata": {},
   "outputs": [
    {
     "data": {
      "text/plain": [
       "Posicion              2\n",
       "Pais             Brasil\n",
       "Oro                  55\n",
       "Plata                45\n",
       "Bronce               71\n",
       "Total               171\n",
       "Ranking Total         2\n",
       "Name: 1, dtype: object"
      ]
     },
     "execution_count": 54,
     "metadata": {},
     "output_type": "execute_result"
    }
   ],
   "source": [
    "# Obtener una fila\n",
    "df.iloc[1]"
   ]
  },
  {
   "cell_type": "code",
   "execution_count": 55,
   "id": "f3c76fcf-d9c2-4e47-9fdd-4adc8125bc92",
   "metadata": {},
   "outputs": [
    {
     "data": {
      "text/plain": [
       "0    Estados Unidos\n",
       "1            Brasil\n",
       "2            México\n",
       "3            Canadá\n",
       "4              Cuba\n",
       "Name: Pais, dtype: object"
      ]
     },
     "execution_count": 55,
     "metadata": {},
     "output_type": "execute_result"
    }
   ],
   "source": [
    "# Obtener una columna\n",
    "df.iloc[:,1].head()"
   ]
  },
  {
   "cell_type": "code",
   "execution_count": 56,
   "id": "be32e3cd-9ae9-4208-babb-25640e87a16f",
   "metadata": {},
   "outputs": [
    {
     "data": {
      "text/plain": [
       "0    Estados Unidos\n",
       "1            Brasil\n",
       "2            México\n",
       "3            Canadá\n",
       "4              Cuba\n",
       "Name: Pais, dtype: object"
      ]
     },
     "execution_count": 56,
     "metadata": {},
     "output_type": "execute_result"
    }
   ],
   "source": [
    "df[\"Pais\"].head()"
   ]
  },
  {
   "cell_type": "code",
   "execution_count": 57,
   "id": "e5471b32-acc7-4041-8edd-9b3abdc76db0",
   "metadata": {},
   "outputs": [
    {
     "data": {
      "text/html": [
       "<div>\n",
       "<style scoped>\n",
       "    .dataframe tbody tr th:only-of-type {\n",
       "        vertical-align: middle;\n",
       "    }\n",
       "\n",
       "    .dataframe tbody tr th {\n",
       "        vertical-align: top;\n",
       "    }\n",
       "\n",
       "    .dataframe thead th {\n",
       "        text-align: right;\n",
       "    }\n",
       "</style>\n",
       "<table border=\"1\" class=\"dataframe\">\n",
       "  <thead>\n",
       "    <tr style=\"text-align: right;\">\n",
       "      <th></th>\n",
       "      <th>Pais</th>\n",
       "      <th>Oro</th>\n",
       "      <th>Plata</th>\n",
       "    </tr>\n",
       "  </thead>\n",
       "  <tbody>\n",
       "    <tr>\n",
       "      <th>1</th>\n",
       "      <td>Brasil</td>\n",
       "      <td>55</td>\n",
       "      <td>45</td>\n",
       "    </tr>\n",
       "    <tr>\n",
       "      <th>2</th>\n",
       "      <td>México</td>\n",
       "      <td>37</td>\n",
       "      <td>36</td>\n",
       "    </tr>\n",
       "    <tr>\n",
       "      <th>3</th>\n",
       "      <td>Canadá</td>\n",
       "      <td>35</td>\n",
       "      <td>64</td>\n",
       "    </tr>\n",
       "  </tbody>\n",
       "</table>\n",
       "</div>"
      ],
      "text/plain": [
       "     Pais  Oro  Plata\n",
       "1  Brasil   55     45\n",
       "2  México   37     36\n",
       "3  Canadá   35     64"
      ]
     },
     "execution_count": 57,
     "metadata": {},
     "output_type": "execute_result"
    }
   ],
   "source": [
    "df.iloc[1:4,1:4]"
   ]
  },
  {
   "cell_type": "markdown",
   "id": "3b6e1eef-182a-4656-95d2-6cd46dcf8c91",
   "metadata": {},
   "source": [
    "### Filtros por columnas de un dataframe"
   ]
  },
  {
   "cell_type": "code",
   "execution_count": 58,
   "id": "d80a0461-e2f6-4bcf-b475-e3df55952289",
   "metadata": {},
   "outputs": [
    {
     "data": {
      "text/plain": [
       "0    Estados Unidos\n",
       "1            Brasil\n",
       "2            México\n",
       "3            Canadá\n",
       "4              Cuba\n",
       "Name: Pais, dtype: object"
      ]
     },
     "execution_count": 58,
     "metadata": {},
     "output_type": "execute_result"
    }
   ],
   "source": [
    "df[\"Pais\"].head()"
   ]
  },
  {
   "cell_type": "code",
   "execution_count": 59,
   "id": "4a580b58-9490-4a8a-b4d1-b718a8c6b61a",
   "metadata": {},
   "outputs": [
    {
     "data": {
      "text/html": [
       "<div>\n",
       "<style scoped>\n",
       "    .dataframe tbody tr th:only-of-type {\n",
       "        vertical-align: middle;\n",
       "    }\n",
       "\n",
       "    .dataframe tbody tr th {\n",
       "        vertical-align: top;\n",
       "    }\n",
       "\n",
       "    .dataframe thead th {\n",
       "        text-align: right;\n",
       "    }\n",
       "</style>\n",
       "<table border=\"1\" class=\"dataframe\">\n",
       "  <thead>\n",
       "    <tr style=\"text-align: right;\">\n",
       "      <th></th>\n",
       "      <th>Posicion</th>\n",
       "      <th>Pais</th>\n",
       "      <th>Oro</th>\n",
       "      <th>Plata</th>\n",
       "      <th>Bronce</th>\n",
       "      <th>Total</th>\n",
       "      <th>Ranking Total</th>\n",
       "    </tr>\n",
       "  </thead>\n",
       "  <tbody>\n",
       "    <tr>\n",
       "      <th>1</th>\n",
       "      <td>2</td>\n",
       "      <td>Brasil</td>\n",
       "      <td>55</td>\n",
       "      <td>45</td>\n",
       "      <td>71</td>\n",
       "      <td>171</td>\n",
       "      <td>2</td>\n",
       "    </tr>\n",
       "  </tbody>\n",
       "</table>\n",
       "</div>"
      ],
      "text/plain": [
       "   Posicion    Pais  Oro  Plata  Bronce  Total  Ranking Total\n",
       "1         2  Brasil   55     45      71    171              2"
      ]
     },
     "execution_count": 59,
     "metadata": {},
     "output_type": "execute_result"
    }
   ],
   "source": [
    "df[df['Pais'] == 'Brasil']"
   ]
  },
  {
   "cell_type": "code",
   "execution_count": 60,
   "id": "17cae93e-8887-4b16-b716-091d31e80f3a",
   "metadata": {},
   "outputs": [
    {
     "data": {
      "text/plain": [
       "Posicion           2\n",
       "Oro               55\n",
       "Plata             45\n",
       "Bronce            71\n",
       "Total            171\n",
       "Ranking Total      2\n",
       "Name: Brasil, dtype: int64"
      ]
     },
     "execution_count": 60,
     "metadata": {},
     "output_type": "execute_result"
    }
   ],
   "source": [
    "df.set_index(\"Pais\", inplace=True)\n",
    "df.loc['Brasil']"
   ]
  },
  {
   "cell_type": "code",
   "execution_count": 61,
   "id": "184032c2-7cde-4d9c-877d-e16adeb83f44",
   "metadata": {},
   "outputs": [
    {
     "data": {
      "text/html": [
       "<div>\n",
       "<style scoped>\n",
       "    .dataframe tbody tr th:only-of-type {\n",
       "        vertical-align: middle;\n",
       "    }\n",
       "\n",
       "    .dataframe tbody tr th {\n",
       "        vertical-align: top;\n",
       "    }\n",
       "\n",
       "    .dataframe thead th {\n",
       "        text-align: right;\n",
       "    }\n",
       "</style>\n",
       "<table border=\"1\" class=\"dataframe\">\n",
       "  <thead>\n",
       "    <tr style=\"text-align: right;\">\n",
       "      <th></th>\n",
       "      <th>Posicion</th>\n",
       "      <th>Oro</th>\n",
       "      <th>Plata</th>\n",
       "      <th>Bronce</th>\n",
       "      <th>Total</th>\n",
       "      <th>Ranking Total</th>\n",
       "    </tr>\n",
       "    <tr>\n",
       "      <th>Pais</th>\n",
       "      <th></th>\n",
       "      <th></th>\n",
       "      <th></th>\n",
       "      <th></th>\n",
       "      <th></th>\n",
       "      <th></th>\n",
       "    </tr>\n",
       "  </thead>\n",
       "  <tbody>\n",
       "    <tr>\n",
       "      <th>Brasil</th>\n",
       "      <td>2</td>\n",
       "      <td>55</td>\n",
       "      <td>45</td>\n",
       "      <td>71</td>\n",
       "      <td>171</td>\n",
       "      <td>2</td>\n",
       "    </tr>\n",
       "    <tr>\n",
       "      <th>Bolivia</th>\n",
       "      <td>20</td>\n",
       "      <td>1</td>\n",
       "      <td>2</td>\n",
       "      <td>2</td>\n",
       "      <td>5</td>\n",
       "      <td>18</td>\n",
       "    </tr>\n",
       "  </tbody>\n",
       "</table>\n",
       "</div>"
      ],
      "text/plain": [
       "         Posicion  Oro  Plata  Bronce  Total  Ranking Total\n",
       "Pais                                                       \n",
       "Brasil          2   55     45      71    171              2\n",
       "Bolivia        20    1      2       2      5             18"
      ]
     },
     "execution_count": 61,
     "metadata": {},
     "output_type": "execute_result"
    }
   ],
   "source": [
    "df.loc[['Brasil','Bolivia']]"
   ]
  },
  {
   "cell_type": "code",
   "execution_count": 63,
   "id": "7525f048-421f-44f1-84fb-229c3c086393",
   "metadata": {},
   "outputs": [
    {
     "data": {
      "text/html": [
       "<div>\n",
       "<style scoped>\n",
       "    .dataframe tbody tr th:only-of-type {\n",
       "        vertical-align: middle;\n",
       "    }\n",
       "\n",
       "    .dataframe tbody tr th {\n",
       "        vertical-align: top;\n",
       "    }\n",
       "\n",
       "    .dataframe thead th {\n",
       "        text-align: right;\n",
       "    }\n",
       "</style>\n",
       "<table border=\"1\" class=\"dataframe\">\n",
       "  <thead>\n",
       "    <tr style=\"text-align: right;\">\n",
       "      <th></th>\n",
       "      <th>Posicion</th>\n",
       "      <th>Plata</th>\n",
       "    </tr>\n",
       "    <tr>\n",
       "      <th>Pais</th>\n",
       "      <th></th>\n",
       "      <th></th>\n",
       "    </tr>\n",
       "  </thead>\n",
       "  <tbody>\n",
       "    <tr>\n",
       "      <th>Granada</th>\n",
       "      <td>21</td>\n",
       "      <td>1</td>\n",
       "    </tr>\n",
       "    <tr>\n",
       "      <th>Antigua y Barbuda</th>\n",
       "      <td>26</td>\n",
       "      <td>1</td>\n",
       "    </tr>\n",
       "    <tr>\n",
       "      <th>Honduras</th>\n",
       "      <td>27</td>\n",
       "      <td>1</td>\n",
       "    </tr>\n",
       "  </tbody>\n",
       "</table>\n",
       "</div>"
      ],
      "text/plain": [
       "                   Posicion  Plata\n",
       "Pais                              \n",
       "Granada                  21      1\n",
       "Antigua y Barbuda        26      1\n",
       "Honduras                 27      1"
      ]
     },
     "execution_count": 63,
     "metadata": {},
     "output_type": "execute_result"
    }
   ],
   "source": [
    "df.loc[df[\"Plata\"]==1, [\"Posicion\",\"Plata\"]]"
   ]
  },
  {
   "cell_type": "code",
   "execution_count": 67,
   "id": "ae5ad419-032d-4e86-b1c9-d6cc4f03e417",
   "metadata": {},
   "outputs": [
    {
     "data": {
      "text/html": [
       "<div>\n",
       "<style scoped>\n",
       "    .dataframe tbody tr th:only-of-type {\n",
       "        vertical-align: middle;\n",
       "    }\n",
       "\n",
       "    .dataframe tbody tr th {\n",
       "        vertical-align: top;\n",
       "    }\n",
       "\n",
       "    .dataframe thead th {\n",
       "        text-align: right;\n",
       "    }\n",
       "</style>\n",
       "<table border=\"1\" class=\"dataframe\">\n",
       "  <thead>\n",
       "    <tr style=\"text-align: right;\">\n",
       "      <th></th>\n",
       "      <th>Posicion</th>\n",
       "      <th>Plata</th>\n",
       "    </tr>\n",
       "    <tr>\n",
       "      <th>Pais</th>\n",
       "      <th></th>\n",
       "      <th></th>\n",
       "    </tr>\n",
       "  </thead>\n",
       "  <tbody>\n",
       "    <tr>\n",
       "      <th>Perú</th>\n",
       "      <td>9</td>\n",
       "      <td>7</td>\n",
       "    </tr>\n",
       "    <tr>\n",
       "      <th>Ecuador</th>\n",
       "      <td>11</td>\n",
       "      <td>7</td>\n",
       "    </tr>\n",
       "    <tr>\n",
       "      <th>Jamaica</th>\n",
       "      <td>13</td>\n",
       "      <td>6</td>\n",
       "    </tr>\n",
       "    <tr>\n",
       "      <th>Puerto Rico</th>\n",
       "      <td>14</td>\n",
       "      <td>5</td>\n",
       "    </tr>\n",
       "    <tr>\n",
       "      <th>Guatemala</th>\n",
       "      <td>16</td>\n",
       "      <td>9</td>\n",
       "    </tr>\n",
       "    <tr>\n",
       "      <th>Trinidad y Tobago</th>\n",
       "      <td>17</td>\n",
       "      <td>8</td>\n",
       "    </tr>\n",
       "  </tbody>\n",
       "</table>\n",
       "</div>"
      ],
      "text/plain": [
       "                   Posicion  Plata\n",
       "Pais                              \n",
       "Perú                      9      7\n",
       "Ecuador                  11      7\n",
       "Jamaica                  13      6\n",
       "Puerto Rico              14      5\n",
       "Guatemala                16      9\n",
       "Trinidad y Tobago        17      8"
      ]
     },
     "execution_count": 67,
     "metadata": {},
     "output_type": "execute_result"
    }
   ],
   "source": [
    "df.loc[(df[\"Plata\"]>=5) & (df[\"Plata\"]<=10) , [\"Posicion\",\"Plata\"]]"
   ]
  },
  {
   "cell_type": "markdown",
   "id": "c5b3f4b3-d8c1-48cc-a2ff-d446716e36f2",
   "metadata": {},
   "source": [
    "### Ejercicios\n",
    "\n",
    "- Obtener los paises que han obtenido mas de 10 medallas de oro\n",
    "- Obtener los 6 primeros paises con medallas de oro\n",
    "- Obtener los paises que tienen entre 10 y 20 medallas de bronce\n",
    "- Obtener las medallas de Argentina"
   ]
  },
  {
   "cell_type": "code",
   "execution_count": 86,
   "id": "00e4ebc7-2198-4351-a216-9c04565cd549",
   "metadata": {},
   "outputs": [
    {
     "data": {
      "text/html": [
       "<div>\n",
       "<style scoped>\n",
       "    .dataframe tbody tr th:only-of-type {\n",
       "        vertical-align: middle;\n",
       "    }\n",
       "\n",
       "    .dataframe tbody tr th {\n",
       "        vertical-align: top;\n",
       "    }\n",
       "\n",
       "    .dataframe thead th {\n",
       "        text-align: right;\n",
       "    }\n",
       "</style>\n",
       "<table border=\"1\" class=\"dataframe\">\n",
       "  <thead>\n",
       "    <tr style=\"text-align: right;\">\n",
       "      <th></th>\n",
       "      <th>Pais</th>\n",
       "      <th>Oro</th>\n",
       "    </tr>\n",
       "  </thead>\n",
       "  <tbody>\n",
       "    <tr>\n",
       "      <th>0</th>\n",
       "      <td>Estados Unidos</td>\n",
       "      <td>120</td>\n",
       "    </tr>\n",
       "    <tr>\n",
       "      <th>1</th>\n",
       "      <td>Brasil</td>\n",
       "      <td>55</td>\n",
       "    </tr>\n",
       "    <tr>\n",
       "      <th>2</th>\n",
       "      <td>México</td>\n",
       "      <td>37</td>\n",
       "    </tr>\n",
       "    <tr>\n",
       "      <th>3</th>\n",
       "      <td>Canadá</td>\n",
       "      <td>35</td>\n",
       "    </tr>\n",
       "    <tr>\n",
       "      <th>4</th>\n",
       "      <td>Cuba</td>\n",
       "      <td>33</td>\n",
       "    </tr>\n",
       "    <tr>\n",
       "      <th>5</th>\n",
       "      <td>Argentina</td>\n",
       "      <td>32</td>\n",
       "    </tr>\n",
       "    <tr>\n",
       "      <th>6</th>\n",
       "      <td>Colombia</td>\n",
       "      <td>28</td>\n",
       "    </tr>\n",
       "    <tr>\n",
       "      <th>7</th>\n",
       "      <td>Chile</td>\n",
       "      <td>13</td>\n",
       "    </tr>\n",
       "    <tr>\n",
       "      <th>8</th>\n",
       "      <td>Perú</td>\n",
       "      <td>11</td>\n",
       "    </tr>\n",
       "  </tbody>\n",
       "</table>\n",
       "</div>"
      ],
      "text/plain": [
       "             Pais  Oro\n",
       "0  Estados Unidos  120\n",
       "1          Brasil   55\n",
       "2          México   37\n",
       "3          Canadá   35\n",
       "4            Cuba   33\n",
       "5       Argentina   32\n",
       "6        Colombia   28\n",
       "7           Chile   13\n",
       "8            Perú   11"
      ]
     },
     "execution_count": 86,
     "metadata": {},
     "output_type": "execute_result"
    }
   ],
   "source": [
    "df.loc[df[\"Oro\"]>10 , [\"Pais\",\"Oro\"]]"
   ]
  },
  {
   "cell_type": "code",
   "execution_count": 88,
   "id": "e87084e7-d394-441c-9b4a-abbca472b7e0",
   "metadata": {},
   "outputs": [
    {
     "data": {
      "text/html": [
       "<div>\n",
       "<style scoped>\n",
       "    .dataframe tbody tr th:only-of-type {\n",
       "        vertical-align: middle;\n",
       "    }\n",
       "\n",
       "    .dataframe tbody tr th {\n",
       "        vertical-align: top;\n",
       "    }\n",
       "\n",
       "    .dataframe thead th {\n",
       "        text-align: right;\n",
       "    }\n",
       "</style>\n",
       "<table border=\"1\" class=\"dataframe\">\n",
       "  <thead>\n",
       "    <tr style=\"text-align: right;\">\n",
       "      <th></th>\n",
       "      <th>Posicion</th>\n",
       "      <th>Pais</th>\n",
       "      <th>Oro</th>\n",
       "      <th>Plata</th>\n",
       "      <th>Bronce</th>\n",
       "      <th>Total</th>\n",
       "      <th>Ranking Total</th>\n",
       "    </tr>\n",
       "  </thead>\n",
       "  <tbody>\n",
       "    <tr>\n",
       "      <th>0</th>\n",
       "      <td>1</td>\n",
       "      <td>Estados Unidos</td>\n",
       "      <td>120</td>\n",
       "      <td>88</td>\n",
       "      <td>85</td>\n",
       "      <td>293</td>\n",
       "      <td>1</td>\n",
       "    </tr>\n",
       "    <tr>\n",
       "      <th>1</th>\n",
       "      <td>2</td>\n",
       "      <td>Brasil</td>\n",
       "      <td>55</td>\n",
       "      <td>45</td>\n",
       "      <td>71</td>\n",
       "      <td>171</td>\n",
       "      <td>2</td>\n",
       "    </tr>\n",
       "    <tr>\n",
       "      <th>2</th>\n",
       "      <td>3</td>\n",
       "      <td>México</td>\n",
       "      <td>37</td>\n",
       "      <td>36</td>\n",
       "      <td>63</td>\n",
       "      <td>136</td>\n",
       "      <td>4</td>\n",
       "    </tr>\n",
       "    <tr>\n",
       "      <th>3</th>\n",
       "      <td>4</td>\n",
       "      <td>Canadá</td>\n",
       "      <td>35</td>\n",
       "      <td>64</td>\n",
       "      <td>53</td>\n",
       "      <td>152</td>\n",
       "      <td>3</td>\n",
       "    </tr>\n",
       "    <tr>\n",
       "      <th>4</th>\n",
       "      <td>5</td>\n",
       "      <td>Cuba</td>\n",
       "      <td>33</td>\n",
       "      <td>27</td>\n",
       "      <td>38</td>\n",
       "      <td>98</td>\n",
       "      <td>6</td>\n",
       "    </tr>\n",
       "    <tr>\n",
       "      <th>5</th>\n",
       "      <td>6</td>\n",
       "      <td>Argentina</td>\n",
       "      <td>32</td>\n",
       "      <td>35</td>\n",
       "      <td>34</td>\n",
       "      <td>101</td>\n",
       "      <td>5</td>\n",
       "    </tr>\n",
       "  </tbody>\n",
       "</table>\n",
       "</div>"
      ],
      "text/plain": [
       "   Posicion            Pais  Oro  Plata  Bronce  Total  Ranking Total\n",
       "0         1  Estados Unidos  120     88      85    293              1\n",
       "1         2          Brasil   55     45      71    171              2\n",
       "2         3          México   37     36      63    136              4\n",
       "3         4          Canadá   35     64      53    152              3\n",
       "4         5            Cuba   33     27      38     98              6\n",
       "5         6       Argentina   32     35      34    101              5"
      ]
     },
     "execution_count": 88,
     "metadata": {},
     "output_type": "execute_result"
    }
   ],
   "source": [
    "df.head(6)"
   ]
  },
  {
   "cell_type": "code",
   "execution_count": 89,
   "id": "fb3d1e30-9058-43a6-99d2-c8d58b303221",
   "metadata": {},
   "outputs": [
    {
     "data": {
      "text/html": [
       "<div>\n",
       "<style scoped>\n",
       "    .dataframe tbody tr th:only-of-type {\n",
       "        vertical-align: middle;\n",
       "    }\n",
       "\n",
       "    .dataframe tbody tr th {\n",
       "        vertical-align: top;\n",
       "    }\n",
       "\n",
       "    .dataframe thead th {\n",
       "        text-align: right;\n",
       "    }\n",
       "</style>\n",
       "<table border=\"1\" class=\"dataframe\">\n",
       "  <thead>\n",
       "    <tr style=\"text-align: right;\">\n",
       "      <th></th>\n",
       "      <th>Posicion</th>\n",
       "      <th>Pais</th>\n",
       "      <th>Oro</th>\n",
       "      <th>Plata</th>\n",
       "      <th>Bronce</th>\n",
       "      <th>Total</th>\n",
       "      <th>Ranking Total</th>\n",
       "    </tr>\n",
       "  </thead>\n",
       "  <tbody>\n",
       "    <tr>\n",
       "      <th>26</th>\n",
       "      <td>27</td>\n",
       "      <td>Honduras</td>\n",
       "      <td>0</td>\n",
       "      <td>1</td>\n",
       "      <td>1</td>\n",
       "      <td>2</td>\n",
       "      <td>25</td>\n",
       "    </tr>\n",
       "    <tr>\n",
       "      <th>27</th>\n",
       "      <td>28</td>\n",
       "      <td>Panamá</td>\n",
       "      <td>0</td>\n",
       "      <td>0</td>\n",
       "      <td>4</td>\n",
       "      <td>4</td>\n",
       "      <td>21</td>\n",
       "    </tr>\n",
       "    <tr>\n",
       "      <th>28</th>\n",
       "      <td>29</td>\n",
       "      <td>Nicaragua</td>\n",
       "      <td>0</td>\n",
       "      <td>0</td>\n",
       "      <td>3</td>\n",
       "      <td>3</td>\n",
       "      <td>23</td>\n",
       "    </tr>\n",
       "    <tr>\n",
       "      <th>29</th>\n",
       "      <td>30</td>\n",
       "      <td>Aruba</td>\n",
       "      <td>0</td>\n",
       "      <td>0</td>\n",
       "      <td>1</td>\n",
       "      <td>1</td>\n",
       "      <td>28</td>\n",
       "    </tr>\n",
       "    <tr>\n",
       "      <th>30</th>\n",
       "      <td>30</td>\n",
       "      <td>Bahamas</td>\n",
       "      <td>0</td>\n",
       "      <td>0</td>\n",
       "      <td>1</td>\n",
       "      <td>1</td>\n",
       "      <td>28</td>\n",
       "    </tr>\n",
       "  </tbody>\n",
       "</table>\n",
       "</div>"
      ],
      "text/plain": [
       "    Posicion       Pais  Oro  Plata  Bronce  Total  Ranking Total\n",
       "26        27   Honduras    0      1       1      2             25\n",
       "27        28     Panamá    0      0       4      4             21\n",
       "28        29  Nicaragua    0      0       3      3             23\n",
       "29        30      Aruba    0      0       1      1             28\n",
       "30        30    Bahamas    0      0       1      1             28"
      ]
     },
     "execution_count": 89,
     "metadata": {},
     "output_type": "execute_result"
    }
   ],
   "source": [
    "df.tail()"
   ]
  },
  {
   "cell_type": "code",
   "execution_count": 90,
   "id": "dc487279-e216-4523-b8ac-47fa00583498",
   "metadata": {},
   "outputs": [
    {
     "data": {
      "text/html": [
       "<div>\n",
       "<style scoped>\n",
       "    .dataframe tbody tr th:only-of-type {\n",
       "        vertical-align: middle;\n",
       "    }\n",
       "\n",
       "    .dataframe tbody tr th {\n",
       "        vertical-align: top;\n",
       "    }\n",
       "\n",
       "    .dataframe thead th {\n",
       "        text-align: right;\n",
       "    }\n",
       "</style>\n",
       "<table border=\"1\" class=\"dataframe\">\n",
       "  <thead>\n",
       "    <tr style=\"text-align: right;\">\n",
       "      <th></th>\n",
       "      <th>Posicion</th>\n",
       "      <th>Pais</th>\n",
       "      <th>Oro</th>\n",
       "      <th>Plata</th>\n",
       "      <th>Bronce</th>\n",
       "      <th>Total</th>\n",
       "      <th>Ranking Total</th>\n",
       "    </tr>\n",
       "  </thead>\n",
       "  <tbody>\n",
       "    <tr>\n",
       "      <th>5</th>\n",
       "      <td>6</td>\n",
       "      <td>Argentina</td>\n",
       "      <td>32</td>\n",
       "      <td>35</td>\n",
       "      <td>34</td>\n",
       "      <td>101</td>\n",
       "      <td>5</td>\n",
       "    </tr>\n",
       "  </tbody>\n",
       "</table>\n",
       "</div>"
      ],
      "text/plain": [
       "   Posicion       Pais  Oro  Plata  Bronce  Total  Ranking Total\n",
       "5         6  Argentina   32     35      34    101              5"
      ]
     },
     "execution_count": 90,
     "metadata": {},
     "output_type": "execute_result"
    }
   ],
   "source": [
    "df[df['Pais']=='Argentina']"
   ]
  },
  {
   "cell_type": "code",
   "execution_count": 91,
   "id": "8f4e2477-4e02-40af-9374-a84ba6ecd47f",
   "metadata": {},
   "outputs": [
    {
     "data": {
      "text/html": [
       "<div>\n",
       "<style scoped>\n",
       "    .dataframe tbody tr th:only-of-type {\n",
       "        vertical-align: middle;\n",
       "    }\n",
       "\n",
       "    .dataframe tbody tr th {\n",
       "        vertical-align: top;\n",
       "    }\n",
       "\n",
       "    .dataframe thead th {\n",
       "        text-align: right;\n",
       "    }\n",
       "</style>\n",
       "<table border=\"1\" class=\"dataframe\">\n",
       "  <thead>\n",
       "    <tr style=\"text-align: right;\">\n",
       "      <th></th>\n",
       "      <th>Posicion</th>\n",
       "      <th>Pais</th>\n",
       "      <th>Oro</th>\n",
       "      <th>Plata</th>\n",
       "      <th>Bronce</th>\n",
       "      <th>Total</th>\n",
       "      <th>Ranking Total</th>\n",
       "    </tr>\n",
       "  </thead>\n",
       "  <tbody>\n",
       "    <tr>\n",
       "      <th>0</th>\n",
       "      <td>1</td>\n",
       "      <td>Estados Unidos</td>\n",
       "      <td>120</td>\n",
       "      <td>88</td>\n",
       "      <td>85</td>\n",
       "      <td>293</td>\n",
       "      <td>1</td>\n",
       "    </tr>\n",
       "    <tr>\n",
       "      <th>1</th>\n",
       "      <td>2</td>\n",
       "      <td>Brasil</td>\n",
       "      <td>55</td>\n",
       "      <td>45</td>\n",
       "      <td>71</td>\n",
       "      <td>171</td>\n",
       "      <td>2</td>\n",
       "    </tr>\n",
       "  </tbody>\n",
       "</table>\n",
       "</div>"
      ],
      "text/plain": [
       "   Posicion            Pais  Oro  Plata  Bronce  Total  Ranking Total\n",
       "0         1  Estados Unidos  120     88      85    293              1\n",
       "1         2          Brasil   55     45      71    171              2"
      ]
     },
     "execution_count": 91,
     "metadata": {},
     "output_type": "execute_result"
    }
   ],
   "source": [
    "import pandas as pd\n",
    "\n",
    "# Lectura de archivos\n",
    "\n",
    "nombre_archivo = \"medallero_Panamericanos_Lima2019.csv\"\n",
    "\n",
    "df = pd.read_csv(nombre_archivo)\n",
    "\n",
    "df.head(2)"
   ]
  },
  {
   "cell_type": "code",
   "execution_count": 100,
   "id": "f37411bd-e23b-4a92-bfb7-29470bbf0d53",
   "metadata": {},
   "outputs": [
    {
     "data": {
      "text/html": [
       "<div>\n",
       "<style scoped>\n",
       "    .dataframe tbody tr th:only-of-type {\n",
       "        vertical-align: middle;\n",
       "    }\n",
       "\n",
       "    .dataframe tbody tr th {\n",
       "        vertical-align: top;\n",
       "    }\n",
       "\n",
       "    .dataframe thead th {\n",
       "        text-align: right;\n",
       "    }\n",
       "</style>\n",
       "<table border=\"1\" class=\"dataframe\">\n",
       "  <thead>\n",
       "    <tr style=\"text-align: right;\">\n",
       "      <th></th>\n",
       "      <th>Posicion</th>\n",
       "      <th>Pais</th>\n",
       "      <th>Gold</th>\n",
       "      <th>Silver</th>\n",
       "      <th>Bronce</th>\n",
       "      <th>Total</th>\n",
       "      <th>Ranking Total</th>\n",
       "    </tr>\n",
       "  </thead>\n",
       "  <tbody>\n",
       "    <tr>\n",
       "      <th>0</th>\n",
       "      <td>1</td>\n",
       "      <td>Estados Unidos</td>\n",
       "      <td>120</td>\n",
       "      <td>88</td>\n",
       "      <td>85</td>\n",
       "      <td>293</td>\n",
       "      <td>1</td>\n",
       "    </tr>\n",
       "    <tr>\n",
       "      <th>1</th>\n",
       "      <td>2</td>\n",
       "      <td>Brasil</td>\n",
       "      <td>55</td>\n",
       "      <td>45</td>\n",
       "      <td>71</td>\n",
       "      <td>171</td>\n",
       "      <td>2</td>\n",
       "    </tr>\n",
       "    <tr>\n",
       "      <th>2</th>\n",
       "      <td>3</td>\n",
       "      <td>México</td>\n",
       "      <td>37</td>\n",
       "      <td>36</td>\n",
       "      <td>63</td>\n",
       "      <td>136</td>\n",
       "      <td>4</td>\n",
       "    </tr>\n",
       "    <tr>\n",
       "      <th>3</th>\n",
       "      <td>4</td>\n",
       "      <td>Canadá</td>\n",
       "      <td>35</td>\n",
       "      <td>64</td>\n",
       "      <td>53</td>\n",
       "      <td>152</td>\n",
       "      <td>3</td>\n",
       "    </tr>\n",
       "    <tr>\n",
       "      <th>4</th>\n",
       "      <td>5</td>\n",
       "      <td>Cuba</td>\n",
       "      <td>33</td>\n",
       "      <td>27</td>\n",
       "      <td>38</td>\n",
       "      <td>98</td>\n",
       "      <td>6</td>\n",
       "    </tr>\n",
       "  </tbody>\n",
       "</table>\n",
       "</div>"
      ],
      "text/plain": [
       "   Posicion            Pais  Gold  Silver  Bronce  Total  Ranking Total\n",
       "0         1  Estados Unidos   120      88      85    293              1\n",
       "1         2          Brasil    55      45      71    171              2\n",
       "2         3          México    37      36      63    136              4\n",
       "3         4          Canadá    35      64      53    152              3\n",
       "4         5            Cuba    33      27      38     98              6"
      ]
     },
     "execution_count": 100,
     "metadata": {},
     "output_type": "execute_result"
    }
   ],
   "source": [
    "#df.rename(columns={\"Oro\":\"Primero\"}, inplace=True)\n",
    "df_copy = df.rename(columns={\"Oro\":\"Gold\",\"Plata\":\"Silver\"})\n",
    "df_copy.head()"
   ]
  },
  {
   "cell_type": "markdown",
   "id": "cab08dd9-6ed8-42c0-a583-14952084ec6a",
   "metadata": {},
   "source": [
    "### Operaciones sobre columnas"
   ]
  },
  {
   "cell_type": "code",
   "execution_count": 105,
   "id": "068fc474-df7c-4a88-82bd-477997a0351c",
   "metadata": {},
   "outputs": [
    {
     "data": {
      "text/plain": [
       "0    283\n",
       "1    161\n",
       "2    126\n",
       "3    142\n",
       "4     88\n",
       "Name: Total, dtype: int64"
      ]
     },
     "execution_count": 105,
     "metadata": {},
     "output_type": "execute_result"
    }
   ],
   "source": [
    "(df['Total'] - 10).head()"
   ]
  },
  {
   "cell_type": "code",
   "execution_count": 107,
   "id": "9d179b88-7043-4857-993f-632f7a0f595d",
   "metadata": {},
   "outputs": [
    {
     "data": {
      "text/plain": [
       "0    283\n",
       "1    161\n",
       "2    126\n",
       "3    142\n",
       "4     88\n",
       "Name: Total, dtype: int64"
      ]
     },
     "execution_count": 107,
     "metadata": {},
     "output_type": "execute_result"
    }
   ],
   "source": [
    "(df['Total'].apply(lambda x : x - 10)).head()"
   ]
  },
  {
   "cell_type": "code",
   "execution_count": 108,
   "id": "a23a16e7-f87d-4f7a-b3a4-55b18ff900e0",
   "metadata": {},
   "outputs": [
    {
     "data": {
      "text/plain": [
       "0    283\n",
       "1    161\n",
       "2    126\n",
       "3    142\n",
       "4     88\n",
       "Name: Total, dtype: int64"
      ]
     },
     "execution_count": 108,
     "metadata": {},
     "output_type": "execute_result"
    }
   ],
   "source": [
    "def func_fix(x):\n",
    "    return x - 10\n",
    "\n",
    "(df['Total'].apply(func_fix)).head()"
   ]
  },
  {
   "cell_type": "markdown",
   "id": "0b018cf3-f7ef-4df6-9725-cd6b44b55831",
   "metadata": {},
   "source": [
    "### Agregar y eliminar columnas en un data frame"
   ]
  },
  {
   "cell_type": "code",
   "execution_count": 109,
   "id": "7efd9fea-5049-4266-9c29-154a6d2a12b4",
   "metadata": {},
   "outputs": [
    {
     "data": {
      "text/html": [
       "<div>\n",
       "<style scoped>\n",
       "    .dataframe tbody tr th:only-of-type {\n",
       "        vertical-align: middle;\n",
       "    }\n",
       "\n",
       "    .dataframe tbody tr th {\n",
       "        vertical-align: top;\n",
       "    }\n",
       "\n",
       "    .dataframe thead th {\n",
       "        text-align: right;\n",
       "    }\n",
       "</style>\n",
       "<table border=\"1\" class=\"dataframe\">\n",
       "  <thead>\n",
       "    <tr style=\"text-align: right;\">\n",
       "      <th></th>\n",
       "      <th>Posicion</th>\n",
       "      <th>Pais</th>\n",
       "      <th>Oro</th>\n",
       "      <th>Plata</th>\n",
       "      <th>Bronce</th>\n",
       "      <th>Total</th>\n",
       "      <th>Ranking Total</th>\n",
       "    </tr>\n",
       "  </thead>\n",
       "  <tbody>\n",
       "    <tr>\n",
       "      <th>0</th>\n",
       "      <td>1</td>\n",
       "      <td>Estados Unidos</td>\n",
       "      <td>120</td>\n",
       "      <td>88</td>\n",
       "      <td>85</td>\n",
       "      <td>293</td>\n",
       "      <td>1</td>\n",
       "    </tr>\n",
       "    <tr>\n",
       "      <th>1</th>\n",
       "      <td>2</td>\n",
       "      <td>Brasil</td>\n",
       "      <td>55</td>\n",
       "      <td>45</td>\n",
       "      <td>71</td>\n",
       "      <td>171</td>\n",
       "      <td>2</td>\n",
       "    </tr>\n",
       "  </tbody>\n",
       "</table>\n",
       "</div>"
      ],
      "text/plain": [
       "   Posicion            Pais  Oro  Plata  Bronce  Total  Ranking Total\n",
       "0         1  Estados Unidos  120     88      85    293              1\n",
       "1         2          Brasil   55     45      71    171              2"
      ]
     },
     "execution_count": 109,
     "metadata": {},
     "output_type": "execute_result"
    }
   ],
   "source": [
    "import pandas as pd\n",
    "\n",
    "# Lectura de archivos\n",
    "\n",
    "nombre_archivo = \"medallero_Panamericanos_Lima2019.csv\"\n",
    "\n",
    "df = pd.read_csv(nombre_archivo)\n",
    "\n",
    "df.head(2)"
   ]
  },
  {
   "cell_type": "code",
   "execution_count": 112,
   "id": "1450ba57-82f8-473a-a858-601d738eb2d7",
   "metadata": {},
   "outputs": [
    {
     "data": {
      "text/html": [
       "<div>\n",
       "<style scoped>\n",
       "    .dataframe tbody tr th:only-of-type {\n",
       "        vertical-align: middle;\n",
       "    }\n",
       "\n",
       "    .dataframe tbody tr th {\n",
       "        vertical-align: top;\n",
       "    }\n",
       "\n",
       "    .dataframe thead th {\n",
       "        text-align: right;\n",
       "    }\n",
       "</style>\n",
       "<table border=\"1\" class=\"dataframe\">\n",
       "  <thead>\n",
       "    <tr style=\"text-align: right;\">\n",
       "      <th></th>\n",
       "      <th>Pais</th>\n",
       "      <th>Oro</th>\n",
       "    </tr>\n",
       "  </thead>\n",
       "  <tbody>\n",
       "    <tr>\n",
       "      <th>0</th>\n",
       "      <td>Estados Unidos</td>\n",
       "      <td>120</td>\n",
       "    </tr>\n",
       "    <tr>\n",
       "      <th>1</th>\n",
       "      <td>Brasil</td>\n",
       "      <td>55</td>\n",
       "    </tr>\n",
       "  </tbody>\n",
       "</table>\n",
       "</div>"
      ],
      "text/plain": [
       "             Pais  Oro\n",
       "0  Estados Unidos  120\n",
       "1          Brasil   55"
      ]
     },
     "execution_count": 112,
     "metadata": {},
     "output_type": "execute_result"
    }
   ],
   "source": [
    "df2 = df[['Pais','Oro']]\n",
    "\n",
    "df2.head(2)"
   ]
  },
  {
   "cell_type": "code",
   "execution_count": 113,
   "id": "fe6d3dd5-8e1e-4c5d-8490-847ba56fab60",
   "metadata": {},
   "outputs": [
    {
     "data": {
      "text/html": [
       "<div>\n",
       "<style scoped>\n",
       "    .dataframe tbody tr th:only-of-type {\n",
       "        vertical-align: middle;\n",
       "    }\n",
       "\n",
       "    .dataframe tbody tr th {\n",
       "        vertical-align: top;\n",
       "    }\n",
       "\n",
       "    .dataframe thead th {\n",
       "        text-align: right;\n",
       "    }\n",
       "</style>\n",
       "<table border=\"1\" class=\"dataframe\">\n",
       "  <thead>\n",
       "    <tr style=\"text-align: right;\">\n",
       "      <th></th>\n",
       "      <th>Posicion</th>\n",
       "      <th>Pais</th>\n",
       "      <th>Oro</th>\n",
       "      <th>Bronce</th>\n",
       "      <th>Total</th>\n",
       "      <th>Ranking Total</th>\n",
       "    </tr>\n",
       "  </thead>\n",
       "  <tbody>\n",
       "    <tr>\n",
       "      <th>0</th>\n",
       "      <td>1</td>\n",
       "      <td>Estados Unidos</td>\n",
       "      <td>120</td>\n",
       "      <td>85</td>\n",
       "      <td>293</td>\n",
       "      <td>1</td>\n",
       "    </tr>\n",
       "    <tr>\n",
       "      <th>1</th>\n",
       "      <td>2</td>\n",
       "      <td>Brasil</td>\n",
       "      <td>55</td>\n",
       "      <td>71</td>\n",
       "      <td>171</td>\n",
       "      <td>2</td>\n",
       "    </tr>\n",
       "  </tbody>\n",
       "</table>\n",
       "</div>"
      ],
      "text/plain": [
       "   Posicion            Pais  Oro  Bronce  Total  Ranking Total\n",
       "0         1  Estados Unidos  120      85    293              1\n",
       "1         2          Brasil   55      71    171              2"
      ]
     },
     "execution_count": 113,
     "metadata": {},
     "output_type": "execute_result"
    }
   ],
   "source": [
    "# Eliminar\n",
    "df.pop(\"Plata\")\n",
    "\n",
    "df.head(2)"
   ]
  },
  {
   "cell_type": "code",
   "execution_count": 116,
   "id": "fa4c13f3-8a38-442d-8301-bef372082bdb",
   "metadata": {},
   "outputs": [
    {
     "data": {
      "text/html": [
       "<div>\n",
       "<style scoped>\n",
       "    .dataframe tbody tr th:only-of-type {\n",
       "        vertical-align: middle;\n",
       "    }\n",
       "\n",
       "    .dataframe tbody tr th {\n",
       "        vertical-align: top;\n",
       "    }\n",
       "\n",
       "    .dataframe thead th {\n",
       "        text-align: right;\n",
       "    }\n",
       "</style>\n",
       "<table border=\"1\" class=\"dataframe\">\n",
       "  <thead>\n",
       "    <tr style=\"text-align: right;\">\n",
       "      <th></th>\n",
       "      <th>Posicion</th>\n",
       "      <th>Pais</th>\n",
       "      <th>Oro</th>\n",
       "      <th>Bronce</th>\n",
       "      <th>Total</th>\n",
       "      <th>Ranking Total</th>\n",
       "      <th>Observacion</th>\n",
       "    </tr>\n",
       "  </thead>\n",
       "  <tbody>\n",
       "    <tr>\n",
       "      <th>0</th>\n",
       "      <td>1</td>\n",
       "      <td>Estados Unidos</td>\n",
       "      <td>120</td>\n",
       "      <td>85</td>\n",
       "      <td>293</td>\n",
       "      <td>1</td>\n",
       "      <td></td>\n",
       "    </tr>\n",
       "    <tr>\n",
       "      <th>1</th>\n",
       "      <td>2</td>\n",
       "      <td>Brasil</td>\n",
       "      <td>55</td>\n",
       "      <td>71</td>\n",
       "      <td>171</td>\n",
       "      <td>2</td>\n",
       "      <td></td>\n",
       "    </tr>\n",
       "    <tr>\n",
       "      <th>2</th>\n",
       "      <td>3</td>\n",
       "      <td>México</td>\n",
       "      <td>37</td>\n",
       "      <td>63</td>\n",
       "      <td>136</td>\n",
       "      <td>4</td>\n",
       "      <td></td>\n",
       "    </tr>\n",
       "    <tr>\n",
       "      <th>3</th>\n",
       "      <td>4</td>\n",
       "      <td>Canadá</td>\n",
       "      <td>35</td>\n",
       "      <td>53</td>\n",
       "      <td>152</td>\n",
       "      <td>3</td>\n",
       "      <td></td>\n",
       "    </tr>\n",
       "    <tr>\n",
       "      <th>4</th>\n",
       "      <td>5</td>\n",
       "      <td>Cuba</td>\n",
       "      <td>33</td>\n",
       "      <td>38</td>\n",
       "      <td>98</td>\n",
       "      <td>6</td>\n",
       "      <td></td>\n",
       "    </tr>\n",
       "  </tbody>\n",
       "</table>\n",
       "</div>"
      ],
      "text/plain": [
       "   Posicion            Pais  Oro  Bronce  Total  Ranking Total Observacion\n",
       "0         1  Estados Unidos  120      85    293              1            \n",
       "1         2          Brasil   55      71    171              2            \n",
       "2         3          México   37      63    136              4            \n",
       "3         4          Canadá   35      53    152              3            \n",
       "4         5            Cuba   33      38     98              6            "
      ]
     },
     "execution_count": 116,
     "metadata": {},
     "output_type": "execute_result"
    }
   ],
   "source": [
    "# Crear una nueva columna\n",
    "df['Observacion'] = ''\n",
    "df.head(5)"
   ]
  },
  {
   "cell_type": "markdown",
   "id": "7caf1496-b4aa-4d7c-9bfb-90787de76783",
   "metadata": {},
   "source": [
    "### Agregar y eliminar filas en un data frame"
   ]
  },
  {
   "cell_type": "code",
   "execution_count": 118,
   "id": "e6f7bd08-3773-473d-98cd-6cedd2a51688",
   "metadata": {},
   "outputs": [
    {
     "data": {
      "text/html": [
       "<div>\n",
       "<style scoped>\n",
       "    .dataframe tbody tr th:only-of-type {\n",
       "        vertical-align: middle;\n",
       "    }\n",
       "\n",
       "    .dataframe tbody tr th {\n",
       "        vertical-align: top;\n",
       "    }\n",
       "\n",
       "    .dataframe thead th {\n",
       "        text-align: right;\n",
       "    }\n",
       "</style>\n",
       "<table border=\"1\" class=\"dataframe\">\n",
       "  <thead>\n",
       "    <tr style=\"text-align: right;\">\n",
       "      <th></th>\n",
       "      <th>Posicion</th>\n",
       "      <th>Pais</th>\n",
       "      <th>Oro</th>\n",
       "      <th>Bronce</th>\n",
       "      <th>Total</th>\n",
       "      <th>Ranking Total</th>\n",
       "      <th>Observacion</th>\n",
       "    </tr>\n",
       "  </thead>\n",
       "  <tbody>\n",
       "    <tr>\n",
       "      <th>0</th>\n",
       "      <td>1</td>\n",
       "      <td>Estados Unidos</td>\n",
       "      <td>120</td>\n",
       "      <td>85</td>\n",
       "      <td>293</td>\n",
       "      <td>1</td>\n",
       "      <td></td>\n",
       "    </tr>\n",
       "    <tr>\n",
       "      <th>1</th>\n",
       "      <td>2</td>\n",
       "      <td>Brasil</td>\n",
       "      <td>55</td>\n",
       "      <td>71</td>\n",
       "      <td>171</td>\n",
       "      <td>2</td>\n",
       "      <td></td>\n",
       "    </tr>\n",
       "    <tr>\n",
       "      <th>4</th>\n",
       "      <td>5</td>\n",
       "      <td>Cuba</td>\n",
       "      <td>33</td>\n",
       "      <td>38</td>\n",
       "      <td>98</td>\n",
       "      <td>6</td>\n",
       "      <td></td>\n",
       "    </tr>\n",
       "    <tr>\n",
       "      <th>5</th>\n",
       "      <td>6</td>\n",
       "      <td>Argentina</td>\n",
       "      <td>32</td>\n",
       "      <td>34</td>\n",
       "      <td>101</td>\n",
       "      <td>5</td>\n",
       "      <td></td>\n",
       "    </tr>\n",
       "    <tr>\n",
       "      <th>6</th>\n",
       "      <td>7</td>\n",
       "      <td>Colombia</td>\n",
       "      <td>28</td>\n",
       "      <td>33</td>\n",
       "      <td>84</td>\n",
       "      <td>7</td>\n",
       "      <td></td>\n",
       "    </tr>\n",
       "  </tbody>\n",
       "</table>\n",
       "</div>"
      ],
      "text/plain": [
       "   Posicion            Pais  Oro  Bronce  Total  Ranking Total Observacion\n",
       "0         1  Estados Unidos  120      85    293              1            \n",
       "1         2          Brasil   55      71    171              2            \n",
       "4         5            Cuba   33      38     98              6            \n",
       "5         6       Argentina   32      34    101              5            \n",
       "6         7        Colombia   28      33     84              7            "
      ]
     },
     "execution_count": 118,
     "metadata": {},
     "output_type": "execute_result"
    }
   ],
   "source": [
    "df.drop([2,3], inplace=True) # Elimino Mexico y Canada\n",
    "df.head(5)"
   ]
  },
  {
   "cell_type": "markdown",
   "id": "d3602a0f-3497-46bf-8df1-7dff6d6079f9",
   "metadata": {},
   "source": [
    "### Ordenar por columnas"
   ]
  },
  {
   "cell_type": "code",
   "execution_count": 119,
   "id": "0df83f03-f9c0-4975-9a6d-2a372088a4c8",
   "metadata": {},
   "outputs": [
    {
     "data": {
      "text/html": [
       "<div>\n",
       "<style scoped>\n",
       "    .dataframe tbody tr th:only-of-type {\n",
       "        vertical-align: middle;\n",
       "    }\n",
       "\n",
       "    .dataframe tbody tr th {\n",
       "        vertical-align: top;\n",
       "    }\n",
       "\n",
       "    .dataframe thead th {\n",
       "        text-align: right;\n",
       "    }\n",
       "</style>\n",
       "<table border=\"1\" class=\"dataframe\">\n",
       "  <thead>\n",
       "    <tr style=\"text-align: right;\">\n",
       "      <th></th>\n",
       "      <th>Posicion</th>\n",
       "      <th>Pais</th>\n",
       "      <th>Oro</th>\n",
       "      <th>Plata</th>\n",
       "      <th>Bronce</th>\n",
       "      <th>Total</th>\n",
       "      <th>Ranking Total</th>\n",
       "    </tr>\n",
       "  </thead>\n",
       "  <tbody>\n",
       "    <tr>\n",
       "      <th>0</th>\n",
       "      <td>1</td>\n",
       "      <td>Estados Unidos</td>\n",
       "      <td>120</td>\n",
       "      <td>88</td>\n",
       "      <td>85</td>\n",
       "      <td>293</td>\n",
       "      <td>1</td>\n",
       "    </tr>\n",
       "    <tr>\n",
       "      <th>1</th>\n",
       "      <td>2</td>\n",
       "      <td>Brasil</td>\n",
       "      <td>55</td>\n",
       "      <td>45</td>\n",
       "      <td>71</td>\n",
       "      <td>171</td>\n",
       "      <td>2</td>\n",
       "    </tr>\n",
       "  </tbody>\n",
       "</table>\n",
       "</div>"
      ],
      "text/plain": [
       "   Posicion            Pais  Oro  Plata  Bronce  Total  Ranking Total\n",
       "0         1  Estados Unidos  120     88      85    293              1\n",
       "1         2          Brasil   55     45      71    171              2"
      ]
     },
     "execution_count": 119,
     "metadata": {},
     "output_type": "execute_result"
    }
   ],
   "source": [
    "import pandas as pd\n",
    "\n",
    "# Lectura de archivos\n",
    "nombre_archivo = \"medallero_Panamericanos_Lima2019.csv\"\n",
    "df = pd.read_csv(nombre_archivo)\n",
    "\n",
    "df.head(2)"
   ]
  },
  {
   "cell_type": "code",
   "execution_count": 122,
   "id": "f217ec60-ea49-43bc-a0cc-9c1a8eb85c74",
   "metadata": {},
   "outputs": [
    {
     "data": {
      "text/html": [
       "<div>\n",
       "<style scoped>\n",
       "    .dataframe tbody tr th:only-of-type {\n",
       "        vertical-align: middle;\n",
       "    }\n",
       "\n",
       "    .dataframe tbody tr th {\n",
       "        vertical-align: top;\n",
       "    }\n",
       "\n",
       "    .dataframe thead th {\n",
       "        text-align: right;\n",
       "    }\n",
       "</style>\n",
       "<table border=\"1\" class=\"dataframe\">\n",
       "  <thead>\n",
       "    <tr style=\"text-align: right;\">\n",
       "      <th></th>\n",
       "      <th>Posicion</th>\n",
       "      <th>Pais</th>\n",
       "      <th>Oro</th>\n",
       "      <th>Plata</th>\n",
       "      <th>Bronce</th>\n",
       "      <th>Total</th>\n",
       "      <th>Ranking Total</th>\n",
       "    </tr>\n",
       "  </thead>\n",
       "  <tbody>\n",
       "    <tr>\n",
       "      <th>0</th>\n",
       "      <td>1</td>\n",
       "      <td>Estados Unidos</td>\n",
       "      <td>120</td>\n",
       "      <td>88</td>\n",
       "      <td>85</td>\n",
       "      <td>293</td>\n",
       "      <td>1</td>\n",
       "    </tr>\n",
       "    <tr>\n",
       "      <th>3</th>\n",
       "      <td>4</td>\n",
       "      <td>Canadá</td>\n",
       "      <td>35</td>\n",
       "      <td>64</td>\n",
       "      <td>53</td>\n",
       "      <td>152</td>\n",
       "      <td>3</td>\n",
       "    </tr>\n",
       "    <tr>\n",
       "      <th>1</th>\n",
       "      <td>2</td>\n",
       "      <td>Brasil</td>\n",
       "      <td>55</td>\n",
       "      <td>45</td>\n",
       "      <td>71</td>\n",
       "      <td>171</td>\n",
       "      <td>2</td>\n",
       "    </tr>\n",
       "    <tr>\n",
       "      <th>2</th>\n",
       "      <td>3</td>\n",
       "      <td>México</td>\n",
       "      <td>37</td>\n",
       "      <td>36</td>\n",
       "      <td>63</td>\n",
       "      <td>136</td>\n",
       "      <td>4</td>\n",
       "    </tr>\n",
       "    <tr>\n",
       "      <th>5</th>\n",
       "      <td>6</td>\n",
       "      <td>Argentina</td>\n",
       "      <td>32</td>\n",
       "      <td>35</td>\n",
       "      <td>34</td>\n",
       "      <td>101</td>\n",
       "      <td>5</td>\n",
       "    </tr>\n",
       "    <tr>\n",
       "      <th>4</th>\n",
       "      <td>5</td>\n",
       "      <td>Cuba</td>\n",
       "      <td>33</td>\n",
       "      <td>27</td>\n",
       "      <td>38</td>\n",
       "      <td>98</td>\n",
       "      <td>6</td>\n",
       "    </tr>\n",
       "    <tr>\n",
       "      <th>6</th>\n",
       "      <td>7</td>\n",
       "      <td>Colombia</td>\n",
       "      <td>28</td>\n",
       "      <td>23</td>\n",
       "      <td>33</td>\n",
       "      <td>84</td>\n",
       "      <td>7</td>\n",
       "    </tr>\n",
       "    <tr>\n",
       "      <th>7</th>\n",
       "      <td>8</td>\n",
       "      <td>Chile</td>\n",
       "      <td>13</td>\n",
       "      <td>19</td>\n",
       "      <td>18</td>\n",
       "      <td>50</td>\n",
       "      <td>8</td>\n",
       "    </tr>\n",
       "    <tr>\n",
       "      <th>11</th>\n",
       "      <td>12</td>\n",
       "      <td>Venezuela</td>\n",
       "      <td>9</td>\n",
       "      <td>15</td>\n",
       "      <td>19</td>\n",
       "      <td>43</td>\n",
       "      <td>9</td>\n",
       "    </tr>\n",
       "    <tr>\n",
       "      <th>9</th>\n",
       "      <td>10</td>\n",
       "      <td>República Dominicana</td>\n",
       "      <td>10</td>\n",
       "      <td>13</td>\n",
       "      <td>17</td>\n",
       "      <td>40</td>\n",
       "      <td>10</td>\n",
       "    </tr>\n",
       "    <tr>\n",
       "      <th>15</th>\n",
       "      <td>16</td>\n",
       "      <td>Guatemala</td>\n",
       "      <td>2</td>\n",
       "      <td>9</td>\n",
       "      <td>8</td>\n",
       "      <td>19</td>\n",
       "      <td>14</td>\n",
       "    </tr>\n",
       "    <tr>\n",
       "      <th>16</th>\n",
       "      <td>17</td>\n",
       "      <td>Trinidad y Tobago</td>\n",
       "      <td>2</td>\n",
       "      <td>8</td>\n",
       "      <td>3</td>\n",
       "      <td>13</td>\n",
       "      <td>16</td>\n",
       "    </tr>\n",
       "    <tr>\n",
       "      <th>10</th>\n",
       "      <td>11</td>\n",
       "      <td>Ecuador</td>\n",
       "      <td>10</td>\n",
       "      <td>7</td>\n",
       "      <td>14</td>\n",
       "      <td>31</td>\n",
       "      <td>12</td>\n",
       "    </tr>\n",
       "    <tr>\n",
       "      <th>8</th>\n",
       "      <td>9</td>\n",
       "      <td>Perú</td>\n",
       "      <td>11</td>\n",
       "      <td>7</td>\n",
       "      <td>21</td>\n",
       "      <td>39</td>\n",
       "      <td>11</td>\n",
       "    </tr>\n",
       "    <tr>\n",
       "      <th>12</th>\n",
       "      <td>13</td>\n",
       "      <td>Jamaica</td>\n",
       "      <td>6</td>\n",
       "      <td>6</td>\n",
       "      <td>7</td>\n",
       "      <td>19</td>\n",
       "      <td>14</td>\n",
       "    </tr>\n",
       "    <tr>\n",
       "      <th>13</th>\n",
       "      <td>14</td>\n",
       "      <td>Puerto Rico</td>\n",
       "      <td>5</td>\n",
       "      <td>5</td>\n",
       "      <td>14</td>\n",
       "      <td>24</td>\n",
       "      <td>13</td>\n",
       "    </tr>\n",
       "    <tr>\n",
       "      <th>17</th>\n",
       "      <td>18</td>\n",
       "      <td>Uruguay</td>\n",
       "      <td>1</td>\n",
       "      <td>4</td>\n",
       "      <td>4</td>\n",
       "      <td>9</td>\n",
       "      <td>17</td>\n",
       "    </tr>\n",
       "    <tr>\n",
       "      <th>18</th>\n",
       "      <td>19</td>\n",
       "      <td>Paraguay</td>\n",
       "      <td>1</td>\n",
       "      <td>3</td>\n",
       "      <td>1</td>\n",
       "      <td>5</td>\n",
       "      <td>18</td>\n",
       "    </tr>\n",
       "    <tr>\n",
       "      <th>19</th>\n",
       "      <td>20</td>\n",
       "      <td>Bolivia</td>\n",
       "      <td>1</td>\n",
       "      <td>2</td>\n",
       "      <td>2</td>\n",
       "      <td>5</td>\n",
       "      <td>18</td>\n",
       "    </tr>\n",
       "    <tr>\n",
       "      <th>25</th>\n",
       "      <td>26</td>\n",
       "      <td>Antigua y Barbuda</td>\n",
       "      <td>0</td>\n",
       "      <td>1</td>\n",
       "      <td>2</td>\n",
       "      <td>3</td>\n",
       "      <td>23</td>\n",
       "    </tr>\n",
       "    <tr>\n",
       "      <th>20</th>\n",
       "      <td>21</td>\n",
       "      <td>Granada</td>\n",
       "      <td>1</td>\n",
       "      <td>1</td>\n",
       "      <td>0</td>\n",
       "      <td>2</td>\n",
       "      <td>25</td>\n",
       "    </tr>\n",
       "    <tr>\n",
       "      <th>26</th>\n",
       "      <td>27</td>\n",
       "      <td>Honduras</td>\n",
       "      <td>0</td>\n",
       "      <td>1</td>\n",
       "      <td>1</td>\n",
       "      <td>2</td>\n",
       "      <td>25</td>\n",
       "    </tr>\n",
       "    <tr>\n",
       "      <th>29</th>\n",
       "      <td>30</td>\n",
       "      <td>Aruba</td>\n",
       "      <td>0</td>\n",
       "      <td>0</td>\n",
       "      <td>1</td>\n",
       "      <td>1</td>\n",
       "      <td>28</td>\n",
       "    </tr>\n",
       "    <tr>\n",
       "      <th>28</th>\n",
       "      <td>29</td>\n",
       "      <td>Nicaragua</td>\n",
       "      <td>0</td>\n",
       "      <td>0</td>\n",
       "      <td>3</td>\n",
       "      <td>3</td>\n",
       "      <td>23</td>\n",
       "    </tr>\n",
       "    <tr>\n",
       "      <th>27</th>\n",
       "      <td>28</td>\n",
       "      <td>Panamá</td>\n",
       "      <td>0</td>\n",
       "      <td>0</td>\n",
       "      <td>4</td>\n",
       "      <td>4</td>\n",
       "      <td>21</td>\n",
       "    </tr>\n",
       "    <tr>\n",
       "      <th>21</th>\n",
       "      <td>22</td>\n",
       "      <td>Costa Rica</td>\n",
       "      <td>1</td>\n",
       "      <td>0</td>\n",
       "      <td>4</td>\n",
       "      <td>5</td>\n",
       "      <td>18</td>\n",
       "    </tr>\n",
       "    <tr>\n",
       "      <th>24</th>\n",
       "      <td>24</td>\n",
       "      <td>Islas Vírgenes, B</td>\n",
       "      <td>1</td>\n",
       "      <td>0</td>\n",
       "      <td>0</td>\n",
       "      <td>1</td>\n",
       "      <td>28</td>\n",
       "    </tr>\n",
       "    <tr>\n",
       "      <th>23</th>\n",
       "      <td>24</td>\n",
       "      <td>Barbados</td>\n",
       "      <td>1</td>\n",
       "      <td>0</td>\n",
       "      <td>0</td>\n",
       "      <td>1</td>\n",
       "      <td>28</td>\n",
       "    </tr>\n",
       "    <tr>\n",
       "      <th>22</th>\n",
       "      <td>23</td>\n",
       "      <td>Santa Lucia</td>\n",
       "      <td>1</td>\n",
       "      <td>0</td>\n",
       "      <td>1</td>\n",
       "      <td>2</td>\n",
       "      <td>25</td>\n",
       "    </tr>\n",
       "    <tr>\n",
       "      <th>14</th>\n",
       "      <td>15</td>\n",
       "      <td>El Salvador</td>\n",
       "      <td>3</td>\n",
       "      <td>0</td>\n",
       "      <td>1</td>\n",
       "      <td>4</td>\n",
       "      <td>21</td>\n",
       "    </tr>\n",
       "    <tr>\n",
       "      <th>30</th>\n",
       "      <td>30</td>\n",
       "      <td>Bahamas</td>\n",
       "      <td>0</td>\n",
       "      <td>0</td>\n",
       "      <td>1</td>\n",
       "      <td>1</td>\n",
       "      <td>28</td>\n",
       "    </tr>\n",
       "  </tbody>\n",
       "</table>\n",
       "</div>"
      ],
      "text/plain": [
       "    Posicion                  Pais  Oro  Plata  Bronce  Total  Ranking Total\n",
       "0          1        Estados Unidos  120     88      85    293              1\n",
       "3          4                Canadá   35     64      53    152              3\n",
       "1          2                Brasil   55     45      71    171              2\n",
       "2          3                México   37     36      63    136              4\n",
       "5          6             Argentina   32     35      34    101              5\n",
       "4          5                  Cuba   33     27      38     98              6\n",
       "6          7              Colombia   28     23      33     84              7\n",
       "7          8                 Chile   13     19      18     50              8\n",
       "11        12             Venezuela    9     15      19     43              9\n",
       "9         10  República Dominicana   10     13      17     40             10\n",
       "15        16             Guatemala    2      9       8     19             14\n",
       "16        17     Trinidad y Tobago    2      8       3     13             16\n",
       "10        11               Ecuador   10      7      14     31             12\n",
       "8          9                  Perú   11      7      21     39             11\n",
       "12        13               Jamaica    6      6       7     19             14\n",
       "13        14           Puerto Rico    5      5      14     24             13\n",
       "17        18               Uruguay    1      4       4      9             17\n",
       "18        19              Paraguay    1      3       1      5             18\n",
       "19        20               Bolivia    1      2       2      5             18\n",
       "25        26     Antigua y Barbuda    0      1       2      3             23\n",
       "20        21               Granada    1      1       0      2             25\n",
       "26        27              Honduras    0      1       1      2             25\n",
       "29        30                 Aruba    0      0       1      1             28\n",
       "28        29             Nicaragua    0      0       3      3             23\n",
       "27        28                Panamá    0      0       4      4             21\n",
       "21        22            Costa Rica    1      0       4      5             18\n",
       "24        24     Islas Vírgenes, B    1      0       0      1             28\n",
       "23        24              Barbados    1      0       0      1             28\n",
       "22        23           Santa Lucia    1      0       1      2             25\n",
       "14        15           El Salvador    3      0       1      4             21\n",
       "30        30               Bahamas    0      0       1      1             28"
      ]
     },
     "execution_count": 122,
     "metadata": {},
     "output_type": "execute_result"
    }
   ],
   "source": [
    "df.sort_values('Plata', ascending=False)"
   ]
  },
  {
   "cell_type": "markdown",
   "id": "9c15700b-99e7-4703-9506-b0e9fa954dcd",
   "metadata": {},
   "source": [
    "### Dividir data frame en grupos"
   ]
  },
  {
   "cell_type": "code",
   "execution_count": 125,
   "id": "738137ba-719a-43fb-9ca5-6543adf94220",
   "metadata": {},
   "outputs": [
    {
     "data": {
      "text/html": [
       "<div>\n",
       "<style scoped>\n",
       "    .dataframe tbody tr th:only-of-type {\n",
       "        vertical-align: middle;\n",
       "    }\n",
       "\n",
       "    .dataframe tbody tr th {\n",
       "        vertical-align: top;\n",
       "    }\n",
       "\n",
       "    .dataframe thead th {\n",
       "        text-align: right;\n",
       "    }\n",
       "</style>\n",
       "<table border=\"1\" class=\"dataframe\">\n",
       "  <thead>\n",
       "    <tr style=\"text-align: right;\">\n",
       "      <th></th>\n",
       "      <th>Posicion</th>\n",
       "      <th>Pais</th>\n",
       "      <th>Oro</th>\n",
       "      <th>Plata</th>\n",
       "      <th>Bronce</th>\n",
       "      <th>Total</th>\n",
       "      <th>Ranking Total</th>\n",
       "    </tr>\n",
       "  </thead>\n",
       "  <tbody>\n",
       "    <tr>\n",
       "      <th>0</th>\n",
       "      <td>1</td>\n",
       "      <td>Estados Unidos</td>\n",
       "      <td>120</td>\n",
       "      <td>88</td>\n",
       "      <td>85</td>\n",
       "      <td>293</td>\n",
       "      <td>1</td>\n",
       "    </tr>\n",
       "    <tr>\n",
       "      <th>1</th>\n",
       "      <td>2</td>\n",
       "      <td>Brasil</td>\n",
       "      <td>55</td>\n",
       "      <td>45</td>\n",
       "      <td>71</td>\n",
       "      <td>171</td>\n",
       "      <td>2</td>\n",
       "    </tr>\n",
       "    <tr>\n",
       "      <th>2</th>\n",
       "      <td>3</td>\n",
       "      <td>México</td>\n",
       "      <td>37</td>\n",
       "      <td>36</td>\n",
       "      <td>63</td>\n",
       "      <td>136</td>\n",
       "      <td>4</td>\n",
       "    </tr>\n",
       "    <tr>\n",
       "      <th>3</th>\n",
       "      <td>4</td>\n",
       "      <td>Canadá</td>\n",
       "      <td>35</td>\n",
       "      <td>64</td>\n",
       "      <td>53</td>\n",
       "      <td>152</td>\n",
       "      <td>3</td>\n",
       "    </tr>\n",
       "    <tr>\n",
       "      <th>4</th>\n",
       "      <td>5</td>\n",
       "      <td>Cuba</td>\n",
       "      <td>33</td>\n",
       "      <td>27</td>\n",
       "      <td>38</td>\n",
       "      <td>98</td>\n",
       "      <td>6</td>\n",
       "    </tr>\n",
       "    <tr>\n",
       "      <th>5</th>\n",
       "      <td>6</td>\n",
       "      <td>Argentina</td>\n",
       "      <td>32</td>\n",
       "      <td>35</td>\n",
       "      <td>34</td>\n",
       "      <td>101</td>\n",
       "      <td>5</td>\n",
       "    </tr>\n",
       "    <tr>\n",
       "      <th>6</th>\n",
       "      <td>7</td>\n",
       "      <td>Colombia</td>\n",
       "      <td>28</td>\n",
       "      <td>23</td>\n",
       "      <td>33</td>\n",
       "      <td>84</td>\n",
       "      <td>7</td>\n",
       "    </tr>\n",
       "    <tr>\n",
       "      <th>7</th>\n",
       "      <td>8</td>\n",
       "      <td>Chile</td>\n",
       "      <td>13</td>\n",
       "      <td>19</td>\n",
       "      <td>18</td>\n",
       "      <td>50</td>\n",
       "      <td>8</td>\n",
       "    </tr>\n",
       "    <tr>\n",
       "      <th>8</th>\n",
       "      <td>9</td>\n",
       "      <td>Perú</td>\n",
       "      <td>11</td>\n",
       "      <td>7</td>\n",
       "      <td>21</td>\n",
       "      <td>39</td>\n",
       "      <td>11</td>\n",
       "    </tr>\n",
       "    <tr>\n",
       "      <th>9</th>\n",
       "      <td>10</td>\n",
       "      <td>República Dominicana</td>\n",
       "      <td>10</td>\n",
       "      <td>13</td>\n",
       "      <td>17</td>\n",
       "      <td>40</td>\n",
       "      <td>10</td>\n",
       "    </tr>\n",
       "  </tbody>\n",
       "</table>\n",
       "</div>"
      ],
      "text/plain": [
       "   Posicion                  Pais  Oro  Plata  Bronce  Total  Ranking Total\n",
       "0         1        Estados Unidos  120     88      85    293              1\n",
       "1         2                Brasil   55     45      71    171              2\n",
       "2         3                México   37     36      63    136              4\n",
       "3         4                Canadá   35     64      53    152              3\n",
       "4         5                  Cuba   33     27      38     98              6\n",
       "5         6             Argentina   32     35      34    101              5\n",
       "6         7              Colombia   28     23      33     84              7\n",
       "7         8                 Chile   13     19      18     50              8\n",
       "8         9                  Perú   11      7      21     39             11\n",
       "9        10  República Dominicana   10     13      17     40             10"
      ]
     },
     "execution_count": 125,
     "metadata": {},
     "output_type": "execute_result"
    }
   ],
   "source": [
    "nombre_archivo = \"medallero_Panamericanos_Lima2019.csv\"\n",
    "df = pd.read_csv(nombre_archivo)\n",
    "\n",
    "df.head(10)"
   ]
  },
  {
   "cell_type": "code",
   "execution_count": 126,
   "id": "b0d121c6-24e9-4540-95f0-764d76cc0001",
   "metadata": {},
   "outputs": [
    {
     "data": {
      "text/plain": [
       "{0: [25, 26, 27, 28, 29, 30], 1: [17, 18, 19, 20, 21, 22, 23, 24], 2: [15, 16], 3: [14], 5: [13], 6: [12], 9: [11], 10: [9, 10], 11: [8], 13: [7], 28: [6], 32: [5], 33: [4], 35: [3], 37: [2], 55: [1], 120: [0]}"
      ]
     },
     "execution_count": 126,
     "metadata": {},
     "output_type": "execute_result"
    }
   ],
   "source": [
    "df.groupby('Oro').groups"
   ]
  }
 ],
 "metadata": {
  "kernelspec": {
   "display_name": "Python [conda env:base] *",
   "language": "python",
   "name": "conda-base-py"
  },
  "language_info": {
   "codemirror_mode": {
    "name": "ipython",
    "version": 3
   },
   "file_extension": ".py",
   "mimetype": "text/x-python",
   "name": "python",
   "nbconvert_exporter": "python",
   "pygments_lexer": "ipython3",
   "version": "3.13.5"
  }
 },
 "nbformat": 4,
 "nbformat_minor": 5
}
