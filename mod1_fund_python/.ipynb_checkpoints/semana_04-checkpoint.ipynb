{
 "cells": [
  {
   "cell_type": "markdown",
   "id": "f6dea77b-8f19-4fec-bc52-0e3a6855cd0f",
   "metadata": {},
   "source": [
    "## Semana 04\n",
    "\n",
    "- Descripción: Curso de Fundamentos de Python\n",
    "- Semana 4: Manipulación de datos\n",
    "- Autor: Jaime Gomez\n",
    "- Fecha: 11/10/2025\n",
    "- Versión:1\n"
   ]
  },
  {
   "cell_type": "code",
   "execution_count": 11,
   "id": "8ff55566-7229-476b-81ff-ef431827a6dc",
   "metadata": {},
   "outputs": [
    {
     "name": "stdout",
     "output_type": "stream",
     "text": [
      "<class '_io.TextIOWrapper'>\n",
      "archivo1.txt\n",
      "Linea 1\n",
      "Linea 2\n",
      "Linea 3\n",
      "False\n",
      "True\n"
     ]
    }
   ],
   "source": [
    "# open() es una funcion para abrir archivos\n",
    "#  modo r : lectura\n",
    "#  modo a : agregación\n",
    "\n",
    "# Abrir archivo\n",
    "mi_archivo = open(\"archivo1.txt\",'r')\n",
    "\n",
    "print(type(mi_archivo))\n",
    "print(mi_archivo.name)\n",
    "\n",
    "# TO DO\n",
    "data = mi_archivo.read()\n",
    "print(data)\n",
    "print(mi_archivo.closed)\n",
    "\n",
    "# Cerrar archivo\n",
    "mi_archivo.close()\n",
    "print(mi_archivo.closed)"
   ]
  },
  {
   "cell_type": "code",
   "execution_count": 13,
   "id": "65b5c2f8-fe30-46e8-8647-41574628bb7b",
   "metadata": {},
   "outputs": [
    {
     "name": "stdout",
     "output_type": "stream",
     "text": [
      "Linea 1\n",
      "Linea 2\n",
      "Linea 3\n",
      "Linea 4\n",
      "Linea 5\n",
      "Linea 6\n",
      "Linea 7\n",
      "True\n"
     ]
    }
   ],
   "source": [
    "# open() es una funcion para abrir archivos\n",
    "#  modo r : lectura\n",
    "#  modo a : agregación\n",
    "\n",
    "# Abrir archivo\n",
    "with open(\"archivo1.txt\",'r') as mi_archivo:\n",
    "    contenido = mi_archivo.read()\n",
    "    print(contenido)\n",
    "    \n",
    "print(mi_archivo.closed)"
   ]
  },
  {
   "cell_type": "code",
   "execution_count": 19,
   "id": "d3d298c3-7bbf-4ee8-924a-5365120812a8",
   "metadata": {},
   "outputs": [
    {
     "name": "stdout",
     "output_type": "stream",
     "text": [
      "Li\n",
      "ne\n"
     ]
    }
   ],
   "source": [
    "# open() es una funcion para abrir archivos\n",
    "#  modo r : lectura\n",
    "#  modo a : agregación\n",
    "\n",
    "# Abrir archivo\n",
    "with open(\"archivo1.txt\",'r') as mi_archivo:\n",
    "    contenido = mi_archivo.read(2)\n",
    "    print(contenido)\n",
    "    contenido = mi_archivo.read(2)\n",
    "    print(contenido)\n",
    "    "
   ]
  },
  {
   "cell_type": "markdown",
   "id": "bbd4f74f-5750-41c7-82d2-411a0ffe0d9a",
   "metadata": {},
   "source": [
    "### Leer lineas de un archivo"
   ]
  },
  {
   "cell_type": "code",
   "execution_count": 23,
   "id": "c00424f0-05f0-4534-a997-d2da1ff26785",
   "metadata": {},
   "outputs": [
    {
     "name": "stdout",
     "output_type": "stream",
     "text": [
      "['Linea 1\\n', 'Linea 2\\n', 'Linea 3\\n', 'Linea 4\\n', 'Linea 5\\n', 'Linea 6\\n', 'Linea 7']\n",
      "\n"
     ]
    }
   ],
   "source": [
    "with open(\"archivo1.txt\",'r') as mi_archivo:\n",
    "    contenido = mi_archivo.readline()\n",
    "    print(contenido)\n",
    "    contenido = mi_archivo.readline()\n",
    "    print(contenido)"
   ]
  },
  {
   "cell_type": "code",
   "execution_count": 22,
   "id": "c8aaa554-0cc2-4e17-a482-9071a4b11180",
   "metadata": {},
   "outputs": [
    {
     "name": "stdout",
     "output_type": "stream",
     "text": [
      "Linea 1\n",
      "\n",
      "Linea 2\n",
      "\n",
      "Linea 3\n",
      "\n",
      "Linea 4\n",
      "\n",
      "Linea 5\n",
      "\n",
      "Linea 6\n",
      "\n",
      "Linea 7\n"
     ]
    }
   ],
   "source": [
    "with open(\"archivo1.txt\",'r') as mi_archivo:\n",
    "    for una_linea in mi_archivo:\n",
    "       print(una_linea)"
   ]
  },
  {
   "cell_type": "code",
   "execution_count": 25,
   "id": "40cf5ece-2210-4e9f-90f8-f3398e73ea81",
   "metadata": {},
   "outputs": [
    {
     "name": "stdout",
     "output_type": "stream",
     "text": [
      "['Linea 1\\n', 'Linea 2\\n', 'Linea 3\\n', 'Linea 4\\n', 'Linea 5\\n', 'Linea 6\\n', 'Linea 7']\n",
      "Linea 1\n",
      "\n",
      "Linea 2\n",
      "\n",
      "Linea 3\n",
      "\n",
      "Linea 4\n",
      "\n",
      "Linea 5\n",
      "\n",
      "Linea 6\n",
      "\n",
      "Linea 7\n"
     ]
    }
   ],
   "source": [
    "with open(\"archivo1.txt\",'r') as mi_archivo:\n",
    "    contenido = mi_archivo.readlines()\n",
    "    print(contenido)\n",
    "\n",
    "for linea in contenido:\n",
    "    print(linea)"
   ]
  },
  {
   "cell_type": "markdown",
   "id": "1a4a7d54-b3ee-4a15-b4b3-93d1f470e618",
   "metadata": {},
   "source": [
    "### Ejercicio 1\n",
    "\n",
    "Dado el archivo personas.txt, calcular lo siguiente\n",
    "\n",
    "- Juan:Pastor:25:Pyhton\n",
    "- Jose:Gomez:18:Pyhton\n",
    "- Maribel:Alegria:22:Java\n",
    "- Ana:Garcia:23:C#\n",
    "- Pedro:Flores:20:Java\n",
    "- Elizabeth:Alvarado:26:Pyhton\n",
    "- Jaime:Alvarez:22:Pyhton\n",
    "- Noemi:Palomino:26:Php\n",
    "- Pedro:Davila:30:Php\n",
    "\n",
    "Debe calcular\n",
    "\n",
    "- Los lenguajes de programación favoritos\n",
    "- Los apellidos de todos los participantes\n",
    "- Los nombre de las personas mayores de 22 años\n"
   ]
  },
  {
   "cell_type": "markdown",
   "id": "6c01dc5d-c1b8-4ff8-a48d-f83a77248d1b",
   "metadata": {},
   "source": []
  }
 ],
 "metadata": {
  "kernelspec": {
   "display_name": "Python [conda env:base] *",
   "language": "python",
   "name": "conda-base-py"
  },
  "language_info": {
   "codemirror_mode": {
    "name": "ipython",
    "version": 3
   },
   "file_extension": ".py",
   "mimetype": "text/x-python",
   "name": "python",
   "nbconvert_exporter": "python",
   "pygments_lexer": "ipython3",
   "version": "3.13.5"
  }
 },
 "nbformat": 4,
 "nbformat_minor": 5
}
