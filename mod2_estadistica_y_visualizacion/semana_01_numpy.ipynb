{
 "cells": [
  {
   "cell_type": "code",
   "execution_count": 4,
   "id": "52e96d80-e6bf-4b48-b873-d2b500c03e96",
   "metadata": {},
   "outputs": [
    {
     "name": "stdout",
     "output_type": "stream",
     "text": [
      "[0, 1, 2, 3, 4, 5, 6, 7, 8, 9, 10, 11, 12, 13, 14, 15, 16, 17, 18, 19, 20, 21, 22, 23, 24, 25, 26, 27, 28, 29]\n"
     ]
    }
   ],
   "source": [
    "'''\n",
    "Modulo 2 : Estadistica y Visualizacion de Datos\n",
    "Sesion : 01\n",
    "Fecha : 25/10/2025\n",
    "'''\n",
    "\n",
    "import numpy as np\n",
    "\n",
    "nros = [ x for x in range(30)]\n",
    "print(nros)"
   ]
  },
  {
   "cell_type": "code",
   "execution_count": 5,
   "id": "3c309957-f4e7-40b2-8d97-7bcb15bafd5a",
   "metadata": {},
   "outputs": [
    {
     "name": "stdout",
     "output_type": "stream",
     "text": [
      "[ 0  1  2  3  4  5  6  7  8  9 10 11 12 13 14 15 16 17 18 19 20 21 22 23\n",
      " 24 25 26 27 28 29]\n"
     ]
    }
   ],
   "source": [
    "np_nros = np.array(nros)\n",
    "print(np_nros)"
   ]
  },
  {
   "cell_type": "code",
   "execution_count": null,
   "id": "ae545448",
   "metadata": {},
   "outputs": [
    {
     "name": "stdout",
     "output_type": "stream",
     "text": [
      "np_nros.dtype : int64\n",
      "np_nros.ndim : 1\n",
      "np_nros.size : 30\n",
      "np_nros.shape : (30,)\n",
      "np_nros.itemsize : 8\n",
      "np_nros.data : <memory at 0x107a31300>\n"
     ]
    }
   ],
   "source": [
    "print(\"np_nros.dtype :\", np_nros.dtype)\n",
    "print(\"np_nros.ndim :\", np_nros.ndim)\n",
    "print(\"np_nros.size :\", np_nros.size)\n",
    "print(\"np_nros.shape :\", np_nros.shape)\n",
    "print(\"np_nros.itemsize :\", np_nros.itemsize)\n",
    "print(\"np_nros.data :\", np_nros.data)"
   ]
  }
 ],
 "metadata": {
  "kernelspec": {
   "display_name": "base",
   "language": "python",
   "name": "python3"
  },
  "language_info": {
   "codemirror_mode": {
    "name": "ipython",
    "version": 3
   },
   "file_extension": ".py",
   "mimetype": "text/x-python",
   "name": "python",
   "nbconvert_exporter": "python",
   "pygments_lexer": "ipython3",
   "version": "3.13.5"
  }
 },
 "nbformat": 4,
 "nbformat_minor": 5
}
