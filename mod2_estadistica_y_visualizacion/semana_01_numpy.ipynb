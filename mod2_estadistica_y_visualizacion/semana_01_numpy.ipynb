{
 "cells": [
  {
   "cell_type": "code",
   "execution_count": 22,
   "id": "52e96d80-e6bf-4b48-b873-d2b500c03e96",
   "metadata": {},
   "outputs": [
    {
     "name": "stdout",
     "output_type": "stream",
     "text": [
      "Modulo 2 : Estadistica y Visualizacion de Datos\n"
     ]
    }
   ],
   "source": [
    "'''\n",
    "Modulo 2 : Estadistica y Visualizacion de Datos\n",
    "Sesion : 01\n",
    "Fecha : 25/10/2025\n",
    "'''\n",
    "print(\"Modulo 2 : Estadistica y Visualizacion de Datos\")"
   ]
  },
  {
   "cell_type": "markdown",
   "id": "327124d5",
   "metadata": {},
   "source": [
    "### Trabajando con listados"
   ]
  },
  {
   "cell_type": "code",
   "execution_count": 23,
   "id": "e8bde816",
   "metadata": {},
   "outputs": [
    {
     "name": "stdout",
     "output_type": "stream",
     "text": [
      "[0, 1, 2, 3, 4, 5, 6, 7, 8, 9, 10, 11, 12, 13, 14, 15, 16, 17, 18, 19, 20, 21, 22, 23, 24, 25, 26, 27, 28, 29]\n"
     ]
    }
   ],
   "source": [
    "import numpy as np\n",
    "\n",
    "nros = [ x for x in range(30)]\n",
    "print(nros)"
   ]
  },
  {
   "cell_type": "code",
   "execution_count": 24,
   "id": "3c309957-f4e7-40b2-8d97-7bcb15bafd5a",
   "metadata": {},
   "outputs": [
    {
     "name": "stdout",
     "output_type": "stream",
     "text": [
      "[ 0  1  2  3  4  5  6  7  8  9 10 11 12 13 14 15 16 17 18 19 20 21 22 23\n",
      " 24 25 26 27 28 29]\n"
     ]
    }
   ],
   "source": [
    "np_nros = np.array(nros)\n",
    "print(np_nros)"
   ]
  },
  {
   "cell_type": "code",
   "execution_count": 25,
   "id": "ae545448",
   "metadata": {},
   "outputs": [
    {
     "name": "stdout",
     "output_type": "stream",
     "text": [
      "np_nros.dtype : int64\n",
      "np_nros.ndim : 1\n",
      "np_nros.size : 30\n",
      "np_nros.shape : (30,)\n",
      "np_nros.itemsize : 8\n",
      "np_nros.data : <memory at 0x107a31b40>\n"
     ]
    }
   ],
   "source": [
    "print(\"np_nros.dtype :\", np_nros.dtype)\n",
    "print(\"np_nros.ndim :\", np_nros.ndim)\n",
    "print(\"np_nros.size :\", np_nros.size)\n",
    "print(\"np_nros.shape :\", np_nros.shape)\n",
    "print(\"np_nros.itemsize :\", np_nros.itemsize)\n",
    "print(\"np_nros.data :\", np_nros.data)"
   ]
  },
  {
   "cell_type": "markdown",
   "id": "81c33444",
   "metadata": {},
   "source": [
    "### Trabajando con Arrays"
   ]
  },
  {
   "cell_type": "code",
   "execution_count": 28,
   "id": "b41facbb",
   "metadata": {},
   "outputs": [
    {
     "name": "stdout",
     "output_type": "stream",
     "text": [
      "[[0 1 2 3 4 5 6 7 8 9]\n",
      " [0 1 2 3 4 5 6 7 8 9]\n",
      " [0 1 2 3 4 5 6 7 8 9]]\n"
     ]
    }
   ],
   "source": [
    "nros = [\n",
    "        [ x for x in range(10)],\n",
    "        [ y for y in range(10)],\n",
    "        [ z for z in range(10)]\n",
    "    ]\n",
    "#print(nros)\n",
    "np_nros = np.array(nros)\n",
    "print(np_nros)"
   ]
  },
  {
   "cell_type": "code",
   "execution_count": 29,
   "id": "9e5acfb9",
   "metadata": {},
   "outputs": [
    {
     "name": "stdout",
     "output_type": "stream",
     "text": [
      "np_nros.dtype : int64\n",
      "np_nros.ndim : 2\n",
      "np_nros.size : 30\n",
      "np_nros.shape : (3, 10)\n",
      "np_nros.itemsize : 8\n",
      "np_nros.data : <memory at 0x107a7cc70>\n"
     ]
    }
   ],
   "source": [
    "print(\"np_nros.dtype :\", np_nros.dtype)\n",
    "print(\"np_nros.ndim :\", np_nros.ndim)\n",
    "print(\"np_nros.size :\", np_nros.size)\n",
    "print(\"np_nros.shape :\", np_nros.shape)\n",
    "print(\"np_nros.itemsize :\", np_nros.itemsize)\n",
    "print(\"np_nros.data :\", np_nros.data)"
   ]
  }
 ],
 "metadata": {
  "kernelspec": {
   "display_name": "Python [conda env:base] *",
   "language": "python",
   "name": "conda-base-py"
  },
  "language_info": {
   "codemirror_mode": {
    "name": "ipython",
    "version": 3
   },
   "file_extension": ".py",
   "mimetype": "text/x-python",
   "name": "python",
   "nbconvert_exporter": "python",
   "pygments_lexer": "ipython3",
   "version": "3.13.5"
  }
 },
 "nbformat": 4,
 "nbformat_minor": 5
}
