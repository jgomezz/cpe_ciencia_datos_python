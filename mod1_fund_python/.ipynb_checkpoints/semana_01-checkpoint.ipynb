{
  "nbformat": 4,
  "nbformat_minor": 0,
  "metadata": {
    "colab": {
      "provenance": []
    },
    "kernelspec": {
      "name": "python3",
      "display_name": "Python 3"
    },
    "language_info": {
      "name": "python"
    }
  },
  "cells": [
    {
      "cell_type": "code",
      "execution_count": null,
      "metadata": {
        "colab": {
          "base_uri": "https://localhost:8080/"
        },
        "id": "2wz5ln-b0ErS",
        "outputId": "82a5de52-8d3d-4348-f9db-28db631f095a"
      },
      "outputs": [
        {
          "output_type": "stream",
          "name": "stdout",
          "text": [
            "Hola Mundo\n"
          ]
        }
      ],
      "source": [
        "print(\"Hola Mundo\")"
      ]
    },
    {
      "cell_type": "code",
      "source": [
        "'''\n",
        "Descripción: Es mi primera aplicación\n",
        "Autor: Jaime Gomez\n",
        "Fecha: 20/09/2025\n",
        "Versión:1\n",
        "'''\n",
        "\n",
        "# Definicion de una variable\n",
        "nombre = \"Jaime Gomez\"\n",
        "\n",
        "# Muestro el nombre por pantalla\n",
        "\n",
        "# 1\n",
        "print(\"Bienvenido al curso estimado\", nombre)\n",
        "\n",
        "# 2\n",
        "print(\"Bienvenido al curso estimado \" + nombre)\n",
        "\n",
        "# 3\n",
        "print(f\"Bienvenido al curso estimado {nombre}\")\n"
      ],
      "metadata": {
        "colab": {
          "base_uri": "https://localhost:8080/"
        },
        "id": "J4Vrz1wJ3aDf",
        "outputId": "90624222-36bf-47b7-c07c-bd65989d958d"
      },
      "execution_count": null,
      "outputs": [
        {
          "output_type": "stream",
          "name": "stdout",
          "text": [
            "Bienvenido al curso estimado Jaime Gomez\n",
            "Bienvenido al curso estimado Jaime Gomez\n",
            "Bienvenido al curso estimado Jaime Gomez\n"
          ]
        }
      ]
    },
    {
      "cell_type": "code",
      "source": [
        "# Definicion de una variable\n",
        "nombre = \"Manuel Ricardo\"\n",
        "\n",
        "# Notacion ?\n",
        "apellido_paterno = \"Vasquez\"\n",
        "\n",
        "# Notacion Camel\n",
        "apellidoMaterno = \"Garcia\"\n",
        "\n",
        "# Muestro el nombre por pantalla\n",
        "print(\"Bienvenido al curso estimado\", \\\n",
        "      nombre, apellido_paterno, apellidoMaterno)"
      ],
      "metadata": {
        "colab": {
          "base_uri": "https://localhost:8080/"
        },
        "id": "Qwd6QJtr5oyU",
        "outputId": "a4245669-844a-41c8-8d0a-c8d5e44610a9"
      },
      "execution_count": null,
      "outputs": [
        {
          "output_type": "stream",
          "name": "stdout",
          "text": [
            "Bienvenido al curso estimado Manuel Ricardo Vasquez Garcia\n"
          ]
        }
      ]
    },
    {
      "cell_type": "markdown",
      "source": [
        "## 2.- Definición de tipos de variables"
      ],
      "metadata": {
        "id": "Kv729oAu-JCB"
      }
    },
    {
      "cell_type": "code",
      "source": [
        "\n",
        "var_x = \"Jaime\"\n",
        "\n",
        "tipo_var_x = type(var_x)\n",
        "\n",
        "print(\"La variable var_x es de tipo\",tipo_var_x)\n",
        "\n",
        "'''\n",
        "var_x = 12\n",
        "var_x = 1.3\n",
        "\n",
        "print(var_x)\n",
        "'''"
      ],
      "metadata": {
        "colab": {
          "base_uri": "https://localhost:8080/",
          "height": 53
        },
        "id": "jwtQEjI38YhR",
        "outputId": "bcbd4e67-d658-461c-fbc4-1e9c64180f48"
      },
      "execution_count": null,
      "outputs": [
        {
          "output_type": "stream",
          "name": "stdout",
          "text": [
            "La variabla var_x es de tipo <class 'str'>\n"
          ]
        },
        {
          "output_type": "execute_result",
          "data": {
            "text/plain": [
              "'\\nvar_x = 12\\nvar_x = 1.3\\n\\nprint(var_x)\\n'"
            ],
            "application/vnd.google.colaboratory.intrinsic+json": {
              "type": "string"
            }
          },
          "metadata": {},
          "execution_count": 18
        }
      ]
    },
    {
      "cell_type": "markdown",
      "source": [
        "## Ejercicio 2\n",
        "\n",
        "### Crear 3 variables\n",
        "- Una variable es tu nombre\n",
        "- Una variable es tu nro. favorito\n",
        "- Una variable es si te gusta el tenis? . True o False\n",
        "\n",
        "### Imprimir los valores y el tipo de datos para cada caso"
      ],
      "metadata": {
        "id": "DqMEgoW_AeXv"
      }
    },
    {
      "cell_type": "code",
      "source": [
        "#Variable Nombre\n",
        "x = \"Martín\"\n",
        "\n",
        "\n",
        "#Variable número favorito\n",
        "Y = 3\n",
        "\n",
        "\n",
        "#Si te gusta el tenis\n",
        "Z = True\n",
        "\n",
        "\n",
        "print(\"Nombre:\",x,\";\",\"Número Favorito:\",Y,\";\",\"Te gusta el Tennis:\",Z)\n",
        "\n",
        "print(f\"Mi nombre es {x} , mi número favorito es {Y} y el Tennis {Z}\")"
      ],
      "metadata": {
        "colab": {
          "base_uri": "https://localhost:8080/"
        },
        "id": "WxEosSPUA1sQ",
        "outputId": "e98956ac-31ef-4fe8-c011-fd361b1e4365"
      },
      "execution_count": null,
      "outputs": [
        {
          "output_type": "stream",
          "name": "stdout",
          "text": [
            "Nombre: Martín ; Número Favorito: 3 ; Te gusta el Tennis: True\n",
            "Mi nombre es Martín , mi número favorito es 3 y el Tennis True\n"
          ]
        }
      ]
    },
    {
      "cell_type": "markdown",
      "source": [
        "## 3.- Ingreso de datos"
      ],
      "metadata": {
        "id": "7qmkqctvDgrb"
      }
    },
    {
      "cell_type": "code",
      "source": [
        "# Ingresar un dato\n",
        "nombre = input(\"Ingresar tu nombre: \")\n",
        "\n",
        "# Calculo de longitud de caracteres\n",
        "longitud = len(nombre)\n",
        "\n",
        "# Salida\n",
        "print(f\"Tu nombre es {nombre} y tiene {longitud} letras\")"
      ],
      "metadata": {
        "colab": {
          "base_uri": "https://localhost:8080/"
        },
        "id": "uHTz57wlDq_i",
        "outputId": "2a5836af-96c5-4adc-8e42-2131be38ed91"
      },
      "execution_count": null,
      "outputs": [
        {
          "output_type": "stream",
          "name": "stdout",
          "text": [
            "Ingresar tu nombre: Marisol\n",
            "Tu nombre es Marisol y tiene 7 letras\n"
          ]
        }
      ]
    },
    {
      "cell_type": "markdown",
      "source": [
        "## Ejercicio 3\n",
        "\n",
        "### Ingresar 2 variables\n",
        "- Una variable es tu nombre\n",
        "- Una variable es tu apellido paterno\n",
        "\n",
        "### Imprimir los nombre ingresados , y la cantidad total de letras de tu nombre y apellido paterno"
      ],
      "metadata": {
        "id": "6ZIyAZJsFOWg"
      }
    },
    {
      "cell_type": "code",
      "source": [
        "# Ingreso mi nombre\n",
        "nombre = input(\"Ingresar tu nombre \")\n",
        "\n",
        "\n",
        "#Ingreso mi apellido\n",
        "\n",
        "\n",
        "apellido = input(\"Ingresar tu apellido \")\n",
        "\n",
        "\n",
        "#Calculo de caracteres totales\n",
        "\n",
        "\n",
        "a = len(nombre)\n",
        "b = len(apellido)\n",
        "c = a + b\n",
        "\n",
        "\n",
        "#Salida\n",
        "\n",
        "\n",
        "print(f\"Tu nombre es {nombre} {apellido} y tiene en total {c} letras\")"
      ],
      "metadata": {
        "colab": {
          "base_uri": "https://localhost:8080/"
        },
        "id": "YVjlTdQtKk26",
        "outputId": "6e36aad1-c58f-4ec0-eef7-73aadd1bdfea"
      },
      "execution_count": null,
      "outputs": [
        {
          "output_type": "stream",
          "name": "stdout",
          "text": [
            "Ingresar tu nombre Jaime\n",
            "Ingresar tu apellido Gomez\n",
            "Tu nombre es Jaime Gomez y tiene en total 10 letras\n"
          ]
        }
      ]
    },
    {
      "cell_type": "markdown",
      "source": [
        "## 4.- Operadores Matemáticos"
      ],
      "metadata": {
        "id": "0FPE0vQEEq_H"
      }
    },
    {
      "cell_type": "code",
      "source": [
        "a,b = 7,5\n",
        "\n",
        "s = a + b\n",
        "print(s)\n",
        "\n",
        "r = a - b\n",
        "print(r)\n",
        "\n",
        "m = a * b\n",
        "print(m)\n",
        "\n",
        "d = a / b\n",
        "print(d)"
      ],
      "metadata": {
        "colab": {
          "base_uri": "https://localhost:8080/"
        },
        "id": "1uRUefN_Exvt",
        "outputId": "8c6a2301-ad24-47af-b12e-a7c08d243316"
      },
      "execution_count": null,
      "outputs": [
        {
          "output_type": "stream",
          "name": "stdout",
          "text": [
            "12\n",
            "2\n",
            "35\n",
            "1.4\n"
          ]
        }
      ]
    },
    {
      "cell_type": "code",
      "source": [
        "a,b = 7,5\n",
        "\n",
        "de = a // b\n",
        "print(de)\n",
        "\n",
        "re = a % b\n",
        "print(re)\n",
        "\n",
        "po = a**b\n",
        "print(po)"
      ],
      "metadata": {
        "colab": {
          "base_uri": "https://localhost:8080/"
        },
        "id": "oHcohLkiLNei",
        "outputId": "91be72e6-0ce9-432e-c333-a060d94365a1"
      },
      "execution_count": null,
      "outputs": [
        {
          "output_type": "stream",
          "name": "stdout",
          "text": [
            "1\n",
            "2\n",
            "16807\n"
          ]
        }
      ]
    },
    {
      "cell_type": "code",
      "source": [
        "a = \"12\"\n",
        "b = \"15\"\n",
        "\n",
        "a = 12\n",
        "b = 15\n",
        "\n",
        "print(a+b)\n",
        "\n",
        "# ¿Como convertir una cadena a entero? -->int()\n",
        "\n",
        "valor = \"12\"\n",
        "\n",
        "valor_numerico = int(valor)\n",
        "\n",
        "print(valor_numerico)\n"
      ],
      "metadata": {
        "colab": {
          "base_uri": "https://localhost:8080/"
        },
        "id": "OH80kReJMEJ-",
        "outputId": "4591ec69-bd24-4b81-c17e-bd1bdb9f362b"
      },
      "execution_count": null,
      "outputs": [
        {
          "output_type": "stream",
          "name": "stdout",
          "text": [
            "27\n",
            "12\n"
          ]
        }
      ]
    },
    {
      "cell_type": "markdown",
      "source": [
        "## Ejercicio 4\n",
        "Ingresar los valores de a, b y c por teclado y calcular las raíces de la ecuación.\n",
        "\n",
        "<img src=\"https://blog.orange.es/wp-content/uploads/sites/4/2025/03/ecuaciones-de-segundo-grado-como-resolverlas.jpg\" width=\"200\"> </img>\n"
      ],
      "metadata": {
        "id": "3bMzAAcmL-rb"
      }
    },
    {
      "cell_type": "code",
      "source": [
        "a = input(\"Ingresar valor de a :\")\n",
        "b = input(\"Ingresar valor de b :\")\n",
        "c = input(\"Ingresar valor de c :\")\n",
        "\n",
        "a = int(a)\n"
      ],
      "metadata": {
        "id": "y1xNLv4-PGMn"
      },
      "execution_count": null,
      "outputs": []
    },
    {
      "cell_type": "code",
      "source": [
        "# Ingresar los coeficientes\n",
        "\n",
        "\n",
        "a = int(input(\"Ingresar el coeficiente a \"))\n",
        "b = int(input(\"Ingresar el coeficiente b \"))\n",
        "c = int(input(\"Ingresar el coeficiente c \"))\n",
        "\n",
        "#Calculo de soluciones\n",
        "\n",
        "x1 = (-b + (b**2 - 4*a*c)**(1/2))/(2*a)\n",
        "x2 = (-b - (b**2 - 4*a*c)**(1/2))/(2*a)\n",
        "\n",
        "#Salida\n",
        "print(f\"Las soluciones son {x1} y {x2}\")"
      ],
      "metadata": {
        "colab": {
          "base_uri": "https://localhost:8080/"
        },
        "id": "ggD-9cudP_VO",
        "outputId": "d1101cad-dd06-4a83-8016-d24d9113dfd0"
      },
      "execution_count": null,
      "outputs": [
        {
          "output_type": "stream",
          "name": "stdout",
          "text": [
            "Ingresar el coeficiente a 1\n",
            "Ingresar el coeficiente b 4\n",
            "Ingresar el coeficiente c 3\n",
            "Las soluciones son -1.0 y -3.0\n"
          ]
        }
      ]
    },
    {
      "cell_type": "code",
      "source": [
        "# Valores de a, b y c\n",
        "a = input(\"Ingrese el valor de a:\")\n",
        "b = input(\"Ingrese el valor de b:\")\n",
        "c = input(\"Ingrese el valor de c:\")\n",
        "a=int(a)\n",
        "b=int(b)\n",
        "c=int(c)\n",
        "# Calculamos el discriminante\n",
        "discriminante = b**2 - 4*a*c\n",
        "\n",
        "\n",
        "# Calculamos las dos soluciones\n",
        "x1 = (-b + discriminante**0.5) / (2*a)\n",
        "x2 = (-b - discriminante**0.5) / (2*a)\n",
        "\n",
        "\n",
        "# Mostramos los resultados\n",
        "print(\"Solución 1:\", x1)\n",
        "print(\"Solución 2:\", x2)"
      ],
      "metadata": {
        "colab": {
          "base_uri": "https://localhost:8080/"
        },
        "id": "j3yQxPdCQS6q",
        "outputId": "d29d83b0-6cd3-41a7-9322-628c8c1f7612"
      },
      "execution_count": null,
      "outputs": [
        {
          "output_type": "stream",
          "name": "stdout",
          "text": [
            "Ingrese el valor de a:1\n",
            "Ingrese el valor de b:4\n",
            "Ingrese el valor de c:3\n",
            "Solución 1: -1.0\n",
            "Solución 2: -3.0\n"
          ]
        }
      ]
    },
    {
      "cell_type": "markdown",
      "source": [
        "## Operadores logicos"
      ],
      "metadata": {
        "id": "IdtF6Zv4QyoH"
      }
    },
    {
      "cell_type": "code",
      "source": [
        "edad_maria , edad_carlos = 14, 16\n",
        "\n",
        "exp_b = edad_maria > edad_carlos\n",
        "print(exp_b)\n",
        "\n",
        "exp_b = edad_maria >= edad_carlos\n",
        "print(exp_b)\n",
        "\n",
        "exp_b = edad_maria < edad_carlos\n",
        "print(exp_b)\n",
        "\n",
        "exp_b = edad_maria == edad_carlos\n",
        "print(exp_b)\n",
        "\n",
        "exp_b = edad_maria != edad_carlos\n",
        "print(exp_b)\n"
      ],
      "metadata": {
        "colab": {
          "base_uri": "https://localhost:8080/"
        },
        "id": "r2ZMNOsDQ065",
        "outputId": "1cde673b-913e-4336-855a-11cfb041309b"
      },
      "execution_count": null,
      "outputs": [
        {
          "output_type": "stream",
          "name": "stdout",
          "text": [
            "False\n",
            "False\n",
            "True\n",
            "False\n",
            "True\n"
          ]
        }
      ]
    },
    {
      "cell_type": "markdown",
      "source": [
        "## Operadores booleanos\n",
        "\n",
        "<img src=\"https://introcs.cs.princeton.edu/python/12types/images/BoolOperators.png\" ></img>"
      ],
      "metadata": {
        "id": "vH4XoCIpRxjT"
      }
    },
    {
      "cell_type": "code",
      "source": [
        "a, b = True, False\n",
        "\n",
        "exp_b = a and b # &\n",
        "print(exp_b)\n",
        "\n",
        "exp_b = a or b # |\n",
        "print(exp_b)\n",
        "\n",
        "exp_b = not b\n",
        "print(exp_b)\n",
        "\n"
      ],
      "metadata": {
        "colab": {
          "base_uri": "https://localhost:8080/"
        },
        "id": "Heq4mhS7R0Gn",
        "outputId": "485d0627-a582-4c09-d249-5422eade5675"
      },
      "execution_count": null,
      "outputs": [
        {
          "output_type": "stream",
          "name": "stdout",
          "text": [
            "False\n",
            "True\n",
            "True\n"
          ]
        }
      ]
    },
    {
      "cell_type": "code",
      "source": [
        "'''\n",
        "Si tienes más de 10 años puedes llevar un curso de Python o\n",
        "Si tiene más de 13 años puedes llevar un curso de Java\n",
        "'''\n",
        "\n",
        "edad = 10\n",
        "\n",
        "exp_a = (edad > 10 or edad > 13)\n",
        "\n",
        "\n",
        "'''\n",
        "Si es sabado y es por la tarde entonces estas llevando un curso de Python\n",
        "\n",
        "'''\n",
        "es_sabado = True\n",
        "es_tarde = True\n",
        "\n",
        "exp_b = (es_sabado and es_tarde)\n",
        "\n",
        "\n",
        "'''\n",
        "Si asistes a todas las clases y apruebas el examen final podras obtener la certificación.\n",
        "\n",
        "'''\n",
        "\n",
        "'''\n",
        "Si tienes mas de 18 años y eres peruanos puedes participar en las elecciones presidenciales\n",
        "'''\n",
        "\n",
        "'''\n",
        "Si tienes mas de 65 años y has aportado 20 años a tu jubilación puedes jubilarte.\n",
        "'''\n",
        "\n"
      ],
      "metadata": {
        "id": "9kToiHHdTc6M"
      },
      "execution_count": null,
      "outputs": []
    },
    {
      "cell_type": "code",
      "source": [
        "'''\n",
        "Si asistes a todas las clases y apruebas el examen final podras obtener la certificación.\n",
        "\n",
        "'''\n",
        "asis_clases = True\n",
        "aprb_efinal = False\n",
        "\n",
        "exp_a=(asis_clases and aprb_efinal)\n",
        "print (exp_a)\n",
        "\n",
        "'''\n",
        "Si tienes mas de 18 años y eres peruanos puedes participar en las elecciones presidenciales\n",
        "'''\n",
        "edad1, pais = 26,\"Perú\"\n",
        "\n",
        "exp_b=(edad1 >= 18 and pais == \"Perú\")\n",
        "print (exp_b)\n",
        "\n",
        "'''\n",
        "Si tienes mas de 65 años y has aportado 20 años a tu jubilación puedes jubilarte.\n",
        "'''\n",
        "edad2,años_jub = 65,15\n",
        "\n",
        "exp_c=(edad2 >= 65 and años_jub >= 20)\n",
        "print (exp_c)"
      ],
      "metadata": {
        "colab": {
          "base_uri": "https://localhost:8080/"
        },
        "id": "6Q8V7vNNYItR",
        "outputId": "ff17a902-b2db-47b8-f070-1d4f6899e13f"
      },
      "execution_count": 50,
      "outputs": [
        {
          "output_type": "stream",
          "name": "stdout",
          "text": [
            "False\n",
            "True\n",
            "False\n"
          ]
        }
      ]
    },
    {
      "cell_type": "markdown",
      "source": [
        "## Cadenas"
      ],
      "metadata": {
        "id": "tMyEw0Cza1Jk"
      }
    },
    {
      "cell_type": "code",
      "source": [
        "\n",
        "#      0123456789.....\n",
        "msg = \"Mi nuevo mensaje\"\n",
        "\n",
        "# Indices positivos\n",
        "print(msg)\n",
        "print(msg[0])\n",
        "print(msg[15])\n",
        "\n",
        "# Indices negativos\n",
        "print(msg[-1])\n",
        "print(msg[-16])\n",
        "\n"
      ],
      "metadata": {
        "colab": {
          "base_uri": "https://localhost:8080/"
        },
        "id": "ovlxmYvqa3Sm",
        "outputId": "70556907-7764-46c2-c2ea-3d85d8f956ce"
      },
      "execution_count": 55,
      "outputs": [
        {
          "output_type": "stream",
          "name": "stdout",
          "text": [
            "Mi nuevo mensaje\n",
            "M\n",
            "e\n",
            "e\n",
            "M\n"
          ]
        }
      ]
    },
    {
      "cell_type": "code",
      "source": [
        "mensaje = \"En un lugar de la Mancha, de cuyo nombre no quiero acordarme\"\n",
        "\n",
        "print(mensaje[0])\n",
        "print(mensaje[-1])\n"
      ],
      "metadata": {
        "colab": {
          "base_uri": "https://localhost:8080/"
        },
        "id": "9uQedIugb9XD",
        "outputId": "0473414c-4760-402f-df5c-5336bf7e4fcc"
      },
      "execution_count": 56,
      "outputs": [
        {
          "output_type": "stream",
          "name": "stdout",
          "text": [
            "E\n",
            "e\n"
          ]
        }
      ]
    },
    {
      "cell_type": "markdown",
      "source": [
        "### Ejercicio 5\n",
        "\n",
        "Dada la serie  \"123456789\" en un texto, calcular la suma de los digitos\n",
        "\n",
        "<img src =\"https://www.ejemplode.com/images/uploads/matematicas/series_aritmeticas-formulas.png?1520218210716\" />"
      ],
      "metadata": {
        "id": "7euDFJ4QcaQu"
      }
    },
    {
      "cell_type": "code",
      "source": [
        "serie = \"123456789\"\n",
        "\n",
        "#extraigo las cifras y las convierto a enteros\n",
        "\n",
        "\n",
        "a1 = int(serie[0])\n",
        "an = int(serie[-1])\n",
        "\n",
        "\n",
        "# calculo el numero de elementos\n",
        "\n",
        "\n",
        "n = len(serie)\n",
        "\n",
        "\n",
        "# Calculo la suma de todos los elementos\n",
        "\n",
        "\n",
        "sa = (n*(a1+an))/2\n",
        "\n",
        "\n",
        "# Salida\n",
        "\n",
        "\n",
        "print(\"La suma de los elementos de la serie es: \", sa)"
      ],
      "metadata": {
        "id": "uZCn_sf7cnxf"
      },
      "execution_count": null,
      "outputs": []
    },
    {
      "cell_type": "markdown",
      "source": [
        "## SLICE"
      ],
      "metadata": {
        "id": "tH12Bo75evSn"
      }
    },
    {
      "cell_type": "code",
      "source": [
        "#                     15\n",
        "#      0123456789\n",
        "msg = \"Mi nuevo mensaje\"\n",
        "\n",
        "print(msg[3:8:1])\n",
        "print(msg[3:8:])\n",
        "print(msg[3:8])\n",
        "\n",
        "print(msg[0:4])\n",
        "print(msg[:4])\n",
        "\n",
        "print(msg[9:16])\n",
        "print(msg[9:])\n",
        "\n",
        "#print(msg[3:11:3])\n",
        "#print(msg[-3:-11:-3])\n",
        "\n",
        "print(msg[3:])\n",
        "print(msg[0:])\n",
        "print(msg[:])\n",
        "print(msg)"
      ],
      "metadata": {
        "colab": {
          "base_uri": "https://localhost:8080/"
        },
        "id": "3Rj77LN2hg-9",
        "outputId": "2ff3249b-4459-44a3-b025-a2aa9102ae95"
      },
      "execution_count": 78,
      "outputs": [
        {
          "output_type": "stream",
          "name": "stdout",
          "text": [
            "nuevo\n",
            "nuevo\n",
            "nuevo\n",
            "Mi n\n",
            "Mi n\n",
            "mensaje\n",
            "mensaje\n",
            "nuevo mensaje\n",
            "Mi nuevo mensaje\n",
            "Mi nuevo mensaje\n",
            "Mi nuevo mensaje\n"
          ]
        }
      ]
    },
    {
      "cell_type": "code",
      "source": [
        "serie = \"0123456789\"\n",
        "\n",
        "print(serie[::2])\n",
        "print(serie[1::2])\n"
      ],
      "metadata": {
        "colab": {
          "base_uri": "https://localhost:8080/"
        },
        "id": "1z7fgwWmj0LW",
        "outputId": "84f14a74-8139-42dd-8820-c6037f9aa1a1"
      },
      "execution_count": 83,
      "outputs": [
        {
          "output_type": "stream",
          "name": "stdout",
          "text": [
            "02468\n",
            "13579\n"
          ]
        }
      ]
    },
    {
      "cell_type": "markdown",
      "source": [
        "## Comando IN"
      ],
      "metadata": {
        "id": "NddB4T-qnEzx"
      }
    },
    {
      "cell_type": "code",
      "source": [
        "'''\n",
        "Dado un texto, ingresar una palabra por teclado\n",
        "y verificar si la palabra existe en el texto\n",
        "\n",
        "'''\n",
        "\n",
        "texto = \"En un lugar de la Mancha, de cuyo nombre no quiero acordarme\"\n",
        "\n",
        "texto = texto.upper()\n",
        "\n",
        "palabra = input(\"Ingresar una palabra: \")\n",
        "\n",
        "palabra = palabra.upper()\n",
        "\n",
        "existe_en_texto = palabra in texto\n",
        "\n",
        "print(\"¿La palabra esta en el texto?\", existe_en_texto)\n",
        "\n"
      ],
      "metadata": {
        "colab": {
          "base_uri": "https://localhost:8080/"
        },
        "id": "ylfpPT--nLJ2",
        "outputId": "1d7a93a5-f64d-4548-8631-8ff66a086ed0"
      },
      "execution_count": 93,
      "outputs": [
        {
          "output_type": "stream",
          "name": "stdout",
          "text": [
            "Ingresar una palabra: Nombre\n",
            "¿La palabra esta en el texto? True\n"
          ]
        }
      ]
    },
    {
      "cell_type": "markdown",
      "source": [
        "Funciones de Cadenas\n",
        "- lower()\n",
        "- upper()\n",
        "- swapcase()\n",
        "- capitalize()\n",
        "- find()\n",
        "- rfind()\n",
        "- replace()"
      ],
      "metadata": {
        "id": "fq1B0qfQv5B9"
      }
    },
    {
      "cell_type": "code",
      "source": [
        "\"\"\"\n",
        "Ingresar una palabra, buscar la palabra en el texto y imprimir su posicion\n",
        "La palabra buscada reemplazarlo por la palabra Python\n",
        "Luego imprimir todo el mensaje en mayuscula.\n",
        "\n",
        "Imprimir el texto del ultimo paso , invertido\n",
        "\n",
        "\"\"\"\n",
        "\n",
        "\n",
        "texto = \"En un lugar de la Mancha, de cuyo nombre no quiero acordarme\"\n",
        "palabra= input(\"Ingresar una palabra: \")\n",
        "\n",
        "existe_palabra=palabra in texto\n",
        "\n",
        "print(\"¿La palabra esta en el texto?\", existe_palabra)\n",
        "\n",
        "texto = texto.replace(palabra,\"Python\")\n",
        "print(texto)\n",
        "\n",
        "texto = texto.upper()\n",
        "print(texto)\n",
        "\n",
        "texto = texto[::-1]\n",
        "print(texto)\n",
        "\n",
        "\n",
        "\n"
      ],
      "metadata": {
        "colab": {
          "base_uri": "https://localhost:8080/"
        },
        "id": "YSKnedepwLVM",
        "outputId": "5766def9-0a41-4a9c-a11c-5894db1b8b4b"
      },
      "execution_count": 1,
      "outputs": [
        {
          "output_type": "stream",
          "name": "stdout",
          "text": [
            "Ingresar una palabra: Mancha\n",
            "¿La palabra esta en el texto? True\n",
            "En un lugar de la Python, de cuyo nombre no quiero acordarme\n",
            "EN UN LUGAR DE LA PYTHON, DE CUYO NOMBRE NO QUIERO ACORDARME\n",
            "EMRADROCA OREIUQ ON ERBMON OYUC ED ,NOHTYP AL ED RAGUL NU NE\n"
          ]
        }
      ]
    }
  ]
}