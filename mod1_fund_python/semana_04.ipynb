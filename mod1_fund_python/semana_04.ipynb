{
 "cells": [
  {
   "cell_type": "markdown",
   "id": "f6dea77b-8f19-4fec-bc52-0e3a6855cd0f",
   "metadata": {},
   "source": [
    "## Semana 04\n",
    "\n",
    "- Descripción: Curso de Fundamentos de Python\n",
    "- Semana 4: Manipulación de datos\n",
    "- Autor: Jaime Gomez\n",
    "- Fecha: 11/10/2025\n",
    "- Versión:1\n"
   ]
  },
  {
   "cell_type": "code",
   "execution_count": 5,
   "id": "8ff55566-7229-476b-81ff-ef431827a6dc",
   "metadata": {},
   "outputs": [
    {
     "name": "stdout",
     "output_type": "stream",
     "text": [
      "<class '_io.TextIOWrapper'>\n",
      "archivo1.txt\n"
     ]
    }
   ],
   "source": [
    "# open() es una funcion para abrir archivos\n",
    "#  modo r : lectura\n",
    "#  modo a : agregación\n",
    "\n",
    "mi_archivo = open(\"archivo1.txt\",'r')\n",
    "\n",
    "print(type(mi_archivo))\n",
    "print(mi_archivo.name)"
   ]
  },
  {
   "cell_type": "code",
   "execution_count": null,
   "id": "d3d298c3-7bbf-4ee8-924a-5365120812a8",
   "metadata": {},
   "outputs": [],
   "source": []
  }
 ],
 "metadata": {
  "kernelspec": {
   "display_name": "Python [conda env:base] *",
   "language": "python",
   "name": "conda-base-py"
  },
  "language_info": {
   "codemirror_mode": {
    "name": "ipython",
    "version": 3
   },
   "file_extension": ".py",
   "mimetype": "text/x-python",
   "name": "python",
   "nbconvert_exporter": "python",
   "pygments_lexer": "ipython3",
   "version": "3.13.5"
  }
 },
 "nbformat": 4,
 "nbformat_minor": 5
}
