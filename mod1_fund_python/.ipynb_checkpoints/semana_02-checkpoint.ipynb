{
 "cells": [
  {
   "cell_type": "markdown",
   "id": "8a3157f3-b7db-4f7e-8f4c-dcb19f67ec89",
   "metadata": {},
   "source": [
    "## Semana 02\n",
    "\n",
    "- Descripción: Curso de Fundamentos de Python\n",
    "- Semana : 02\n",
    "- Autor: Jaime Gomez\n",
    "- Fecha: 27/09/2025\n",
    "- Versión:1\n"
   ]
  },
  {
   "cell_type": "markdown",
   "id": "1d2bcda9-1496-4a0f-b264-3f58c6f5b316",
   "metadata": {},
   "source": [
    "## 1.- Tuplas"
   ]
  },
  {
   "cell_type": "code",
   "execution_count": null,
   "id": "4b8bc777-74a3-40e7-8104-d7ab3a671ed0",
   "metadata": {},
   "outputs": [],
   "source": [
    "#           0  1  2  3  4  5  6  7  8\n",
    "t_serie = (10,20,30,40,50,60,70,80,90)\n",
    "print(type(t_serie))\n",
    "print(t_serie)\n",
    "\n",
    "# Acceder a una posicion\n",
    "print(t_serie[4])\n",
    "print(t_serie[0])\n",
    "print(t_serie[-1])\n",
    "\n",
    "# Error de asignacion\n",
    "# t_serie[0] = 21 \n",
    "\n",
    "# Slice\n",
    "print(t_serie[1::2])\n",
    "\n"
   ]
  },
  {
   "cell_type": "markdown",
   "id": "b7205990-0e98-40f5-8b68-a1ddb4dd8b87",
   "metadata": {},
   "source": [
    "### Ejercicio 01\n",
    "\n",
    "Crear una estructura para almacenar los datos de una persona -> nombre, apellido, nro favorito, si le gusta el ajedrez?"
   ]
  },
  {
   "cell_type": "code",
   "execution_count": 12,
   "id": "ee1d6683-a5fb-4ef3-90d1-c8a79e8e095e",
   "metadata": {},
   "outputs": [
    {
     "name": "stdout",
     "output_type": "stream",
     "text": [
      "('Jaime', 'Gomez', 13, True)\n"
     ]
    }
   ],
   "source": [
    "\n",
    "datos_persona = (\"Jaime\", \"Gomez\" , 13, True)\n",
    "\n",
    "print(datos_persona)\n",
    "\n"
   ]
  },
  {
   "cell_type": "markdown",
   "id": "623e755c-93de-4563-92b2-094268028b38",
   "metadata": {},
   "source": [
    "### Ejercicio 02\n",
    "\n",
    "Representar los participantes del curso de Fundamentos de Python"
   ]
  },
  {
   "cell_type": "code",
   "execution_count": 1,
   "id": "a477eee5-9692-409c-b3de-0aaa9ea983b1",
   "metadata": {},
   "outputs": [
    {
     "name": "stdout",
     "output_type": "stream",
     "text": [
      "('Yeni', 'Paredes', 40, True)\n",
      "40\n",
      "False\n",
      "M\n",
      "13\n",
      "Yeni\n"
     ]
    }
   ],
   "source": [
    "participantes = (\n",
    "    (\"Jaime\", \"Gomez\" , 13, True),   # index: 0\n",
    "    (\"Martin\", \"Bendezu\" , 1, False),\n",
    "    (\"Jesus\", \"M\" , 100, True),\n",
    "    (\"Yeni\", \"Paredes\" , 40, True)  \n",
    ")\n",
    "\n",
    "print(participantes[3])\n",
    "\n",
    "print(participantes[3][2])\n",
    "\n",
    "'''\n",
    "Dame las impresiones para\n",
    "- La preferencia de ajedrez de Martin\n",
    "- El apellido de Jesus\n",
    "- El nro. favorito de Jaime\n",
    "- El nombre de Paredes\n",
    "'''\n",
    "print(participantes[1][3])\n",
    "print(participantes[2][1])\n",
    "print(participantes[0][2])\n",
    "print(participantes[3][0])\n",
    "\n",
    "print(len(participantes))\n",
    "      "
   ]
  },
  {
   "cell_type": "code",
   "execution_count": 2,
   "id": "087c224a-9eed-40f6-9f94-bee1daa738b6",
   "metadata": {},
   "outputs": [
    {
     "name": "stdout",
     "output_type": "stream",
     "text": [
      "('Jaime', 'Silvia', 'Rocio', 'Juan')\n",
      "['Jaime', 'Juan', 'Rocio', 'Silvia']\n",
      "['Silvia', 'Rocio', 'Juan', 'Jaime']\n"
     ]
    }
   ],
   "source": [
    "t_nros = (12,33,45,66,77,88)\n",
    "t_nros = (\"Jaime\",\"Silvia\",\"Rocio\",\"Juan\")\n",
    "\n",
    "t_nros_sorted = sorted(t_nros)\n",
    "\n",
    "print(t_nros)\n",
    "print(t_nros_sorted)\n",
    "print(t_nros_sorted[-1::-1])\n"
   ]
  },
  {
   "cell_type": "markdown",
   "id": "1f63c15b-f42c-4c0c-9d87-c2a27b6a94ea",
   "metadata": {},
   "source": [
    "## Funciones sum, min, max, count, len , in  en Tuplas"
   ]
  },
  {
   "cell_type": "code",
   "execution_count": 18,
   "id": "25d59798-c66b-4ebb-8a97-4e6f8f1fa1a1",
   "metadata": {},
   "outputs": [
    {
     "name": "stdout",
     "output_type": "stream",
     "text": [
      "432\n",
      "12\n",
      "88\n",
      "10\n",
      "4\n",
      "1\n",
      "False\n"
     ]
    }
   ],
   "source": [
    "t_nros = (12,33,45,66,77,88,33,12,33,33)\n",
    "\n",
    "print(sum(t_nros))\n",
    "print(min(t_nros))\n",
    "print(max(t_nros))\n",
    "print(len(t_nros))\n",
    "print(t_nros.count(33))\n",
    "print(t_nros.count(77))\n",
    "\n",
    "situacion = 333 in t_nros\n",
    "print(situacion)\n"
   ]
  },
  {
   "cell_type": "markdown",
   "id": "6a2ce52d-3e58-4418-90e3-8fa07353b0c2",
   "metadata": {},
   "source": [
    "### Ejercicio 3\n",
    "\n",
    "Dado los numeros : 22, 33, 44, 55, 66, 77, 88, 99, 11, 123\n",
    "- Calcular el promedio\n",
    "- Obtener la suma de los nros. localizados en las posiciones pares\n",
    "- Obtener el menor nro. localizados en las posiciones impares"
   ]
  },
  {
   "cell_type": "code",
   "execution_count": 19,
   "id": "f8e234fe-f2eb-446b-b7a6-7627823de3e9",
   "metadata": {},
   "outputs": [
    {
     "name": "stdout",
     "output_type": "stream",
     "text": [
      "61.8\n",
      "387\n",
      "11\n"
     ]
    }
   ],
   "source": [
    "t_numeros = (22,33,44,55,66,77,88,99,11,123)\n",
    "\n",
    "print(sum(t_numeros)/len(t_numeros))\n",
    "print(sum(t_numeros[1::2]))\n",
    "print(min(t_numeros[::2]))"
   ]
  },
  {
   "cell_type": "markdown",
   "id": "40d4c427-e733-44f0-9c60-f9bada2c3232",
   "metadata": {},
   "source": [
    "## 2.- Listas"
   ]
  },
  {
   "cell_type": "code",
   "execution_count": 22,
   "id": "6ef304c2-f4b1-4535-8e9f-5774239fa20a",
   "metadata": {},
   "outputs": [
    {
     "name": "stdout",
     "output_type": "stream",
     "text": [
      "<class 'list'>\n",
      "[10, 20, 30, 40, 50, 60, 70, 80, 90]\n",
      "50\n",
      "10\n",
      "90\n",
      "[21, 40, 60, 80]\n"
     ]
    }
   ],
   "source": [
    "#           0  1  2  3  4  5  6  7  8\n",
    "l_serie = [10,20,30,40,50,60,70,80,90]\n",
    "print(type(l_serie))\n",
    "print(l_serie)\n",
    "\n",
    "# Acceder a una posicion\n",
    "print(l_serie[4])\n",
    "print(l_serie[0])\n",
    "print(l_serie[-1])\n",
    "\n",
    "# Asignacion\n",
    "l_serie[1] = 21 \n",
    "\n",
    "# Slice\n",
    "print(l_serie[1::2])\n",
    "\n"
   ]
  },
  {
   "cell_type": "code",
   "execution_count": 23,
   "id": "e205f579-2aaa-4807-a403-e6e3d2b512fc",
   "metadata": {},
   "outputs": [
    {
     "name": "stdout",
     "output_type": "stream",
     "text": [
      "['Jaime', 'Gomez', 13, True]\n"
     ]
    }
   ],
   "source": [
    "\n",
    "datos_persona = [\"Jaime\", \"Gomez\" , 13, True]\n",
    "\n",
    "print(datos_persona)"
   ]
  },
  {
   "cell_type": "code",
   "execution_count": 25,
   "id": "a155e2bb-94ed-4bf2-952d-ef83b5d45891",
   "metadata": {},
   "outputs": [
    {
     "name": "stdout",
     "output_type": "stream",
     "text": [
      "False\n",
      "M\n",
      "13\n",
      "Yeni\n"
     ]
    }
   ],
   "source": [
    "participantes = [\n",
    "    [\"Jaime\", \"Gomez\" , 13, True],   # index: 0\n",
    "    [\"Martin\", \"Bendezu\" , 1, False],\n",
    "    [\"Jesus\", \"M\" , 100, True],\n",
    "    [\"Yeni\", \"Paredes\" , 40, True]  \n",
    "]\n",
    "'''\n",
    "Dame las impresiones para\n",
    "- La preferencia de ajedrez de Martin\n",
    "- El apellido de Jesus\n",
    "- El nro. favorito de Jaime\n",
    "- El nombre de Paredes\n",
    "'''\n",
    "print(participantes[1][3])\n",
    "print(participantes[2][1])\n",
    "print(participantes[0][2])\n",
    "print(participantes[3][0])"
   ]
  },
  {
   "cell_type": "code",
   "execution_count": 37,
   "id": "067daa71-4658-4abc-bcf1-611c1e4ad8ed",
   "metadata": {},
   "outputs": [
    {
     "name": "stdout",
     "output_type": "stream",
     "text": [
      "[12, 33, 45, 10, 5, 66, 77, 88]\n",
      "[12, 33, 45, 10, 5, 66, 77, 88]\n",
      "[5, 10, 12, 33, 45, 66, 77, 88]\n",
      "[88, 77, 66, 45, 33, 12, 10, 5]\n"
     ]
    }
   ],
   "source": [
    "nros = [12,33,45,10, 5, 66,77,88]\n",
    "#nros = [\"Jaime\",\"Silvia\",\"Rocio\",\"Juan\"]\n",
    "\n",
    "print(nros)\n",
    "\n",
    "nros_sorted = sorted(nros)\n",
    "\n",
    "print(nros)\n",
    "\n",
    "print(nros_sorted)\n",
    "\n",
    "print(nros_sorted[-1::-1])"
   ]
  },
  {
   "cell_type": "code",
   "execution_count": 36,
   "id": "4a39a361-d13a-48de-93e5-efd2be6b8a9d",
   "metadata": {},
   "outputs": [
    {
     "name": "stdout",
     "output_type": "stream",
     "text": [
      "[12, 33, 45, 10, 5, 66, 77, 88]\n",
      "[5, 10, 12, 33, 45, 66, 77, 88]\n",
      "[88, 77, 66, 45, 33, 12, 10, 5]\n"
     ]
    }
   ],
   "source": [
    "nros = [12,33,45,10, 5, 66,77,88]\n",
    "#nros = [\"Jaime\",\"Silvia\",\"Rocio\",\"Juan\"]\n",
    "\n",
    "print(nros)\n",
    "\n",
    "nros.sort()\n",
    "\n",
    "print(nros)\n",
    "\n",
    "print(nros[-1::-1])"
   ]
  },
  {
   "cell_type": "code",
   "execution_count": 29,
   "id": "054254b9-03a8-4bdd-a6a5-4e2d787cec83",
   "metadata": {},
   "outputs": [
    {
     "name": "stdout",
     "output_type": "stream",
     "text": [
      "432\n",
      "12\n",
      "88\n",
      "10\n",
      "4\n",
      "1\n",
      "False\n"
     ]
    }
   ],
   "source": [
    "nros = [12,33,45,66,77,88,33,12,33,33]\n",
    "\n",
    "print(sum(nros))\n",
    "print(min(nros))\n",
    "print(max(nros))\n",
    "print(len(nros))\n",
    "print(nros.count(33))\n",
    "print(nros.count(77))\n",
    "\n",
    "situacion = 333 in nros\n",
    "print(situacion)\n"
   ]
  },
  {
   "cell_type": "markdown",
   "id": "bc09bf27-a13d-43e1-863d-9880dc5946ea",
   "metadata": {},
   "source": [
    "### Funcionalidades especiales de Listas"
   ]
  },
  {
   "cell_type": "code",
   "execution_count": 45,
   "id": "55df5488-f635-454c-b3a2-944109921df4",
   "metadata": {},
   "outputs": [
    {
     "name": "stdout",
     "output_type": "stream",
     "text": [
      "['Jaime', 'Silvia', 'Rocio', 'Juan', 'Alberto']\n",
      "['Jaime', 'Silvia', 'Rocio', 'Juan', 'Alberto', 'Rocio']\n",
      "['Jaime', 'Silvia', 'Rocio', 'Juan', 'Alberto', 'Rocio', 'Patty', 'Pedro']\n",
      "['Jaime', 'Rocio', 'Juan', 'Alberto', 'Rocio', 'Patty', 'Pedro']\n",
      "['Jaime', 'Juan', 'Alberto', 'Rocio', 'Patty', 'Pedro']\n"
     ]
    }
   ],
   "source": [
    "\n",
    "# Participantes de clases\n",
    "participantes_clases = [\"Jaime\",\"Silvia\",\"Rocio\",\"Juan\"]\n",
    "\n",
    "# llega Alberto a clases\n",
    "participantes_clases.append(\"Alberto\")\n",
    "print(participantes_clases)\n",
    "\n",
    "# llega Rocio a clases\n",
    "participantes_clases.append(\"Rocio\")\n",
    "print(participantes_clases)\n",
    "\n",
    "# llega Patty y Pedro a clases\n",
    "#participantes_clases.append(\"Patty\")\n",
    "#participantes_clases.append(\"Pedro\")\n",
    "participantes_clases.extend([\"Patty\",\"Pedro\"])\n",
    "print(participantes_clases)\n",
    "\n",
    "# Se retira Silvia de clases\n",
    "participantes_clases.remove(\"Silvia\")\n",
    "print(participantes_clases)\n",
    "\n",
    "# Se retira Rocio de clases\n",
    "del(participantes_clases[1])\n",
    "print(participantes_clases)\n"
   ]
  },
  {
   "cell_type": "markdown",
   "id": "1b3fa843-4673-4a24-adbd-be190c4be4ec",
   "metadata": {},
   "source": [
    "### Ejercicio 4\n",
    "Se tiene 2 departamentos de una empresa\n",
    "- En el departamento de Recursos Humanos se tienen a los siguientes empleados : Albert, Julia, Samuel, Ericka y Rocio\n",
    "- En el departamento de Estudios Generales se tienen a los siguientes empleados : Juan, Raul, Elias, Salas y Efrain\n",
    "Se ha pedido el cambio de Salas al dpto de Recursos Humanos, realizar el cambio , e indicar cuantos empleados por departamento hay al final del cambio de Salas "
   ]
  },
  {
   "cell_type": "code",
   "execution_count": 48,
   "id": "7d91e829-b71b-4f1d-bd32-a511595f3467",
   "metadata": {},
   "outputs": [
    {
     "name": "stdout",
     "output_type": "stream",
     "text": [
      "['Albert', 'Julia', 'Samuel', 'Ericka', 'Rocio', 'Salas']\n",
      "['Juan', 'Raul', 'Elias', 'Efrain']\n",
      "En RH hay 6 personas y en EG hay 4\n"
     ]
    }
   ],
   "source": [
    "RH = [\"Albert\",\"Julia\",\"Samuel\",\"Ericka\",\"Rocio\"]\n",
    "EG = [\"Juan\", \"Raul\", \"Elias\", \"Salas\" ,\"Efrain\"]\n",
    "\n",
    "RH.append(\"Salas\")\n",
    "EG.remove(\"Salas\")\n",
    "\n",
    "print (RH)\n",
    "print (EG)\n",
    "\n",
    "print(f\"En RH hay {len(RH)} personas y en EG hay {len(EG)}\")"
   ]
  },
  {
   "cell_type": "markdown",
   "id": "4d8823ed-dbbd-4cec-965b-7e0fa76c5f74",
   "metadata": {},
   "source": [
    "### Funciones split y join"
   ]
  },
  {
   "cell_type": "code",
   "execution_count": 51,
   "id": "353db801-caf9-4fba-93d8-673726edaab3",
   "metadata": {},
   "outputs": [
    {
     "name": "stdout",
     "output_type": "stream",
     "text": [
      "['Albert', 'Julia', 'Samuel', 'Ericka', 'Rocio']\n",
      "Albert - Julia - Samuel - Ericka - Rocio\n"
     ]
    }
   ],
   "source": [
    "str_personas = \"Albert, Julia, Samuel, Ericka, Rocio\"\n",
    "\n",
    "lista_personas = str_personas.split(\", \")\n",
    "\n",
    "print(lista_personas)\n",
    "\n",
    "nueva_str_personas = \" - \".join(lista_personas)\n",
    "\n",
    "print(nueva_str_personas)\n"
   ]
  },
  {
   "cell_type": "code",
   "execution_count": 54,
   "id": "2f0a893a-ba87-4152-b0b6-711cb3e765f3",
   "metadata": {},
   "outputs": [
    {
     "name": "stdout",
     "output_type": "stream",
     "text": [
      "['Albert', 'Julia', 'Samuel', 'Ericka', 'Rocio']\n",
      "True\n"
     ]
    }
   ],
   "source": [
    "print(lista_personas)\n",
    "\n",
    "esta_jaime = \"Julia\" in lista_personas\n",
    "\n",
    "print(esta_jaime)\n"
   ]
  },
  {
   "cell_type": "markdown",
   "id": "5e4aa402-6888-4b89-9a40-9cb9f3adf5cf",
   "metadata": {},
   "source": [
    "## 3.- Set"
   ]
  },
  {
   "cell_type": "code",
   "execution_count": 57,
   "id": "fd9c8df3-ffbb-480c-afc7-71efc2f788f5",
   "metadata": {},
   "outputs": [
    {
     "name": "stdout",
     "output_type": "stream",
     "text": [
      "['Albert', 'Julia', 'Samuel', 'Ericka', 'Rocio', 'Jaime']\n",
      "['Albert', 'Julia', 'Samuel', 'Ericka', 'Rocio', 'Jaime', 'Julia']\n",
      "['Albert', 'Julia', 'Samuel', 'Ericka', 'Rocio', 'Jaime', 'Julia', 'Rocio']\n"
     ]
    }
   ],
   "source": [
    "rrhh = [\"Albert\",\"Julia\",\"Samuel\",\"Ericka\",\"Rocio\"]\n",
    "\n",
    "rrhh.append(\"Jaime\")\n",
    "print(rrhh)\n",
    "\n",
    "rrhh.append(\"Julia\")\n",
    "print(rrhh)\n",
    "\n",
    "rrhh.append(\"Rocio\")\n",
    "print(rrhh)\n"
   ]
  },
  {
   "cell_type": "code",
   "execution_count": 59,
   "id": "aaf56af9-1803-4eb5-a969-c4669f49ef10",
   "metadata": {},
   "outputs": [
    {
     "name": "stdout",
     "output_type": "stream",
     "text": [
      "{'Julia', 'Albert', 'Ericka', 'Jaime', 'Samuel', 'Rocio'}\n",
      "{'Julia', 'Albert', 'Ericka', 'Jaime', 'Samuel', 'Rocio'}\n",
      "{'Julia', 'Albert', 'Ericka', 'Jaime', 'Samuel', 'Rocio'}\n"
     ]
    }
   ],
   "source": [
    "rrhh = {\"Albert\",\"Julia\",\"Samuel\",\"Ericka\",\"Rocio\"}\n",
    "\n",
    "rrhh.add(\"Jaime\")\n",
    "print(rrhh)\n",
    "\n",
    "rrhh.add(\"Julia\")\n",
    "print(rrhh)\n",
    "\n",
    "rrhh.add(\"Rocio\")\n",
    "print(rrhh)"
   ]
  },
  {
   "cell_type": "markdown",
   "id": "e10f96aa-455e-40d3-b6f6-2d376d0a4ad7",
   "metadata": {},
   "source": [
    "### Operaciones entre set"
   ]
  },
  {
   "cell_type": "code",
   "execution_count": 92,
   "id": "69820eb2-4b4d-4988-9b43-7f17aafcc853",
   "metadata": {},
   "outputs": [
    {
     "name": "stdout",
     "output_type": "stream",
     "text": [
      "{'Tenis', 'Squash', 'Voley', 'Baseball', 'Futbol', 'Judo'}\n",
      "{'Futbol', 'Tenis'}\n",
      "{'Squash', 'Baseball'}\n",
      "{'Voley', 'Judo'}\n"
     ]
    }
   ],
   "source": [
    "deportes_A = {\"Futbol\",\"Tenis\",\"Baseball\",\"Squash\"}\n",
    "deportes_B = {\"Futbol\",\"Tenis\",\"Voley\",\"Judo\"}\n",
    "\n",
    "# Todos los deportes de ambos grupos\n",
    "deportes_unidos = deportes_A.union(deportes_B) # deportes_A | deportes_B \n",
    "print(deportes_unidos)\n",
    "\n",
    "# Deporte comunes entre el grupo A y B\n",
    "deportes_comunes = deportes_A.intersection(deportes_B)  # deportes_A & deportes_B \n",
    "print(deportes_comunes)\n",
    "\n",
    "# Deporte en el grupo A que no estan en el grupo B\n",
    "deportes_A_unicos = deportes_A.difference(deportes_B) # deportes_A ^ deportes_B \n",
    "print(deportes_comunes)\n",
    "print(deportes_A_unicos)\n",
    "\n",
    "# Deporte en el grupo B que no estan en el grupo A\n",
    "deportes_B_unicos = deportes_B.difference(deportes_A) # deportes_B ^ deportes_A \n",
    "print(deportes_B_unicos)\n"
   ]
  },
  {
   "cell_type": "markdown",
   "id": "f5f7aae8-d3f3-4816-b40a-98b686ea23a6",
   "metadata": {},
   "source": [
    "### Conversiones entre set, tupla y listas"
   ]
  },
  {
   "cell_type": "code",
   "execution_count": 60,
   "id": "9c050bdb-e5ea-4c7d-9cad-aef97e4c5f39",
   "metadata": {},
   "outputs": [
    {
     "name": "stdout",
     "output_type": "stream",
     "text": [
      "['Albert', 'Julia', 'Samuel', 'Ericka', 'Rocio', 'Jaime', 'Julia', 'Rocio']\n",
      "('Albert', 'Julia', 'Samuel', 'Ericka', 'Rocio', 'Jaime', 'Julia', 'Rocio')\n",
      "{'Julia', 'Ericka', 'Rocio', 'Jaime', 'Albert', 'Samuel'}\n",
      "['Julia', 'Ericka', 'Rocio', 'Jaime', 'Albert', 'Samuel']\n"
     ]
    }
   ],
   "source": [
    "nombres = ['Albert', 'Julia', 'Samuel', 'Ericka', 'Rocio', 'Jaime', 'Julia', 'Rocio']\n",
    "print(nombres)\n",
    "\n",
    "# Convierte a tuplas\n",
    "nombres = tuple(nombres)\n",
    "print(nombres)\n",
    "\n",
    "# Convierte a set\n",
    "nombres = set(nombres)\n",
    "print(nombres)\n",
    "\n",
    "# Convierte a list\n",
    "nombres = list(nombres)\n",
    "print(nombres)\n",
    "\n"
   ]
  },
  {
   "cell_type": "markdown",
   "id": "e1d832cc-05c5-4a90-959b-a34b9a5b3f5f",
   "metadata": {},
   "source": [
    "### Ejercicio 5\n",
    "\n",
    "Dado los siguientes nombres de una aula : Ana, Juan, María, Pedro, Luis, Ana, Sofía, Carlos, Juan, Elena, Laura, Pedro, Ana, David, María, José, Sofía, Luis, Ana, Elena.\n",
    "- Indicar cuantos alumnos hay en la clase\n",
    "- Cuales son los nombre no repetidos y cuantos son\n",
    "\n"
   ]
  },
  {
   "cell_type": "code",
   "execution_count": 78,
   "id": "a18441ed-231e-4183-9f9d-c61271869a79",
   "metadata": {},
   "outputs": [
    {
     "name": "stdout",
     "output_type": "stream",
     "text": [
      "Hay 20 estudiantes en el aula, los nombres no repetidos son Ana, Juan, Pedro, David, Sofía, José, Laura, Luis, Carlos, María, Elena, que son 11 nombres unicos\n"
     ]
    }
   ],
   "source": [
    "nombres_aula = [\"Ana\", \"Juan\", \"María\", \"Pedro\", \"Luis\", \"Ana\", \"Sofía\",\"Carlos\", \"Juan\", \"Elena\", \"Laura\", \"Pedro\", \"Ana\", \"David\",\"María\", \"José\", \"Sofía\", \"Luis\", \"Ana\", \"Elena\"]\n",
    "total_alumnos = len(nombres_aula)\n",
    "\n",
    "nombres_unicos_set = set(nombres_aula)\n",
    "nombres_texto = \", \".join(nombres_unicos_set)\n",
    "\n",
    "print(f\"Hay {total_alumnos} estudiantes en el aula, los nombres no repetidos son {nombres_texto}, que son {len(nombres_unicos_set)} nombres unicos\")"
   ]
  },
  {
   "cell_type": "code",
   "execution_count": 79,
   "id": "53a7a2b0-71ed-4e00-9fc8-4b860d8c807d",
   "metadata": {},
   "outputs": [
    {
     "name": "stdout",
     "output_type": "stream",
     "text": [
      "['Ana', 'Juan', 'María', 'Pedro', 'Luis', 'Ana', 'Sofía', 'Carlos', 'Juan', 'ELena', 'Laura', 'Pedro', 'Ana', 'David', 'María', 'José', 'Sofía', 'Luis', 'Ana', 'Elena']\n",
      "Cantidad de alumnos en la clase: 20\n",
      "{'Ana', 'Juan', 'Pedro', 'ELena', 'David', 'Sofía', 'José', 'Laura', 'Luis', 'Carlos', 'María', 'Elena'}\n",
      "12\n"
     ]
    }
   ],
   "source": [
    "x = \"Ana, Juan, María, Pedro, Luis, Ana, Sofía, Carlos, Juan, ELena, Laura, Pedro, Ana, David, María, José, Sofía, Luis, Ana, Elena\"\n",
    "lista_Aula = x.split(\", \")\n",
    "print(lista_Aula)\n",
    "\n",
    "print(\"Cantidad de alumnos en la clase:\", len(lista_Aula))\n",
    "\n",
    "lista_Aula = set(lista_Aula)\n",
    "print(lista_Aula)\n",
    "print(len(lista_Aula))"
   ]
  },
  {
   "cell_type": "markdown",
   "id": "3a1aa80b-5680-43b2-a230-1d55feac7ead",
   "metadata": {},
   "source": [
    "## 4.- Diccionarios"
   ]
  },
  {
   "cell_type": "markdown",
   "id": "99a47bfa-f9cf-4000-853d-2894bd7c2d73",
   "metadata": {},
   "source": [
    "## 5.- For"
   ]
  },
  {
   "cell_type": "code",
   "execution_count": 85,
   "id": "2b72302b-4f3a-4824-b923-d23794052c72",
   "metadata": {},
   "outputs": [
    {
     "name": "stdout",
     "output_type": "stream",
     "text": [
      "Julia\n",
      "Ericka\n",
      "Rocio\n",
      "Jaime\n",
      "Albert\n",
      "Samuel\n"
     ]
    }
   ],
   "source": [
    "nombres = ('Julia', 'Ericka', 'Rocio', 'Jaime', 'Albert', 'Samuel')\n",
    "\n",
    "for nombre in nombres:\n",
    "    print(nombre)\n"
   ]
  },
  {
   "cell_type": "code",
   "execution_count": 86,
   "id": "1e6b4cca-5dfa-4926-9f63-261739cab2b5",
   "metadata": {},
   "outputs": [
    {
     "name": "stdout",
     "output_type": "stream",
     "text": [
      "Julia\n",
      "Ericka\n",
      "Rocio\n",
      "Jaime\n",
      "Albert\n",
      "Samuel\n"
     ]
    }
   ],
   "source": [
    "nombres = ['Julia', 'Ericka', 'Rocio', 'Jaime', 'Albert', 'Samuel']\n",
    "\n",
    "for nombre in nombres:\n",
    "    print(nombre)"
   ]
  },
  {
   "cell_type": "code",
   "execution_count": 88,
   "id": "35028e9d-be2c-457b-894b-2ec753ab13e0",
   "metadata": {},
   "outputs": [
    {
     "name": "stdout",
     "output_type": "stream",
     "text": [
      "Rocio\n",
      "Julia\n",
      "Albert\n",
      "Ericka\n",
      "Samuel\n",
      "Jaime\n"
     ]
    }
   ],
   "source": [
    "nombres = {'Julia', 'Ericka', 'Rocio', 'Jaime', 'Albert', 'Samuel'}\n",
    "\n",
    "for nombre in nombres:\n",
    "    print(nombre)"
   ]
  },
  {
   "cell_type": "code",
   "execution_count": null,
   "id": "2adc73ca-26dc-4e30-8702-956ae347208d",
   "metadata": {},
   "outputs": [],
   "source": []
  }
 ],
 "metadata": {
  "kernelspec": {
   "display_name": "Python [conda env:base] *",
   "language": "python",
   "name": "conda-base-py"
  },
  "language_info": {
   "codemirror_mode": {
    "name": "ipython",
    "version": 3
   },
   "file_extension": ".py",
   "mimetype": "text/x-python",
   "name": "python",
   "nbconvert_exporter": "python",
   "pygments_lexer": "ipython3",
   "version": "3.13.5"
  }
 },
 "nbformat": 4,
 "nbformat_minor": 5
}
