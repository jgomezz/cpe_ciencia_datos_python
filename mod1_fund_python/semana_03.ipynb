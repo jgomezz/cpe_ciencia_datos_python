{
 "cells": [
  {
   "cell_type": "markdown",
   "id": "c06b0b95-3304-480c-9576-6a4614d3bf3e",
   "metadata": {},
   "source": [
    "## Semana 03\n",
    "\n",
    "- Descripción: Curso de Fundamentos de Python\n",
    "- Semana 3: Fundamentos de programación\n",
    "- Autor: Jaime Gomez\n",
    "- Fecha: 04/10/2025\n",
    "- Versión:1\n"
   ]
  },
  {
   "cell_type": "code",
   "execution_count": 6,
   "id": "2cff179c-b3f0-4f5b-be04-0caca3298f19",
   "metadata": {},
   "outputs": [
    {
     "name": "stdout",
     "output_type": "stream",
     "text": [
      "False\n",
      "False\n",
      "True\n"
     ]
    }
   ],
   "source": [
    "mi_var = 5\n",
    "\n",
    "print(mi_var > 5)\n",
    "print(\"Lima\" == \"lima\" )\n",
    "print(\"Lima\" != \"lima\" )"
   ]
  },
  {
   "cell_type": "markdown",
   "id": "df09218a-abd9-4409-899c-3cc96ba36543",
   "metadata": {},
   "source": [
    "## Condicionales\n",
    "### if "
   ]
  },
  {
   "cell_type": "code",
   "execution_count": 14,
   "id": "ebe34165-933b-42ba-b415-9789e45abac9",
   "metadata": {},
   "outputs": [
    {
     "name": "stdout",
     "output_type": "stream",
     "text": [
      "Inicio del programa\n",
      "Puedes votar en las siguientes elecciones\n",
      "Fin de programa\n"
     ]
    }
   ],
   "source": [
    "\n",
    "edad = 30\n",
    "\n",
    "print(\"Inicio del programa\")\n",
    "\n",
    "if edad >= 18 :\n",
    "    print(\"Puedes votar en las siguientes elecciones\")\n",
    "\n",
    "print(\"Fin de programa\")\n",
    "\n"
   ]
  },
  {
   "cell_type": "markdown",
   "id": "f5ec9981-a031-4b8b-9977-037a9bcebda6",
   "metadata": {},
   "source": [
    "#### Ejercicio 1\n",
    "\n",
    "- Pre Kids, requisito de edad : 6 a 7 años\n",
    "\n",
    "Hacer un programa que valide si tiene 6 o 7 años puede llevar el curso, para tal fin solo se necesita imprimir el mensaje , \"Puedes llevar el curso de Pre Kids\"\n"
   ]
  },
  {
   "cell_type": "code",
   "execution_count": 16,
   "id": "836ee67a-6b05-43df-bcc1-646b62fef7e8",
   "metadata": {},
   "outputs": [
    {
     "name": "stdin",
     "output_type": "stream",
     "text": [
      "Ingrese la edad del niño:  6\n"
     ]
    },
    {
     "name": "stdout",
     "output_type": "stream",
     "text": [
      "Puedes llevar el curso\n",
      "Fin del programa\n"
     ]
    }
   ],
   "source": [
    "edad = int(input(\"Ingrese la edad del niño: \"))\n",
    "\n",
    "if edad == 6 or edad == 7:\n",
    "    print(\"Puedes llevar el curso\")\n",
    "print(\"Fin del programa\")"
   ]
  },
  {
   "cell_type": "code",
   "execution_count": 19,
   "id": "590b877d-8397-4df9-8665-27f1c405350b",
   "metadata": {},
   "outputs": [
    {
     "name": "stdout",
     "output_type": "stream",
     "text": [
      "Puedes llevar el curso de Pre Kids\n"
     ]
    }
   ],
   "source": [
    "Edad = 6\n",
    "if Edad ==6 or Edad ==7:\n",
    "    print(\"Puedes llevar el curso de Pre Kids\")"
   ]
  },
  {
   "cell_type": "code",
   "execution_count": 37,
   "id": "60603ac4-15fb-4321-8946-0155580c810d",
   "metadata": {},
   "outputs": [
    {
     "name": "stdout",
     "output_type": "stream",
     "text": [
      "Puedes llevar el curso de Pre Kids\n"
     ]
    }
   ],
   "source": [
    "edad = 6\n",
    "\n",
    "if ( edad > 5 and edad < 8 ):\n",
    "    print(\"Puedes llevar el curso de Pre Kids\")\n"
   ]
  },
  {
   "cell_type": "code",
   "execution_count": 27,
   "id": "23e01e25-0a96-4fa9-9eed-c5fadb4effe9",
   "metadata": {},
   "outputs": [],
   "source": [
    "edad = 5\n",
    "\n",
    "if  5 < edad < 8 :\n",
    "    print(\"Puedes llevar el curso de Pre Kids\")\n"
   ]
  },
  {
   "cell_type": "code",
   "execution_count": 31,
   "id": "5edf6a24-12cb-4c63-949c-a8ae69697bbd",
   "metadata": {},
   "outputs": [],
   "source": [
    "edad = 8\n",
    "\n",
    "if  6 <= edad <= 7 :\n",
    "    print(\"Puedes llevar el curso de Pre Kids\")\n"
   ]
  },
  {
   "cell_type": "code",
   "execution_count": 35,
   "id": "52e3c915-3784-4aa8-a56d-19b3330e9d83",
   "metadata": {},
   "outputs": [],
   "source": [
    "edad = 5\n",
    "\n",
    "if edad in (6,7) :\n",
    "    print(\"Puedes llevar el curso de Pre Kids\")"
   ]
  },
  {
   "cell_type": "markdown",
   "id": "5c62278e-316d-4314-a12c-5be57674925e",
   "metadata": {},
   "source": [
    "### if .. else"
   ]
  },
  {
   "cell_type": "code",
   "execution_count": 39,
   "id": "73aa59d8-a598-4a28-b67f-d10ee388c06c",
   "metadata": {},
   "outputs": [
    {
     "name": "stdout",
     "output_type": "stream",
     "text": [
      "Inicio del programa\n",
      "Aun eres menor de edad\n",
      "Fin de programa\n"
     ]
    }
   ],
   "source": [
    "edad = 17\n",
    "\n",
    "print(\"Inicio del programa\")\n",
    "\n",
    "if edad >= 18 :\n",
    "    print(\"Puedes votar en las siguientes elecciones\")\n",
    "else:\n",
    "    print(\"Aún eres menor de edad\")\n",
    "\n",
    "print(\"Fin de programa\")"
   ]
  },
  {
   "cell_type": "code",
   "execution_count": 40,
   "id": "42bf38e7-1c7c-43c7-b42f-48486a23c230",
   "metadata": {},
   "outputs": [
    {
     "name": "stdout",
     "output_type": "stream",
     "text": [
      "Puedes revisar la página web\n"
     ]
    }
   ],
   "source": [
    "edad = 8\n",
    "\n",
    "if  6 <= edad <= 7 :\n",
    "    print(\"Puedes llevar el curso de Pre Kids\")\n",
    "else:\n",
    "    print(\"Puedes revisar la página web\")"
   ]
  },
  {
   "cell_type": "markdown",
   "id": "5d9f5858-2153-4060-b85f-aeb80206283f",
   "metadata": {},
   "source": [
    "#### Ejercicio 2\n",
    "\n",
    "- Control de temperatura de un horno\n",
    "\n",
    "En el proceso de coción de un nuevo material el horno debe estar\n",
    "en un rango de temperatura de 500 a 1000 grados centigrados. \n",
    "En caso la temperatura este fuera de rango debe activar el FLAG\n",
    "de emergencia para generar el lanzamiento de la sirena\n",
    "\n",
    "Realizar el programa\n"
   ]
  },
  {
   "cell_type": "code",
   "execution_count": 44,
   "id": "919ea68a-f588-4f3a-8b15-222c9e4f0093",
   "metadata": {},
   "outputs": [
    {
     "name": "stdin",
     "output_type": "stream",
     "text": [
      "La temperatura actual es: 400\n"
     ]
    },
    {
     "name": "stdout",
     "output_type": "stream",
     "text": [
      "Flag de temperatura ALERTA\n",
      "LANZAMIENTO DE SIRENA\n"
     ]
    }
   ],
   "source": [
    "temperatura = float(input(\"La temperatura actual es:\"))\n",
    "\n",
    "if  temperatura >= 500 and temperatura <= 1000:\n",
    "    print (\"temperatura en rango normal\")\n",
    "else:\n",
    "    print (\"Flag de temperatura ALERTA\")\n",
    "    print (\"LANZAMIENTO DE SIRENA\")"
   ]
  },
  {
   "cell_type": "code",
   "execution_count": 49,
   "id": "cee54cb9-72f8-4e7d-a40f-12e179117c14",
   "metadata": {},
   "outputs": [
    {
     "name": "stdout",
     "output_type": "stream",
     "text": [
      "True\n"
     ]
    }
   ],
   "source": [
    "# Definicion de constantes del proceso\n",
    "LIM_INF_TEMP_HORNO = 500\n",
    "LIM_SUP_TEMP_HORNO = 1000\n",
    "\n",
    "# Lectura de la temperatura del horno\n",
    "temperatura_horno = 499\n",
    "\n",
    "# Control de alarma, la alarma se activa si el flag es True\n",
    "flag = False\n",
    "\n",
    "# Analizando el proceso\n",
    "if LIM_INF_TEMP_HORNO <= temperatura_horno <= LIM_SUP_TEMP_HORNO:\n",
    "    flag = False\n",
    "else:\n",
    "    flag = True\n",
    "\n",
    "# Imprimiendo el estado de la alarma\n",
    "print(flag)\n",
    "\n"
   ]
  },
  {
   "cell_type": "markdown",
   "id": "3646ddd0-6762-46af-9d90-81442ee70351",
   "metadata": {},
   "source": [
    "### if .. elif .. else"
   ]
  },
  {
   "cell_type": "code",
   "execution_count": 65,
   "id": "1fcd32aa-4b7e-4901-ab70-7d76a80bba42",
   "metadata": {},
   "outputs": [
    {
     "name": "stdout",
     "output_type": "stream",
     "text": [
      "Inicio del programa\n",
      "La edad es incorrecta -> 17.4\n",
      "Fin de programa\n"
     ]
    }
   ],
   "source": [
    "edad = 17.4\n",
    "\n",
    "print(\"Inicio del programa\")\n",
    "\n",
    "# Validar que la edad es un dato entero \n",
    "\n",
    "if isinstance(edad, int):\n",
    "    if edad < 18 :\n",
    "        print(\"No puedes votar porque eres menor de edad\")\n",
    "    #elif 18 <= edad <= 65 :\n",
    "    elif 18 <= edad and edad <= 65 :\n",
    "        print(\"Esta obligado a votar en las siguientes elecciones\")\n",
    "    else:\n",
    "        print(\"Puedes votar en las siguientes elecciones si lo deseas\")\n",
    "else:\n",
    "    print(f\"La edad es incorrecta -> {edad}\")\n",
    "\n",
    "print(\"Fin de programa\")"
   ]
  },
  {
   "cell_type": "markdown",
   "id": "6ed50d57-1358-4dd4-a38a-0396578e6da9",
   "metadata": {},
   "source": [
    "#### Ejercicio 3\n",
    "\n",
    "- Pre Kids, requisito de edad : 6 a 7 años\n",
    "- Infants,  requisito de edad : 4 a 5 años\n",
    "- Kids, requisito de edad :  8 a 10 años\n",
    "- Juniors,requisito de edad :  11 a 13 años\n",
    "- Mayores, requisito de edad : 14 años a más\n",
    "  \n",
    "Hacer un programa que valide a que nivel se puede inscribir una persona para estudiar el ingles"
   ]
  },
  {
   "cell_type": "code",
   "execution_count": 71,
   "id": "e95aab38-62fe-42fb-bc39-941b1306def8",
   "metadata": {},
   "outputs": [
    {
     "name": "stdout",
     "output_type": "stream",
     "text": [
      "Edad desconocida\n"
     ]
    }
   ],
   "source": [
    "edad = -1\n",
    "\n",
    "if 0 <= edad < 4:\n",
    "    print(\"Aún no se puede matricular\")\n",
    "elif 4 <= edad <= 5:\n",
    "    print(\"Infants\")\n",
    "elif 6 <= edad <= 7:\n",
    "    print(\"Pre Kids\")\n",
    "elif 8 <= edad <= 10:\n",
    "    print(\"Kids\")\n",
    "elif 11 <= edad <= 13:\n",
    "    print(\"Juniors\")\n",
    "elif edad >= 14:\n",
    "    print(\"Mayores\")\n",
    "else:\n",
    "    print(\"Edad desconocida\")"
   ]
  },
  {
   "cell_type": "code",
   "execution_count": 75,
   "id": "14702462-50b7-42b7-aea4-34bc6467b86b",
   "metadata": {},
   "outputs": [
    {
     "name": "stdout",
     "output_type": "stream",
     "text": [
      "Inicio del programa\n",
      "------------------------------\n"
     ]
    },
    {
     "name": "stdin",
     "output_type": "stream",
     "text": [
      "ingresa tu edad -1\n"
     ]
    },
    {
     "name": "stdout",
     "output_type": "stream",
     "text": [
      "No tiene la edad para un nivel\n",
      "------------------------------\n",
      "fin de programa\n"
     ]
    }
   ],
   "source": [
    "print(\"Inicio del programa\")\n",
    "print(\"------------------------------\")\n",
    "edad = int(input(\"ingresa tu edad\"))\n",
    "\n",
    "if edad < 4:\n",
    "    print(\"No tiene la edad para un nivel\")\n",
    "elif edad in (6,7):\n",
    "   print(\"Nivel Pre Kids\")   \n",
    "elif edad in (4,5):\n",
    "    print(\"Nivel infants\")\n",
    "elif 8<= edad <=10:\n",
    "    print(\"Nivel KIDS\")\n",
    "elif 11<= edad <=13:\n",
    "    print(\"Nivel JUNIORS\")\n",
    "else:\n",
    "    print(\"Nivel de MAYORES\")\n",
    "    \n",
    "print(\"------------------------------\")\n",
    "print(\"fin de programa\")"
   ]
  },
  {
   "cell_type": "markdown",
   "id": "2677f71c-edd2-44e1-9f9f-b505eb21b6fb",
   "metadata": {},
   "source": [
    "## Bucles\n",
    "\n",
    "### range()"
   ]
  },
  {
   "cell_type": "code",
   "execution_count": 79,
   "id": "b9ba6c51-2e33-4208-a14c-cb17a6101f42",
   "metadata": {},
   "outputs": [
    {
     "name": "stdout",
     "output_type": "stream",
     "text": [
      "0\n",
      "1\n",
      "2\n",
      "3\n",
      "4\n",
      "5\n",
      "6\n",
      "7\n",
      "8\n",
      "9\n"
     ]
    }
   ],
   "source": [
    "for nro in range(10):\n",
    "    print(nro)"
   ]
  },
  {
   "cell_type": "code",
   "execution_count": 81,
   "id": "ad0d5979-4bf0-4653-8403-6321725a76c2",
   "metadata": {},
   "outputs": [
    {
     "name": "stdout",
     "output_type": "stream",
     "text": [
      "10\n",
      "11\n",
      "12\n",
      "13\n",
      "14\n",
      "15\n",
      "16\n",
      "17\n",
      "18\n",
      "19\n"
     ]
    }
   ],
   "source": [
    "for nro in range(10,20):\n",
    "    print(nro)"
   ]
  },
  {
   "cell_type": "code",
   "execution_count": 82,
   "id": "c58b1979-0c18-4611-8350-6fd613e43b79",
   "metadata": {},
   "outputs": [
    {
     "name": "stdout",
     "output_type": "stream",
     "text": [
      "10\n",
      "12\n",
      "14\n",
      "16\n",
      "18\n",
      "20\n",
      "22\n",
      "24\n",
      "26\n",
      "28\n",
      "30\n",
      "32\n",
      "34\n",
      "36\n",
      "38\n"
     ]
    }
   ],
   "source": [
    "for nro in range(10,40,2):\n",
    "    print(nro)"
   ]
  },
  {
   "cell_type": "markdown",
   "id": "5ed58c2a-c5f6-4996-82e9-f5b665af4a4f",
   "metadata": {},
   "source": [
    "## Ejercicio 06\n",
    "\n",
    "Imprimir los 40 número pares que no sean múltiplos de 4\n"
   ]
  },
  {
   "cell_type": "code",
   "execution_count": 98,
   "id": "95227dc7-c3df-4299-a596-ebf8cbbbfd80",
   "metadata": {},
   "outputs": [
    {
     "name": "stdout",
     "output_type": "stream",
     "text": [
      "2\n",
      "6\n",
      "10\n",
      "14\n",
      "18\n",
      "22\n",
      "26\n",
      "30\n",
      "34\n",
      "38\n",
      "42\n",
      "46\n",
      "50\n",
      "54\n",
      "58\n",
      "62\n",
      "66\n",
      "70\n",
      "74\n",
      "78\n"
     ]
    }
   ],
   "source": [
    "cnp = 40\n",
    "\n",
    "for nro in range(0,cnp*2,2):\n",
    "    if nro % 4 != 0:\n",
    "        print(nro)\n",
    "\n"
   ]
  },
  {
   "cell_type": "markdown",
   "id": "60c77223-edab-41e0-8a74-93fa3157619b",
   "metadata": {},
   "source": [
    "### Barrido de una lista con for"
   ]
  },
  {
   "cell_type": "code",
   "execution_count": 106,
   "id": "1b4beec0-f50c-4c2d-bc44-d1a46d0069d1",
   "metadata": {},
   "outputs": [
    {
     "name": "stdout",
     "output_type": "stream",
     "text": [
      "PBI --> 206.461\n",
      "PBI --> 226.268\n",
      "PBI --> 244.419\n",
      "PBI --> 267.482\n",
      "PBI --> 289.070\n",
      "PBI --> 303.293\n",
      "PBI --> 319.095\n",
      "PBI --> 333.627\n",
      "PBI --> 348.299\n",
      "PBI --> 364.090\n",
      "PBI --> 380.757\n"
     ]
    }
   ],
   "source": [
    "pbi_pe = [206.461,226.268,244.419,\n",
    "          267.482,289.070,303.293,\t\n",
    "          319.095,333.627,348.299,\n",
    "          364.090,380.757]\n",
    "\n",
    "for pbi in pbi_pe:\n",
    "    print(f\"PBI --> {pbi:.3f}\") # .3f --> 3 decimales"
   ]
  },
  {
   "cell_type": "markdown",
   "id": "2e6eb905-af83-4c94-8625-a7773292f67f",
   "metadata": {},
   "source": [
    "### Ejercicio 07\n",
    "Imprimir el PBI de Perú para los años 2020 al 2029, usar la información del ejercicio 06, debera imprimir de la siguiente manera\n",
    "\n",
    "- PBI 2020 --> 206.461\n",
    "- PBI 2021 --> 226.268\n",
    "- PBI 2022 --> 244.419\n",
    "- ...\n",
    "- ...\n",
    "- PBI 2029 --> 380.757\n",
    "\n",
    "\n"
   ]
  },
  {
   "cell_type": "code",
   "execution_count": null,
   "id": "bc60a878-5e6c-4915-8c30-9e14b535a4ae",
   "metadata": {},
   "outputs": [],
   "source": [
    "pbi_pe = {2020:206.461,2021:226.268,2022:244.419,\n",
    "     2023:267.482,2024:289.070,2025:303.293,\t\n",
    "     2026:319.095,2027:333.627,2028:348.299,\n",
    "     2029:364.090,2030:380.757}\n",
    "\n",
    "for año,pbi in pbi_pe.items():\n",
    "  print(f\"PBI {año} --> {pbi}\")"
   ]
  },
  {
   "cell_type": "code",
   "execution_count": 116,
   "id": "edd59b77-3a9c-44d1-8e79-30ff6cce9d1d",
   "metadata": {},
   "outputs": [
    {
     "name": "stdout",
     "output_type": "stream",
     "text": [
      "PBI 2020 --> 206.461\n",
      "PBI 2021 --> 226.268\n",
      "PBI 2022 --> 244.419\n",
      "PBI 2023 --> 267.482\n",
      "PBI 2024 --> 289.070\n",
      "PBI 2025 --> 303.293\n",
      "PBI 2026 --> 319.095\n",
      "PBI 2027 --> 333.627\n",
      "PBI 2028 --> 348.299\n",
      "PBI 2029 --> 364.090\n"
     ]
    }
   ],
   "source": [
    "pbi_pe = [206.461,226.268,244.419,\n",
    "          267.482,289.070,303.293,\t\n",
    "          319.095,333.627,348.299,\n",
    "          364.090,380.757]\n",
    "\n",
    "anhos = [ x for x in range(2020,2030)]\n",
    "\n",
    "dict_pbi_pe = dict(zip(anhos, pbi_pe))\n",
    "\n",
    "for key,value in dict_pbi_pe.items():\n",
    "      print(f\"PBI {key} --> {value:.3f}\")\n"
   ]
  },
  {
   "cell_type": "markdown",
   "id": "97b2c2b2-9c60-43bd-86e7-4d0ac2457d65",
   "metadata": {},
   "source": [
    "### Ejercicio 08\n",
    "Dado el PBI de los años 2020 al 2029 de Perú, agrupar en una nueva colección el PBI del Perú cuando sea mayor a 300 Mil Millones $, e imprimir la nueva colección de datos."
   ]
  },
  {
   "cell_type": "code",
   "execution_count": 120,
   "id": "1f516e8b-e9dc-43f2-b56a-d9e14ba987c0",
   "metadata": {},
   "outputs": [
    {
     "name": "stdout",
     "output_type": "stream",
     "text": [
      "{2025: 303.293, 2026: 319.095, 2027: 333.627, 2028: 348.299, 2029: 364.09}\n"
     ]
    }
   ],
   "source": [
    "pbi_pe = [206.461,226.268,244.419,\n",
    "          267.482,289.070,303.293,\t\n",
    "          319.095,333.627,348.299,\n",
    "          364.090,380.757]\n",
    "\n",
    "anhos = [ x for x in range(2020,2030)]\n",
    "\n",
    "dict_pbi_pe = dict(zip(anhos, pbi_pe))\n",
    "\n",
    "pbi_pe_M300 = dict()\n",
    "for key,value in dict_pbi_pe.items():\n",
    "    \n",
    "    if value > 300:\n",
    "        pbi_pe_M300[key] = value\n",
    "        #print(f\"PBI {key} --> {value:.3f}\")\n",
    "\n",
    "print(pbi_pe_M300)"
   ]
  },
  {
   "cell_type": "markdown",
   "id": "75ce0654-13ee-4f0a-9849-96b4b796c4d3",
   "metadata": {},
   "source": [
    "### While"
   ]
  },
  {
   "cell_type": "code",
   "execution_count": 122,
   "id": "4ca83520-f2f5-4a53-ac92-0b2e9069b3a7",
   "metadata": {},
   "outputs": [
    {
     "name": "stdout",
     "output_type": "stream",
     "text": [
      "2000\n",
      "2001\n",
      "2002\n",
      "2003\n",
      "2004\n",
      "2005\n",
      "2006\n",
      "2007\n",
      "2008\n",
      "2009\n",
      "2010\n",
      "2011\n",
      "2012\n",
      "2013\n",
      "2014\n",
      "2015\n",
      "2016\n",
      "2017\n",
      "2018\n",
      "2019\n",
      "2020\n",
      "2021\n",
      "2022\n",
      "2023\n",
      "2024\n",
      "2025\n"
     ]
    }
   ],
   "source": [
    "LIMIT_SUP = 2025\n",
    "\n",
    "anho = 2000\n",
    "\n",
    "while anho <= LIMIT_SUP:\n",
    "    print(anho)\n",
    "    anho = anho + 1\n"
   ]
  },
  {
   "cell_type": "code",
   "execution_count": 123,
   "id": "140adabc-ddb3-4035-8525-8c7d97fb7197",
   "metadata": {},
   "outputs": [
    {
     "name": "stdout",
     "output_type": "stream",
     "text": [
      "[2000, 2001, 2002, 2003, 2004, 2005, 2006, 2007, 2008, 2009, 2010, 2011, 2012, 2013, 2014, 2015, 2016, 2017, 2018, 2019, 2020, 2021, 2022, 2023, 2024, 2025]\n"
     ]
    }
   ],
   "source": [
    "LIMIT_SUP = 2025\n",
    "\n",
    "anho = 2000\n",
    "\n",
    "anhos = []\n",
    "while anho <= LIMIT_SUP:\n",
    "    #    print(anho)\n",
    "    anhos.append(anho)\n",
    "    anho = anho + 1\n",
    "\n",
    "print(anhos)"
   ]
  },
  {
   "cell_type": "markdown",
   "id": "b89a1373-cfb7-4a4b-8c7d-81125470ec50",
   "metadata": {},
   "source": [
    "### Funciones"
   ]
  },
  {
   "cell_type": "code",
   "execution_count": 125,
   "id": "44e4fc31-8e6e-405c-a15c-d0decda62846",
   "metadata": {},
   "outputs": [
    {
     "name": "stdout",
     "output_type": "stream",
     "text": [
      "El valor sumando es 9\n",
      "El valor sumando es 18\n",
      "El valor sumando es 14\n"
     ]
    }
   ],
   "source": [
    "valor1 = 4\n",
    "valor2 = 5\n",
    "valor3 = 10\n",
    "valor4 = 8\n",
    "\n",
    "suma = valor1 + valor2\n",
    "print(\"El valor sumando es\",suma)\n",
    "\n",
    "suma = valor3 + valor4\n",
    "print(\"El valor sumando es\",suma)\n",
    "\n",
    "suma = valor1 + valor3\n",
    "print(\"El valor sumando es\",suma)\n"
   ]
  },
  {
   "cell_type": "code",
   "execution_count": 128,
   "id": "de19120b-c828-4782-be7e-9d0cf61ee44e",
   "metadata": {},
   "outputs": [
    {
     "name": "stdout",
     "output_type": "stream",
     "text": [
      "------inicio-------\n",
      "El valor sumando es 9\n",
      "------inicio-------\n",
      "El valor sumando es 18\n",
      "------inicio-------\n",
      "El valor sumando es 14\n"
     ]
    }
   ],
   "source": [
    "# Definir una funcion\n",
    "def imprimir_resultado(s):\n",
    "    print(\"------inicio-------\")\n",
    "    print(\"El valor sumando es\",s)\n",
    "\n",
    "valor1 = 4\n",
    "valor2 = 5\n",
    "valor3 = 10\n",
    "valor4 = 8\n",
    "\n",
    "suma = valor1 + valor2\n",
    "imprimir_resultado(suma) # Call function\n",
    "\n",
    "suma = valor3 + valor4\n",
    "imprimir_resultado(suma) # Call function\n",
    "\n",
    "suma = valor1 + valor3\n",
    "imprimir_resultado(suma) # Call function\n"
   ]
  },
  {
   "cell_type": "code",
   "execution_count": null,
   "id": "2667f264-daab-4d3c-87a5-ef3c8a8aa2aa",
   "metadata": {},
   "outputs": [],
   "source": []
  }
 ],
 "metadata": {
  "kernelspec": {
   "display_name": "Python [conda env:base] *",
   "language": "python",
   "name": "conda-base-py"
  },
  "language_info": {
   "codemirror_mode": {
    "name": "ipython",
    "version": 3
   },
   "file_extension": ".py",
   "mimetype": "text/x-python",
   "name": "python",
   "nbconvert_exporter": "python",
   "pygments_lexer": "ipython3",
   "version": "3.13.5"
  }
 },
 "nbformat": 4,
 "nbformat_minor": 5
}
