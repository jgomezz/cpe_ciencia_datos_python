{
 "cells": [
  {
   "cell_type": "code",
   "execution_count": 39,
   "id": "52e96d80-e6bf-4b48-b873-d2b500c03e96",
   "metadata": {},
   "outputs": [
    {
     "name": "stdout",
     "output_type": "stream",
     "text": [
      "Modulo 2 : Estadistica y Visualizacion de Datos\n"
     ]
    }
   ],
   "source": [
    "'''\n",
    "Modulo 2 : Estadistica y Visualizacion de Datos\n",
    "Sesion : 01\n",
    "Fecha : 25/10/2025\n",
    "'''\n",
    "print(\"Modulo 2 : Estadistica y Visualizacion de Datos\")"
   ]
  },
  {
   "cell_type": "markdown",
   "id": "327124d5",
   "metadata": {},
   "source": [
    "### 1.- Trabajando con listados"
   ]
  },
  {
   "cell_type": "code",
   "execution_count": 40,
   "id": "e8bde816",
   "metadata": {},
   "outputs": [
    {
     "name": "stdout",
     "output_type": "stream",
     "text": [
      "[0, 1, 2, 3, 4, 5, 6, 7, 8, 9, 10, 11, 12, 13, 14, 15, 16, 17, 18, 19, 20, 21, 22, 23, 24, 25, 26, 27, 28, 29]\n"
     ]
    }
   ],
   "source": [
    "import numpy as np\n",
    "\n",
    "nros = [ x for x in range(30)]\n",
    "print(nros)"
   ]
  },
  {
   "cell_type": "code",
   "execution_count": 41,
   "id": "3c309957-f4e7-40b2-8d97-7bcb15bafd5a",
   "metadata": {},
   "outputs": [
    {
     "name": "stdout",
     "output_type": "stream",
     "text": [
      "[ 0  1  2  3  4  5  6  7  8  9 10 11 12 13 14 15 16 17 18 19 20 21 22 23\n",
      " 24 25 26 27 28 29]\n"
     ]
    }
   ],
   "source": [
    "np_nros = np.array(nros)\n",
    "print(np_nros)"
   ]
  },
  {
   "cell_type": "code",
   "execution_count": 42,
   "id": "ae545448",
   "metadata": {},
   "outputs": [
    {
     "name": "stdout",
     "output_type": "stream",
     "text": [
      "np_nros.dtype : int64\n",
      "np_nros.ndim : 1\n",
      "np_nros.size : 30\n",
      "np_nros.shape : (30,)\n",
      "np_nros.itemsize : 8\n",
      "np_nros.data : <memory at 0x107a32080>\n"
     ]
    }
   ],
   "source": [
    "print(\"np_nros.dtype :\", np_nros.dtype)\n",
    "print(\"np_nros.ndim :\", np_nros.ndim)\n",
    "print(\"np_nros.size :\", np_nros.size)\n",
    "print(\"np_nros.shape :\", np_nros.shape)\n",
    "print(\"np_nros.itemsize :\", np_nros.itemsize)\n",
    "print(\"np_nros.data :\", np_nros.data)"
   ]
  },
  {
   "cell_type": "markdown",
   "id": "81c33444",
   "metadata": {},
   "source": [
    "### 2.- Trabajando con Arrays"
   ]
  },
  {
   "cell_type": "code",
   "execution_count": 43,
   "id": "b41facbb",
   "metadata": {},
   "outputs": [
    {
     "name": "stdout",
     "output_type": "stream",
     "text": [
      "[[0 1 2 3 4 5 6 7 8 9]\n",
      " [0 1 2 3 4 5 6 7 8 9]\n",
      " [0 1 2 3 4 5 6 7 8 9]]\n"
     ]
    }
   ],
   "source": [
    "nros = [\n",
    "        [ x for x in range(10)],\n",
    "        [ y for y in range(10)],\n",
    "        [ z for z in range(10)]\n",
    "    ]\n",
    "#print(nros)\n",
    "np_nros = np.array(nros)\n",
    "print(np_nros)"
   ]
  },
  {
   "cell_type": "code",
   "execution_count": 44,
   "id": "9e5acfb9",
   "metadata": {},
   "outputs": [
    {
     "name": "stdout",
     "output_type": "stream",
     "text": [
      "np_nros.dtype : int64\n",
      "np_nros.ndim : 2\n",
      "np_nros.size : 30\n",
      "np_nros.shape : (3, 10)\n",
      "np_nros.itemsize : 8\n",
      "np_nros.data : <memory at 0x107a7cd40>\n"
     ]
    }
   ],
   "source": [
    "print(\"np_nros.dtype :\", np_nros.dtype)\n",
    "print(\"np_nros.ndim :\", np_nros.ndim)\n",
    "print(\"np_nros.size :\", np_nros.size)\n",
    "print(\"np_nros.shape :\", np_nros.shape)\n",
    "print(\"np_nros.itemsize :\", np_nros.itemsize)\n",
    "print(\"np_nros.data :\", np_nros.data)"
   ]
  },
  {
   "cell_type": "markdown",
   "id": "4f10e6ba",
   "metadata": {},
   "source": [
    "#### Ejercicio 1 : Crear un arreglo numpy que tenga 3 filas, \n",
    "- La 1ra fila tiene los numeros de 0,2,....,10 \n",
    "- La 2da fila tiene los numeros : 1,3,5,...,11\n",
    "- La 3ra fila tiene los numeros : 10, 30, 50 , ...., 110."
   ]
  },
  {
   "cell_type": "code",
   "execution_count": 50,
   "id": "04f07c34",
   "metadata": {},
   "outputs": [
    {
     "name": "stdout",
     "output_type": "stream",
     "text": [
      "Arreglo resultante:\n",
      "[[  0   2   4   6   8  10]\n",
      " [  1   3   5   7   9  11]\n",
      " [ 10  30  50  70  90 110]]\n"
     ]
    }
   ],
   "source": [
    "import numpy as np\n",
    "\n",
    "fila1 = range(0, 11, 2)  \n",
    "fila2 = range(1, 12, 2)  \n",
    "fila3 = range(10, 111, 20)  \n",
    "arreglo = np.array([fila1, fila2, fila3])\n",
    "print(\"Arreglo resultante:\")\n",
    "print(arreglo)"
   ]
  },
  {
   "cell_type": "markdown",
   "id": "16b16a8b",
   "metadata": {},
   "source": [
    "### 2.- Creación de Arrays Numpy"
   ]
  },
  {
   "cell_type": "code",
   "execution_count": 47,
   "id": "b8f9fa17",
   "metadata": {},
   "outputs": [
    {
     "data": {
      "text/plain": [
       "array([[0., 0., 0., 0.],\n",
       "       [0., 0., 0., 0.],\n",
       "       [0., 0., 0., 0.]])"
      ]
     },
     "execution_count": 47,
     "metadata": {},
     "output_type": "execute_result"
    }
   ],
   "source": [
    "np_z = np.zeros((3, 4))  # Arreglo de ceros de 3 filas y 4 columnas    \n",
    "np_z"
   ]
  },
  {
   "cell_type": "code",
   "execution_count": 49,
   "id": "5c0c1e49-2c61-4dda-b43a-6c6bab22e480",
   "metadata": {},
   "outputs": [
    {
     "data": {
      "text/plain": [
       "array([[1., 1., 1., 1., 1.],\n",
       "       [1., 1., 1., 1., 1.]])"
      ]
     },
     "execution_count": 49,
     "metadata": {},
     "output_type": "execute_result"
    }
   ],
   "source": [
    "np_o = np.ones((2, 5))  # Arreglo de unos de 2 filas y 5 columnas    \n",
    "np_o"
   ]
  }
 ],
 "metadata": {
  "kernelspec": {
   "display_name": "Python [conda env:base] *",
   "language": "python",
   "name": "conda-base-py"
  },
  "language_info": {
   "codemirror_mode": {
    "name": "ipython",
    "version": 3
   },
   "file_extension": ".py",
   "mimetype": "text/x-python",
   "name": "python",
   "nbconvert_exporter": "python",
   "pygments_lexer": "ipython3",
   "version": "3.13.5"
  }
 },
 "nbformat": 4,
 "nbformat_minor": 5
}
