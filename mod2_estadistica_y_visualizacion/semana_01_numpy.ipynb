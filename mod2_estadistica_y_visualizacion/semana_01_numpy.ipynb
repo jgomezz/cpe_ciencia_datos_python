{
 "cells": [
  {
   "cell_type": "code",
   "execution_count": 39,
   "id": "52e96d80-e6bf-4b48-b873-d2b500c03e96",
   "metadata": {},
   "outputs": [
    {
     "name": "stdout",
     "output_type": "stream",
     "text": [
      "Modulo 2 : Estadistica y Visualizacion de Datos\n"
     ]
    }
   ],
   "source": [
    "'''\n",
    "Modulo 2 : Estadistica y Visualizacion de Datos\n",
    "Sesion : 01\n",
    "Fecha : 25/10/2025\n",
    "'''\n",
    "print(\"Modulo 2 : Estadistica y Visualizacion de Datos\")"
   ]
  },
  {
   "cell_type": "markdown",
   "id": "327124d5",
   "metadata": {},
   "source": [
    "### 1.- Trabajando con listados"
   ]
  },
  {
   "cell_type": "code",
   "execution_count": 40,
   "id": "e8bde816",
   "metadata": {},
   "outputs": [
    {
     "name": "stdout",
     "output_type": "stream",
     "text": [
      "[0, 1, 2, 3, 4, 5, 6, 7, 8, 9, 10, 11, 12, 13, 14, 15, 16, 17, 18, 19, 20, 21, 22, 23, 24, 25, 26, 27, 28, 29]\n"
     ]
    }
   ],
   "source": [
    "import numpy as np\n",
    "\n",
    "nros = [ x for x in range(30)]\n",
    "print(nros)"
   ]
  },
  {
   "cell_type": "code",
   "execution_count": 41,
   "id": "3c309957-f4e7-40b2-8d97-7bcb15bafd5a",
   "metadata": {},
   "outputs": [
    {
     "name": "stdout",
     "output_type": "stream",
     "text": [
      "[ 0  1  2  3  4  5  6  7  8  9 10 11 12 13 14 15 16 17 18 19 20 21 22 23\n",
      " 24 25 26 27 28 29]\n"
     ]
    }
   ],
   "source": [
    "np_nros = np.array(nros)\n",
    "print(np_nros)"
   ]
  },
  {
   "cell_type": "code",
   "execution_count": 42,
   "id": "ae545448",
   "metadata": {},
   "outputs": [
    {
     "name": "stdout",
     "output_type": "stream",
     "text": [
      "np_nros.dtype : int64\n",
      "np_nros.ndim : 1\n",
      "np_nros.size : 30\n",
      "np_nros.shape : (30,)\n",
      "np_nros.itemsize : 8\n",
      "np_nros.data : <memory at 0x107a32080>\n"
     ]
    }
   ],
   "source": [
    "print(\"np_nros.dtype :\", np_nros.dtype)\n",
    "print(\"np_nros.ndim :\", np_nros.ndim)\n",
    "print(\"np_nros.size :\", np_nros.size)\n",
    "print(\"np_nros.shape :\", np_nros.shape)\n",
    "print(\"np_nros.itemsize :\", np_nros.itemsize)\n",
    "print(\"np_nros.data :\", np_nros.data)"
   ]
  },
  {
   "cell_type": "markdown",
   "id": "81c33444",
   "metadata": {},
   "source": [
    "### 2.- Trabajando con Arrays"
   ]
  },
  {
   "cell_type": "code",
   "execution_count": 43,
   "id": "b41facbb",
   "metadata": {},
   "outputs": [
    {
     "name": "stdout",
     "output_type": "stream",
     "text": [
      "[[0 1 2 3 4 5 6 7 8 9]\n",
      " [0 1 2 3 4 5 6 7 8 9]\n",
      " [0 1 2 3 4 5 6 7 8 9]]\n"
     ]
    }
   ],
   "source": [
    "nros = [\n",
    "        [ x for x in range(10)],\n",
    "        [ y for y in range(10)],\n",
    "        [ z for z in range(10)]\n",
    "    ]\n",
    "#print(nros)\n",
    "np_nros = np.array(nros)\n",
    "print(np_nros)"
   ]
  },
  {
   "cell_type": "code",
   "execution_count": 44,
   "id": "9e5acfb9",
   "metadata": {},
   "outputs": [
    {
     "name": "stdout",
     "output_type": "stream",
     "text": [
      "np_nros.dtype : int64\n",
      "np_nros.ndim : 2\n",
      "np_nros.size : 30\n",
      "np_nros.shape : (3, 10)\n",
      "np_nros.itemsize : 8\n",
      "np_nros.data : <memory at 0x107a7cd40>\n"
     ]
    }
   ],
   "source": [
    "print(\"np_nros.dtype :\", np_nros.dtype)\n",
    "print(\"np_nros.ndim :\", np_nros.ndim)\n",
    "print(\"np_nros.size :\", np_nros.size)\n",
    "print(\"np_nros.shape :\", np_nros.shape)\n",
    "print(\"np_nros.itemsize :\", np_nros.itemsize)\n",
    "print(\"np_nros.data :\", np_nros.data)"
   ]
  },
  {
   "cell_type": "markdown",
   "id": "4f10e6ba",
   "metadata": {},
   "source": [
    "#### Ejercicio 1 : Crear un arreglo numpy que tenga 3 filas, \n",
    "- La 1ra fila tiene los numeros de 0,2,....,10 \n",
    "- La 2da fila tiene los numeros : 1,3,5,...,11\n",
    "- La 3ra fila tiene los numeros : 10, 30, 50 , ...., 110."
   ]
  },
  {
   "cell_type": "code",
   "execution_count": 50,
   "id": "04f07c34",
   "metadata": {},
   "outputs": [
    {
     "name": "stdout",
     "output_type": "stream",
     "text": [
      "Arreglo resultante:\n",
      "[[  0   2   4   6   8  10]\n",
      " [  1   3   5   7   9  11]\n",
      " [ 10  30  50  70  90 110]]\n"
     ]
    }
   ],
   "source": [
    "import numpy as np\n",
    "\n",
    "fila1 = range(0, 11, 2)  \n",
    "fila2 = range(1, 12, 2)  \n",
    "fila3 = range(10, 111, 20)  \n",
    "arreglo = np.array([fila1, fila2, fila3])\n",
    "print(\"Arreglo resultante:\")\n",
    "print(arreglo)"
   ]
  },
  {
   "cell_type": "markdown",
   "id": "16b16a8b",
   "metadata": {},
   "source": [
    "### 2.- Creación de Arrays Numpy"
   ]
  },
  {
   "cell_type": "code",
   "execution_count": 47,
   "id": "b8f9fa17",
   "metadata": {},
   "outputs": [
    {
     "data": {
      "text/plain": [
       "array([[0., 0., 0., 0.],\n",
       "       [0., 0., 0., 0.],\n",
       "       [0., 0., 0., 0.]])"
      ]
     },
     "execution_count": 47,
     "metadata": {},
     "output_type": "execute_result"
    }
   ],
   "source": [
    "np_z = np.zeros((3, 4))  # Arreglo de ceros de 3 filas y 4 columnas    \n",
    "np_z"
   ]
  },
  {
   "cell_type": "code",
   "execution_count": 49,
   "id": "5c0c1e49-2c61-4dda-b43a-6c6bab22e480",
   "metadata": {},
   "outputs": [
    {
     "data": {
      "text/plain": [
       "array([[1., 1., 1., 1., 1.],\n",
       "       [1., 1., 1., 1., 1.]])"
      ]
     },
     "execution_count": 49,
     "metadata": {},
     "output_type": "execute_result"
    }
   ],
   "source": [
    "np_o = np.ones((2, 5))  # Arreglo de unos de 2 filas y 5 columnas    \n",
    "np_o"
   ]
  },
  {
   "cell_type": "code",
   "execution_count": 54,
   "id": "180d384a",
   "metadata": {},
   "outputs": [
    {
     "data": {
      "text/plain": [
       "array([30, 31, 32, 33, 34, 35, 36, 37, 38, 39, 40, 41, 42, 43, 44, 45, 46,\n",
       "       47, 48, 49, 50])"
      ]
     },
     "execution_count": 54,
     "metadata": {},
     "output_type": "execute_result"
    }
   ],
   "source": [
    "np_nros = np.arange(30, 51)  # Arreglo con valores desde 10 hasta 50\n",
    "np_nros"
   ]
  },
  {
   "cell_type": "markdown",
   "id": "83a3a2b3",
   "metadata": {},
   "source": [
    "### 3.- Operaciones Básicas"
   ]
  },
  {
   "cell_type": "code",
   "execution_count": null,
   "id": "0901ca70",
   "metadata": {},
   "outputs": [
    {
     "name": "stdout",
     "output_type": "stream",
     "text": [
      "arr1 : range(0, 4)\n",
      "arr1 + 5 : [5, 6, 7, 8]\n"
     ]
    }
   ],
   "source": [
    "# Como sumamos a una lista un valor escalar?\n",
    "arr1 = range(4)\n",
    "print(\"arr1 :\", arr1)\n",
    "#print(\"arr1 + 5 :\", arr1 + 5) # Esto generará un error\n",
    "print(\"arr1 + 5 :\", [x + 5 for x in arr1])  # Suma 5 a cada elemento usando comprensión de listas"
   ]
  },
  {
   "cell_type": "code",
   "execution_count": 67,
   "id": "752a07b7",
   "metadata": {},
   "outputs": [
    {
     "name": "stdout",
     "output_type": "stream",
     "text": [
      "np_arr1 : [0 1 2 3]\n",
      "Suma 5 a cada elemento de np_arr1 : [5 6 7 8]\n",
      "Multiplica por 5 a cada elemento de np_arr1 : [ 0  5 10 15]\n"
     ]
    }
   ],
   "source": [
    "# SUMA Y MULTIPLICACION CON NUMPY\n",
    "np_arr1 = np.arange(4)\n",
    "print(\"np_arr1 :\", np_arr1)\n",
    "print(\"Suma 5 a cada elemento de np_arr1 :\",np_arr1  + 5 )  # Suma 5 a cada elemento\n",
    "print(\"Multiplica por 5 a cada elemento de np_arr1 :\",np_arr1  * 5 )  # Multiplicar por 5 a cada elemento"
   ]
  },
  {
   "cell_type": "code",
   "execution_count": 68,
   "id": "37dc9058",
   "metadata": {},
   "outputs": [
    {
     "name": "stdout",
     "output_type": "stream",
     "text": [
      "np_arr1 : [4 5 6 7]\n",
      "Resta 5 a cada elemento de np_arr1 : [-1  0  1  2]\n",
      "Divide 5 a cada elemento de np_arr1 : [0.8 1.  1.2 1.4]\n"
     ]
    }
   ],
   "source": [
    "# RESTA Y DIVISION CON NUMPY\n",
    "np_arr1 = np.arange(4,8)\n",
    "print(\"np_arr1 :\", np_arr1)\n",
    "print(\"Resta 5 a cada elemento de np_arr1 :\",np_arr1  - 5 )  # Resta 5 a cada elemento\n",
    "print(\"Divide 5 a cada elemento de np_arr1 :\",np_arr1  / 5 )  # Divide 5 a cada elemento"
   ]
  },
  {
   "cell_type": "markdown",
   "id": "4f89d124",
   "metadata": {},
   "source": [
    "### Ejercicio 2 : \n",
    "Crear un arreglo numpy con los números 10,30,50,70,...,130 luego realizar las siguiente operaciones\n",
    "- Dividir entre 10 a todos los elementos\n",
    "- Restar 3 al resultado anterior\n",
    "- Sumar 1 a resultado anterior\n",
    "- Mutiplicar por -1 al resultado anterior y mostrarlo"
   ]
  },
  {
   "cell_type": "code",
   "execution_count": null,
   "id": "4c9ebb9b",
   "metadata": {},
   "outputs": [
    {
     "name": "stdout",
     "output_type": "stream",
     "text": [
      "[ 10  30  50  70  90 110 130]\n",
      "np_arr2 suma :  [ 1.  3.  5.  7.  9. 11. 13.]\n",
      "np_arr2 menos 3 :  [-2.  0.  2.  4.  6.  8. 10.]\n",
      "np_arr_original :  [ 10  30  50  70  90 110 130]\n"
     ]
    }
   ],
   "source": [
    "np_arr_original = np.arange(10,150,20)\n",
    "\n",
    "np_arr2 = np_arr_original.copy()  \n",
    "print(np_arr2)\n",
    "\n",
    "np_arr2 = np_arr2 / 10\n",
    "print(\"np_arr2 suma : \", np_arr2)\n",
    "\n",
    "np_arr2 = np_arr2 -3\n",
    "print(\"np_arr2 menos 3 : \", np_arr2)\n",
    "\n",
    "print(\"np_arr_original : \", np_arr_original)"
   ]
  },
  {
   "cell_type": "code",
   "execution_count": 78,
   "id": "60943344",
   "metadata": {},
   "outputs": [
    {
     "name": "stdout",
     "output_type": "stream",
     "text": [
      "np_arr1 : [0 1 2 3]\n",
      "np_arr2 : [4 5 6 7]\n",
      "Suma de np_arr1 + np_arr2 : [ 4  6  8 10]\n",
      "Resta de np_arr1 - np_arr2 : [-4 -4 -4 -4]\n",
      "Multiplicacion de np_arr1 * np_arr2 : [ 0  5 12 21]\n",
      "Division de np_arr1 / np_arr2 : [0.         0.2        0.33333333 0.42857143]\n"
     ]
    }
   ],
   "source": [
    "# Operaciones entre arreglos\n",
    "np_arr1 = np.arange(4)      \n",
    "np_arr2 = np.arange(4,8)\n",
    "\n",
    "print(\"np_arr1 :\", np_arr1)\n",
    "print(\"np_arr2 :\", np_arr2)    \n",
    "print(\"Suma de np_arr1 + np_arr2 :\", np_arr1 + np_arr2)\n",
    "print(\"Resta de np_arr1 - np_arr2 :\", np_arr1 - np_arr2)\n",
    "print(\"Multiplicacion de np_arr1 * np_arr2 :\", np_arr1 * np_arr2)\n",
    "print(\"Division de np_arr1 / np_arr2 :\", np_arr1 / np_arr2)\n"
   ]
  },
  {
   "cell_type": "code",
   "execution_count": 79,
   "id": "7b436d38",
   "metadata": {},
   "outputs": [
    {
     "data": {
      "text/plain": [
       "array([0., 1., 2., 3.])"
      ]
     },
     "execution_count": 79,
     "metadata": {},
     "output_type": "execute_result"
    }
   ],
   "source": [
    "(np_arr1 / np_arr2)*np_arr2"
   ]
  },
  {
   "cell_type": "markdown",
   "id": "9c5d93ac",
   "metadata": {},
   "source": [
    "### Ejercicio 3 :\n",
    "se tiene los siguiente arreglos\n",
    "- [0,1,0]\n",
    "- [1,0,0]\n",
    "- [0,0,1]\n",
    "\n",
    "Se pide calcular la suma y el producto de los arreglos"
   ]
  },
  {
   "cell_type": "code",
   "execution_count": 83,
   "id": "36bf1a37",
   "metadata": {},
   "outputs": [
    {
     "name": "stdout",
     "output_type": "stream",
     "text": [
      "suma:  [1 1 1]\n",
      "producto:  [0 0 0]\n"
     ]
    }
   ],
   "source": [
    "import numpy as np\n",
    "\n",
    "array1 = np.array([0, 1, 0])\n",
    "array2 = np.array([1, 0, 0])\n",
    "array3 = np.array([0, 0, 1])\n",
    "\n",
    "suma = array1 + array2 + array3\n",
    "producto = array1*array2*array3\n",
    "\n",
    "print(\"suma: \", suma)\n",
    "print(\"producto: \", producto)"
   ]
  },
  {
   "cell_type": "markdown",
   "id": "044d8e43",
   "metadata": {},
   "source": [
    "### 4.- Producto de matrices\n",
    "\n",
    "<img src=\"imagenes/producto_punto.jpg\" width=\"400\" />"
   ]
  },
  {
   "cell_type": "code",
   "execution_count": 86,
   "id": "9b7dce24",
   "metadata": {},
   "outputs": [
    {
     "name": "stdout",
     "output_type": "stream",
     "text": [
      "a_arr : [0 1 2 3]\n",
      "b_arr : [4 5 6 7]\n",
      "38\n",
      "38\n",
      "38\n"
     ]
    }
   ],
   "source": [
    "a_arr = np.arange(4)      \n",
    "b_arr = np.arange(4,8)\n",
    "\n",
    "print(\"a_arr :\", a_arr)\n",
    "print(\"b_arr :\", b_arr)\n",
    "print(sum(a_arr * b_arr))\n",
    "print(np.dot(a_arr, b_arr))  # Producto punto de a_arr y b_arr\n",
    "print(np.dot(b_arr, a_arr))  # Producto punto de b_arr y a_arr\n"
   ]
  },
  {
   "cell_type": "code",
   "execution_count": 88,
   "id": "7b1da8cf",
   "metadata": {},
   "outputs": [
    {
     "name": "stdout",
     "output_type": "stream",
     "text": [
      "a_arr :\n",
      " [[1 2]\n",
      " [3 4]]\n",
      "b_arr :\n",
      " [[5 6]\n",
      " [7 8]]\n",
      "Producto de matrices a_arr . b_arr :\n",
      " [[19 22]\n",
      " [43 50]]\n",
      "Producto de matrices a_arr . b_arr :\n",
      " [[19 22]\n",
      " [43 50]]\n"
     ]
    }
   ],
   "source": [
    "a_arr = np.array([[1, 2], [3, 4]])\n",
    "b_arr = np.array([[5, 6], [7, 8]])      \n",
    "\n",
    "print(\"a_arr :\\n\", a_arr)\n",
    "print(\"b_arr :\\n\", b_arr)\n",
    "\n",
    "c_arr = a_arr.dot(b_arr)\n",
    "print(\"Producto de matrices a_arr . b_arr :\\n\", c_arr)  \n",
    "\n",
    "c_arr = np.dot(a_arr,b_arr)\n",
    "print(\"Producto de matrices a_arr . b_arr :\\n\", c_arr)  \n"
   ]
  },
  {
   "cell_type": "markdown",
   "id": "9f852c32",
   "metadata": {},
   "source": [
    "## Ejercicio 4\n",
    "Dados los vectores:\n",
    "\n",
    "- A = [3, 4]\n",
    "- B = [2, 5]\n",
    "\n",
    "Calcular:\n",
    "\n",
    "- El producto punto A · B\n",
    "- Las magnitudes |A| y |B|"
   ]
  },
  {
   "cell_type": "code",
   "execution_count": 90,
   "id": "9c510374",
   "metadata": {},
   "outputs": [
    {
     "name": "stdout",
     "output_type": "stream",
     "text": [
      "Arreglo original:\n",
      "[ 0  1  2  3  4  5  6  7  8  9 10 11]\n",
      "Arreglo con nueva forma (3x4):\n",
      "[[ 0  1  2  3]\n",
      " [ 4  5  6  7]\n",
      " [ 8  9 10 11]]\n"
     ]
    }
   ],
   "source": [
    "# Cambiar la forma de un arreglo\n",
    "np_arr = np.arange(12)  # Arreglo con valores del 0 al 11\n",
    "print(\"Arreglo original:\")\n",
    "print(np_arr)\n",
    "np_arr_reshaped = np_arr.reshape((3, 4))  # Cambiar la forma a 3 filas y 4 columnas\n",
    "print(\"Arreglo con nueva forma (3x4):\")\n",
    "print(np_arr_reshaped)"
   ]
  },
  {
   "cell_type": "markdown",
   "id": "c2df35a1",
   "metadata": {},
   "source": [
    "## 5.- Funciones utilitarias "
   ]
  },
  {
   "cell_type": "code",
   "execution_count": 93,
   "id": "8c1e4956",
   "metadata": {},
   "outputs": [
    {
     "name": "stdout",
     "output_type": "stream",
     "text": [
      "a_arr : [4 5 6 7]\n",
      "a_arr elevado al cubo : [ 64 125 216 343]\n",
      "Suma de todos los elementos de a_arr : 22\n",
      "Valor minimo de a_arr : 4\n",
      "Valor maximo de a_arr : 7\n",
      "Media de los elementos de a_arr : 5.5\n",
      "Desviacion estandar de los elementos de a_arr : 1.118033988749895\n",
      "Varianza de los elementos de a_arr : 1.25\n",
      "Raiz cuadrada de cada elemento de a_arr : [2.         2.23606798 2.44948974 2.64575131]\n"
     ]
    }
   ],
   "source": [
    "a_arr = np.arange(4,8)\n",
    "print(\"a_arr :\", a_arr)\n",
    "\n",
    "# Elevar a una potencia cada elemento\n",
    "print(\"a_arr elevado al cubo :\", np.power(a_arr, 3))\n",
    "\n",
    "# Sumar todos los elementos del arreglo\n",
    "print(\"Suma de todos los elementos de a_arr :\", np.sum(a_arr))\n",
    "\n",
    "# Obtener el valor minimo de todos los elementos\n",
    "print(\"Valor minimo de a_arr :\", np.min(a_arr))\n",
    "\n",
    "# Obtener el valor maximo de todos los elementos\n",
    "print(\"Valor maximo de a_arr :\", np.max(a_arr)) \n",
    "\n",
    "# Calcular la media de los elementos\n",
    "print(\"Media de los elementos de a_arr :\", np.mean(a_arr))\n",
    "\n",
    "# Calcular la desviacion estandar de los elementos\n",
    "print(\"Desviacion estandar de los elementos de a_arr :\", np.std(a_arr))\n",
    "\n",
    "# Calcular la varianza de los elementos\n",
    "print(\"Varianza de los elementos de a_arr :\", np.var(a_arr))    \n",
    "\n",
    "# Calcular la raiz cuadrada de cada elemento\n",
    "print(\"Raiz cuadrada de cada elemento de a_arr :\", np.sqrt(a_arr))  \n"
   ]
  },
  {
   "cell_type": "markdown",
   "id": "fcad48e0",
   "metadata": {},
   "source": [
    "## Ejercicio 6\n",
    "\n",
    "Dada las notas de 2 estudiantes en 5 cursos\n",
    "\n",
    "- estudiante_A = np.array([18, 14, 20, 10, 15])\n",
    "- estudiante_B = np.array([17, 16, 17, 14, 18])\n",
    "\n",
    "Calcular una tabla comparativa de la nota promedio , miníma y máxima de los estudiantes\n",
    "\n"
   ]
  },
  {
   "cell_type": "code",
   "execution_count": null,
   "id": "8480ba3a",
   "metadata": {},
   "outputs": [],
   "source": []
  }
 ],
 "metadata": {
  "kernelspec": {
   "display_name": "Python [conda env:base] *",
   "language": "python",
   "name": "conda-base-py"
  },
  "language_info": {
   "codemirror_mode": {
    "name": "ipython",
    "version": 3
   },
   "file_extension": ".py",
   "mimetype": "text/x-python",
   "name": "python",
   "nbconvert_exporter": "python",
   "pygments_lexer": "ipython3",
   "version": "3.13.5"
  }
 },
 "nbformat": 4,
 "nbformat_minor": 5
}
