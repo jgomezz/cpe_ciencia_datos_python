{
 "cells": [
  {
   "cell_type": "markdown",
   "id": "f6dea77b-8f19-4fec-bc52-0e3a6855cd0f",
   "metadata": {},
   "source": [
    "## Semana 04\n",
    "\n",
    "- Descripción: Curso de Fundamentos de Python\n",
    "- Semana 4: Manipulación de datos\n",
    "- Autor: Jaime Gomez\n",
    "- Fecha: 11/10/2025\n",
    "- Versión:1\n"
   ]
  },
  {
   "cell_type": "code",
   "execution_count": 11,
   "id": "8ff55566-7229-476b-81ff-ef431827a6dc",
   "metadata": {},
   "outputs": [
    {
     "name": "stdout",
     "output_type": "stream",
     "text": [
      "<class '_io.TextIOWrapper'>\n",
      "archivo1.txt\n",
      "Linea 1\n",
      "Linea 2\n",
      "Linea 3\n",
      "False\n",
      "True\n"
     ]
    }
   ],
   "source": [
    "# open() es una funcion para abrir archivos\n",
    "#  modo r : lectura\n",
    "#  modo a : agregación\n",
    "\n",
    "# Abrir archivo\n",
    "mi_archivo = open(\"archivo1.txt\",'r')\n",
    "\n",
    "print(type(mi_archivo))\n",
    "print(mi_archivo.name)\n",
    "\n",
    "# TO DO\n",
    "data = mi_archivo.read()\n",
    "print(data)\n",
    "print(mi_archivo.closed)\n",
    "\n",
    "# Cerrar archivo\n",
    "mi_archivo.close()\n",
    "print(mi_archivo.closed)"
   ]
  },
  {
   "cell_type": "code",
   "execution_count": 13,
   "id": "65b5c2f8-fe30-46e8-8647-41574628bb7b",
   "metadata": {},
   "outputs": [
    {
     "name": "stdout",
     "output_type": "stream",
     "text": [
      "Linea 1\n",
      "Linea 2\n",
      "Linea 3\n",
      "Linea 4\n",
      "Linea 5\n",
      "Linea 6\n",
      "Linea 7\n",
      "True\n"
     ]
    }
   ],
   "source": [
    "# open() es una funcion para abrir archivos\n",
    "#  modo r : lectura\n",
    "#  modo a : agregación\n",
    "\n",
    "# Abrir archivo\n",
    "with open(\"archivo1.txt\",'r') as mi_archivo:\n",
    "    contenido = mi_archivo.read()\n",
    "    print(contenido)\n",
    "    \n",
    "print(mi_archivo.closed)"
   ]
  },
  {
   "cell_type": "code",
   "execution_count": 19,
   "id": "d3d298c3-7bbf-4ee8-924a-5365120812a8",
   "metadata": {},
   "outputs": [
    {
     "name": "stdout",
     "output_type": "stream",
     "text": [
      "Li\n",
      "ne\n"
     ]
    }
   ],
   "source": [
    "# open() es una funcion para abrir archivos\n",
    "#  modo r : lectura\n",
    "#  modo a : agregación\n",
    "\n",
    "# Abrir archivo\n",
    "with open(\"archivo1.txt\",'r') as mi_archivo:\n",
    "    contenido = mi_archivo.read(2)\n",
    "    print(contenido)\n",
    "    contenido = mi_archivo.read(2)\n",
    "    print(contenido)\n",
    "    "
   ]
  },
  {
   "cell_type": "markdown",
   "id": "bbd4f74f-5750-41c7-82d2-411a0ffe0d9a",
   "metadata": {},
   "source": [
    "### Leer lineas de un archivo"
   ]
  },
  {
   "cell_type": "code",
   "execution_count": 23,
   "id": "c00424f0-05f0-4534-a997-d2da1ff26785",
   "metadata": {},
   "outputs": [
    {
     "name": "stdout",
     "output_type": "stream",
     "text": [
      "['Linea 1\\n', 'Linea 2\\n', 'Linea 3\\n', 'Linea 4\\n', 'Linea 5\\n', 'Linea 6\\n', 'Linea 7']\n",
      "\n"
     ]
    }
   ],
   "source": [
    "with open(\"archivo1.txt\",'r') as mi_archivo:\n",
    "    contenido = mi_archivo.readline()\n",
    "    print(contenido)\n",
    "    contenido = mi_archivo.readline()\n",
    "    print(contenido)"
   ]
  },
  {
   "cell_type": "code",
   "execution_count": 22,
   "id": "c8aaa554-0cc2-4e17-a482-9071a4b11180",
   "metadata": {},
   "outputs": [
    {
     "name": "stdout",
     "output_type": "stream",
     "text": [
      "Linea 1\n",
      "\n",
      "Linea 2\n",
      "\n",
      "Linea 3\n",
      "\n",
      "Linea 4\n",
      "\n",
      "Linea 5\n",
      "\n",
      "Linea 6\n",
      "\n",
      "Linea 7\n"
     ]
    }
   ],
   "source": [
    "with open(\"archivo1.txt\",'r') as mi_archivo:\n",
    "    for una_linea in mi_archivo:\n",
    "       print(una_linea)"
   ]
  },
  {
   "cell_type": "code",
   "execution_count": 25,
   "id": "40cf5ece-2210-4e9f-90f8-f3398e73ea81",
   "metadata": {},
   "outputs": [
    {
     "name": "stdout",
     "output_type": "stream",
     "text": [
      "['Linea 1\\n', 'Linea 2\\n', 'Linea 3\\n', 'Linea 4\\n', 'Linea 5\\n', 'Linea 6\\n', 'Linea 7']\n",
      "Linea 1\n",
      "\n",
      "Linea 2\n",
      "\n",
      "Linea 3\n",
      "\n",
      "Linea 4\n",
      "\n",
      "Linea 5\n",
      "\n",
      "Linea 6\n",
      "\n",
      "Linea 7\n"
     ]
    }
   ],
   "source": [
    "with open(\"archivo1.txt\",'r') as mi_archivo:\n",
    "    contenido = mi_archivo.readlines()\n",
    "    print(contenido)\n",
    "\n",
    "for linea in contenido:\n",
    "    print(linea)"
   ]
  },
  {
   "cell_type": "markdown",
   "id": "1a4a7d54-b3ee-4a15-b4b3-93d1f470e618",
   "metadata": {},
   "source": [
    "### Ejercicio 1\n",
    "\n",
    "Dado el archivo personas.txt, calcular lo siguiente\n",
    "\n",
    "- Juan:Pastor:25:Pyhton\n",
    "- Jose:Gomez:18:Pyhton\n",
    "- Maribel:Alegria:22:Java\n",
    "- Ana:Garcia:23:C#\n",
    "- Pedro:Flores:20:Java\n",
    "- Elizabeth:Alvarado:26:Pyhton\n",
    "- Jaime:Alvarez:22:Pyhton\n",
    "- Noemi:Palomino:26:Php\n",
    "- Pedro:Davila:30:Php\n",
    "\n",
    "Debe calcular\n",
    "\n",
    "- Los lenguajes de programación favoritos\n",
    "- Los apellidos de todos los participantes\n",
    "- Los nombre de las personas mayores de 22 años\n"
   ]
  },
  {
   "cell_type": "code",
   "execution_count": 35,
   "id": "68dbdc0d-203d-48ee-84c2-d047b4fd7474",
   "metadata": {},
   "outputs": [
    {
     "name": "stdout",
     "output_type": "stream",
     "text": [
      "{'C#\\n', 'Java\\n', 'Pyhton\\n', 'Php\\n'}\n"
     ]
    }
   ],
   "source": [
    "# Lectura de datos\n",
    "nombre_archivo = \"personas.txt\"\n",
    "\n",
    "contenido = []\n",
    "with open(nombre_archivo,'r') as mi_archivo:\n",
    "    contenido = mi_archivo.readlines()\n",
    "    \n",
    "# Tratamiento de los datos de los programas\n",
    "progs = []\n",
    "for una_linea in contenido:\n",
    "    #print(una_linea)\n",
    "    dato_persona = una_linea.split(':')\n",
    "    progs.append(dato_persona[3])\n",
    "    #print(dato_persona[3])\n",
    "    \n",
    "# Salida de los datos\n",
    "print(set(progs))\n"
   ]
  },
  {
   "cell_type": "markdown",
   "id": "78fe9f50-f55e-4b02-bfdd-ee4c6ab9b583",
   "metadata": {},
   "source": [
    "### Módulo y paquetes"
   ]
  },
  {
   "cell_type": "code",
   "execution_count": 38,
   "id": "a96020b7-3891-4ed1-9e6c-7b54080dd009",
   "metadata": {},
   "outputs": [
    {
     "name": "stdout",
     "output_type": "stream",
     "text": [
      "9\n"
     ]
    }
   ],
   "source": [
    "def suma(a, b):\n",
    "   return a+b\n",
    "\n",
    "s = suma(4,5)\n",
    "\n",
    "print(s)\n"
   ]
  },
  {
   "cell_type": "code",
   "execution_count": 1,
   "id": "aec81744-f82c-4d32-999c-e4fb3d373823",
   "metadata": {},
   "outputs": [
    {
     "name": "stdout",
     "output_type": "stream",
     "text": [
      "-1\n",
      "20\n"
     ]
    }
   ],
   "source": [
    "from mate import resta, mul\n",
    "\n",
    "r = resta(4,5)\n",
    "print(r)\n",
    "\n",
    "m = mul(4,5)\n",
    "print(m)\n"
   ]
  },
  {
   "cell_type": "code",
   "execution_count": 2,
   "id": "c3286266-6870-4a6c-80d3-8f2b85f06a58",
   "metadata": {},
   "outputs": [
    {
     "name": "stdout",
     "output_type": "stream",
     "text": [
      "-1\n",
      "20\n",
      "0.8\n"
     ]
    }
   ],
   "source": [
    "import mate as ma\n",
    "\n",
    "r = ma.resta(4,5)\n",
    "print(r)\n",
    "\n",
    "m = ma.mul(4,5)\n",
    "print(m)\n",
    "\n",
    "d = ma.div(4,5)\n",
    "print(d)\n",
    "\n"
   ]
  },
  {
   "cell_type": "code",
   "execution_count": 21,
   "id": "e232f56f-996d-470a-b4fe-e949dba91b7a",
   "metadata": {},
   "outputs": [
    {
     "name": "stdout",
     "output_type": "stream",
     "text": [
      "hola-\n",
      "hola-\n",
      "hola-\n",
      "hola-\n",
      "hola-\n"
     ]
    }
   ],
   "source": [
    "def imprimir(mensaje, relleno=\"-\" , nro_veces=2):\n",
    "    for i in range(nro_veces):\n",
    "        print(mensaje + relleno)\n",
    "\n",
    "imprimir(\"hola\", nro_veces=5)\n",
    "    "
   ]
  },
  {
   "cell_type": "markdown",
   "id": "3abd9a9e-b124-4c7c-ad50-29ce362607ed",
   "metadata": {},
   "source": [
    "### Pandas"
   ]
  },
  {
   "cell_type": "code",
   "execution_count": 11,
   "id": "08720197-3c6e-4a8f-9647-7953291159f6",
   "metadata": {},
   "outputs": [
    {
     "name": "stdout",
     "output_type": "stream",
     "text": [
      "   nombre  edad\n",
      "0   Maria    18\n",
      "1    Juan    25\n",
      "2  Silvia    20\n",
      "3  Albert    30\n"
     ]
    }
   ],
   "source": [
    "import pandas as pd\n",
    "\n",
    "personas = [\n",
    "                ['Maria',18],\n",
    "                ['Juan',25],\n",
    "                ['Silvia',20],\n",
    "                ['Albert',30]\n",
    "            ]\n",
    "\n",
    "df = pd.DataFrame(personas,columns=['nombre','edad'])\n",
    "\n",
    "print(df)"
   ]
  },
  {
   "cell_type": "code",
   "execution_count": 8,
   "id": "eb4aafc4-a6b4-4908-8de9-d20097e7d87e",
   "metadata": {},
   "outputs": [
    {
     "name": "stdout",
     "output_type": "stream",
     "text": [
      "0     Maria\n",
      "1      Juan\n",
      "2    Silvia\n",
      "3    Albert\n",
      "Name: nombre, dtype: object\n"
     ]
    }
   ],
   "source": [
    "print(df['nombre'])"
   ]
  },
  {
   "cell_type": "code",
   "execution_count": 9,
   "id": "ed778e20-6f82-46c6-9697-0f564c66ea0a",
   "metadata": {},
   "outputs": [
    {
     "name": "stdout",
     "output_type": "stream",
     "text": [
      "0    18\n",
      "1    25\n",
      "2    20\n",
      "3    30\n",
      "Name: edad, dtype: int64\n"
     ]
    }
   ],
   "source": [
    "print(df['edad'])"
   ]
  },
  {
   "cell_type": "code",
   "execution_count": 10,
   "id": "2efeab4a-9ac8-464a-a6c2-f532524686f2",
   "metadata": {},
   "outputs": [
    {
     "name": "stdout",
     "output_type": "stream",
     "text": [
      "   nombre  edad\n",
      "1    Juan    25\n",
      "3  Albert    30\n"
     ]
    }
   ],
   "source": [
    "print(df[df['edad']>20])"
   ]
  },
  {
   "cell_type": "code",
   "execution_count": 22,
   "id": "df9a079c-d3ac-42de-868c-2d9777ffab64",
   "metadata": {},
   "outputs": [
    {
     "name": "stdout",
     "output_type": "stream",
     "text": [
      "   nombre  edad\n",
      "0   Maria    18\n",
      "1    Juan    25\n",
      "2  Silvia    20\n",
      "3  Albert    30\n"
     ]
    }
   ],
   "source": [
    "import pandas as pd\n",
    "\n",
    "personas = {\n",
    "     \"nombre\": ['Maria','Juan','Silvia','Albert'],\n",
    "     \"edad\":   [18,25,20,30]\n",
    "}\n",
    "\n",
    "df = pd.DataFrame(personas)\n",
    "\n",
    "print(df)"
   ]
  },
  {
   "cell_type": "code",
   "execution_count": 23,
   "id": "1d85c97d-3cc8-492b-ba4c-1c8f923fc611",
   "metadata": {},
   "outputs": [
    {
     "name": "stdout",
     "output_type": "stream",
     "text": [
      "0         Juan\n",
      "1         Jose\n",
      "2      Maribel\n",
      "3          Ana\n",
      "4        Pedro\n",
      "5    Elizabeth\n",
      "6        Jaime\n",
      "7        Noemi\n",
      "8        Pedro\n",
      "Name: nombre, dtype: object\n"
     ]
    }
   ],
   "source": [
    "import pandas as pd\n",
    "\n",
    "# Lectura de archivos\n",
    "\n",
    "nombre_archivo = \"personas.csv\"\n",
    "\n",
    "df = pd.read_csv(nombre_archivo)\n",
    "\n",
    "print(df['nombre'])"
   ]
  },
  {
   "cell_type": "code",
   "execution_count": 30,
   "id": "71ae77f2-a753-4999-b7b2-cc838b75b7c4",
   "metadata": {},
   "outputs": [
    {
     "data": {
      "text/html": [
       "<div>\n",
       "<style scoped>\n",
       "    .dataframe tbody tr th:only-of-type {\n",
       "        vertical-align: middle;\n",
       "    }\n",
       "\n",
       "    .dataframe tbody tr th {\n",
       "        vertical-align: top;\n",
       "    }\n",
       "\n",
       "    .dataframe thead th {\n",
       "        text-align: right;\n",
       "    }\n",
       "</style>\n",
       "<table border=\"1\" class=\"dataframe\">\n",
       "  <thead>\n",
       "    <tr style=\"text-align: right;\">\n",
       "      <th></th>\n",
       "      <th>Posicion</th>\n",
       "      <th>Pais</th>\n",
       "      <th>Oro</th>\n",
       "      <th>Plata</th>\n",
       "      <th>Bronce</th>\n",
       "      <th>Total</th>\n",
       "      <th>Ranking Total</th>\n",
       "    </tr>\n",
       "  </thead>\n",
       "  <tbody>\n",
       "    <tr>\n",
       "      <th>0</th>\n",
       "      <td>1</td>\n",
       "      <td>Estados Unidos</td>\n",
       "      <td>120</td>\n",
       "      <td>88</td>\n",
       "      <td>85</td>\n",
       "      <td>293</td>\n",
       "      <td>1</td>\n",
       "    </tr>\n",
       "    <tr>\n",
       "      <th>1</th>\n",
       "      <td>2</td>\n",
       "      <td>Brasil</td>\n",
       "      <td>55</td>\n",
       "      <td>45</td>\n",
       "      <td>71</td>\n",
       "      <td>171</td>\n",
       "      <td>2</td>\n",
       "    </tr>\n",
       "    <tr>\n",
       "      <th>2</th>\n",
       "      <td>3</td>\n",
       "      <td>México</td>\n",
       "      <td>37</td>\n",
       "      <td>36</td>\n",
       "      <td>63</td>\n",
       "      <td>136</td>\n",
       "      <td>4</td>\n",
       "    </tr>\n",
       "    <tr>\n",
       "      <th>3</th>\n",
       "      <td>4</td>\n",
       "      <td>Canadá</td>\n",
       "      <td>35</td>\n",
       "      <td>64</td>\n",
       "      <td>53</td>\n",
       "      <td>152</td>\n",
       "      <td>3</td>\n",
       "    </tr>\n",
       "    <tr>\n",
       "      <th>4</th>\n",
       "      <td>5</td>\n",
       "      <td>Cuba</td>\n",
       "      <td>33</td>\n",
       "      <td>27</td>\n",
       "      <td>38</td>\n",
       "      <td>98</td>\n",
       "      <td>6</td>\n",
       "    </tr>\n",
       "  </tbody>\n",
       "</table>\n",
       "</div>"
      ],
      "text/plain": [
       "   Posicion            Pais  Oro  Plata  Bronce  Total  Ranking Total\n",
       "0         1  Estados Unidos  120     88      85    293              1\n",
       "1         2          Brasil   55     45      71    171              2\n",
       "2         3          México   37     36      63    136              4\n",
       "3         4          Canadá   35     64      53    152              3\n",
       "4         5            Cuba   33     27      38     98              6"
      ]
     },
     "execution_count": 30,
     "metadata": {},
     "output_type": "execute_result"
    }
   ],
   "source": [
    "import pandas as pd\n",
    "\n",
    "# Lectura de archivos\n",
    "\n",
    "nombre_archivo = \"medallero_Panamericanos_Lima2019.csv\"\n",
    "\n",
    "df = pd.read_csv(nombre_archivo)\n",
    "\n",
    "df.head()"
   ]
  },
  {
   "cell_type": "code",
   "execution_count": 31,
   "id": "03ffd8c5-b706-4e4e-9e8b-2f412a7d2ea8",
   "metadata": {},
   "outputs": [
    {
     "data": {
      "text/plain": [
       "Index(['Posicion', 'Pais', 'Oro', 'Plata', 'Bronce', 'Total', 'Ranking Total'], dtype='object')"
      ]
     },
     "execution_count": 31,
     "metadata": {},
     "output_type": "execute_result"
    }
   ],
   "source": [
    "df.keys()"
   ]
  },
  {
   "cell_type": "code",
   "execution_count": 36,
   "id": "750b502f-df23-4b09-96d0-7b60a47cdb90",
   "metadata": {},
   "outputs": [
    {
     "data": {
      "text/plain": [
       "0    Estados Unidos\n",
       "1            Brasil\n",
       "2            México\n",
       "3            Canadá\n",
       "4              Cuba\n",
       "Name: Pais, dtype: object"
      ]
     },
     "execution_count": 36,
     "metadata": {},
     "output_type": "execute_result"
    }
   ],
   "source": [
    "# Serie\n",
    "df['Pais'].head() # para leer los últimos 5 registros se usa el tail()"
   ]
  },
  {
   "cell_type": "code",
   "execution_count": 40,
   "id": "f7e4ae2a-921e-4a1c-a91f-700fcbbfbdaf",
   "metadata": {},
   "outputs": [
    {
     "data": {
      "text/html": [
       "<div>\n",
       "<style scoped>\n",
       "    .dataframe tbody tr th:only-of-type {\n",
       "        vertical-align: middle;\n",
       "    }\n",
       "\n",
       "    .dataframe tbody tr th {\n",
       "        vertical-align: top;\n",
       "    }\n",
       "\n",
       "    .dataframe thead th {\n",
       "        text-align: right;\n",
       "    }\n",
       "</style>\n",
       "<table border=\"1\" class=\"dataframe\">\n",
       "  <thead>\n",
       "    <tr style=\"text-align: right;\">\n",
       "      <th></th>\n",
       "      <th>Pais</th>\n",
       "      <th>Oro</th>\n",
       "      <th>Plata</th>\n",
       "    </tr>\n",
       "  </thead>\n",
       "  <tbody>\n",
       "    <tr>\n",
       "      <th>0</th>\n",
       "      <td>Estados Unidos</td>\n",
       "      <td>120</td>\n",
       "      <td>88</td>\n",
       "    </tr>\n",
       "    <tr>\n",
       "      <th>1</th>\n",
       "      <td>Brasil</td>\n",
       "      <td>55</td>\n",
       "      <td>45</td>\n",
       "    </tr>\n",
       "    <tr>\n",
       "      <th>2</th>\n",
       "      <td>México</td>\n",
       "      <td>37</td>\n",
       "      <td>36</td>\n",
       "    </tr>\n",
       "    <tr>\n",
       "      <th>3</th>\n",
       "      <td>Canadá</td>\n",
       "      <td>35</td>\n",
       "      <td>64</td>\n",
       "    </tr>\n",
       "    <tr>\n",
       "      <th>4</th>\n",
       "      <td>Cuba</td>\n",
       "      <td>33</td>\n",
       "      <td>27</td>\n",
       "    </tr>\n",
       "  </tbody>\n",
       "</table>\n",
       "</div>"
      ],
      "text/plain": [
       "             Pais  Oro  Plata\n",
       "0  Estados Unidos  120     88\n",
       "1          Brasil   55     45\n",
       "2          México   37     36\n",
       "3          Canadá   35     64\n",
       "4            Cuba   33     27"
      ]
     },
     "execution_count": 40,
     "metadata": {},
     "output_type": "execute_result"
    }
   ],
   "source": [
    "# Dataframe\n",
    "df[['Pais','Oro','Plata']].head()"
   ]
  },
  {
   "cell_type": "code",
   "execution_count": null,
   "id": "ea8d0bf4-097b-4881-969c-5c7a46095783",
   "metadata": {},
   "outputs": [],
   "source": []
  }
 ],
 "metadata": {
  "kernelspec": {
   "display_name": "Python [conda env:base] *",
   "language": "python",
   "name": "conda-base-py"
  },
  "language_info": {
   "codemirror_mode": {
    "name": "ipython",
    "version": 3
   },
   "file_extension": ".py",
   "mimetype": "text/x-python",
   "name": "python",
   "nbconvert_exporter": "python",
   "pygments_lexer": "ipython3",
   "version": "3.13.5"
  }
 },
 "nbformat": 4,
 "nbformat_minor": 5
}
