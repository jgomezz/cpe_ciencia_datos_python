{
 "cells": [
  {
   "cell_type": "markdown",
   "id": "76ada64a-abf8-4aae-992d-6e06ead2227e",
   "metadata": {},
   "source": [
    "# Semana 2: Estructura de datos"
   ]
  },
  {
   "cell_type": "markdown",
   "id": "4e77513a-fa13-44e0-9c26-f592d35474bf",
   "metadata": {},
   "source": [
    "## Pregunta 1"
   ]
  },
  {
   "cell_type": "code",
   "execution_count": 1,
   "id": "8bb7a2de-4347-4cce-ad46-1c02fca71de0",
   "metadata": {},
   "outputs": [],
   "source": [
    "inventario = ((\"laptop\", 800, 10), (\"smartphone\", 600, 20), (\"tablet\", 300, 15))"
   ]
  },
  {
   "cell_type": "code",
   "execution_count": 2,
   "id": "cb664d32-2fe7-4cea-8062-c83b2d59489f",
   "metadata": {},
   "outputs": [
    {
     "name": "stdout",
     "output_type": "stream",
     "text": [
      "Venta por laptops: 8000\n",
      "Venta por laptops: 12000\n",
      "Venta por laptops: 4500\n"
     ]
    }
   ],
   "source": [
    "venta_laptop = inventario[0][1] * inventario[0][2]\n",
    "print(\"Venta por laptops:\",venta_laptop)\n",
    "venta_smartphone = inventario[1][1] * inventario[1][2]\n",
    "print(\"Venta por smartphones:\",venta_smartphone)\n",
    "venta_tablet = inventario[2][1] * inventario[2][2]\n",
    "print(\"Venta por tablets:\",venta_tablet)"
   ]
  },
  {
   "cell_type": "code",
   "execution_count": 3,
   "id": "ab5f3534-531f-4e59-ab4b-4bc9a90114d8",
   "metadata": {},
   "outputs": [
    {
     "data": {
      "text/plain": [
       "24500"
      ]
     },
     "execution_count": 3,
     "metadata": {},
     "output_type": "execute_result"
    }
   ],
   "source": [
    "venta_total = venta_laptop + venta_smartphone + venta_tablet\n",
    "venta_total"
   ]
  },
  {
   "cell_type": "code",
   "execution_count": 10,
   "id": "ec33e048-fdfb-4d0a-a00e-1994a99134d3",
   "metadata": {},
   "outputs": [
    {
     "name": "stdout",
     "output_type": "stream",
     "text": [
      "(('laptop', 800, 10), ('smartphone', 600, 20), ('tablet', 300, 15), ('iPod', 500, 12))\n"
     ]
    }
   ],
   "source": [
    "producto_nuevo = [(\"iPod\", 500, 12)]\n",
    "inventario = tuple(list(inventario) + producto_nuevo)\n",
    "print(inventario)"
   ]
  },
  {
   "cell_type": "code",
   "execution_count": 12,
   "id": "95059396-3745-4723-9330-8fed10f5f4e4",
   "metadata": {},
   "outputs": [
    {
     "name": "stdout",
     "output_type": "stream",
     "text": [
      "Venta por laptops: 8000\n",
      "Venta por smartphones: 12000\n",
      "Venta por tablets: 4500\n",
      "Venta por iPods: 6000\n"
     ]
    }
   ],
   "source": [
    "venta_laptop = inventario[0][1] * inventario[0][2]\n",
    "print(\"Venta por laptops:\",venta_laptop)\n",
    "venta_smartphone = inventario[1][1] * inventario[1][2]\n",
    "print(\"Venta por smartphones:\",venta_smartphone)\n",
    "venta_tablet = inventario[2][1] * inventario[2][2]\n",
    "print(\"Venta por tablets:\",venta_tablet)\n",
    "venta_ipod = inventario[3][1] * inventario[3][2]\n",
    "print(\"Venta por iPods:\",venta_ipod)"
   ]
  },
  {
   "cell_type": "code",
   "execution_count": 14,
   "id": "f61ca28b-8b7c-4fcd-b323-1e95f0e98963",
   "metadata": {},
   "outputs": [
    {
     "data": {
      "text/plain": [
       "30500"
      ]
     },
     "execution_count": 14,
     "metadata": {},
     "output_type": "execute_result"
    }
   ],
   "source": [
    "venta_total = venta_laptop + venta_smartphone + venta_tablet + venta_ipod\n",
    "venta_total"
   ]
  },
  {
   "cell_type": "markdown",
   "id": "5c3f048b-4d66-4a67-8bbc-944fb2342774",
   "metadata": {},
   "source": [
    "## Pregunta 2"
   ]
  },
  {
   "cell_type": "code",
   "execution_count": 15,
   "id": "dd38d7bc-2105-4d10-af1a-d95ffd92d1f9",
   "metadata": {},
   "outputs": [
    {
     "name": "stdout",
     "output_type": "stream",
     "text": [
      "[13, 4, 22, 18, 17, 2, 14, 20]\n"
     ]
    }
   ],
   "source": [
    "lista = [13, 4, 22, 18, 17, 2, 14, 20]\n",
    "print(lista)"
   ]
  },
  {
   "cell_type": "code",
   "execution_count": 18,
   "id": "c69465ce-91a1-432b-80ef-b577ec955721",
   "metadata": {},
   "outputs": [
    {
     "data": {
      "text/plain": [
       "[2, 4, 13, 14, 17, 18, 20, 22]"
      ]
     },
     "execution_count": 18,
     "metadata": {},
     "output_type": "execute_result"
    }
   ],
   "source": [
    "lista_ordenada = sorted(lista)\n",
    "lista_ordenada"
   ]
  },
  {
   "cell_type": "code",
   "execution_count": 22,
   "id": "8c506b3d-1daa-4fb5-86a8-838ff24779d9",
   "metadata": {},
   "outputs": [
    {
     "name": "stdout",
     "output_type": "stream",
     "text": [
      "[2, 4, 13, 14]\n",
      "[17, 18, 20, 22]\n"
     ]
    },
    {
     "data": {
      "text/plain": [
       "[22, 20, 18, 17]"
      ]
     },
     "execution_count": 22,
     "metadata": {},
     "output_type": "execute_result"
    }
   ],
   "source": [
    "lista1 = lista_ordenada[0:4]\n",
    "print(lista1)\n",
    "lista2 = lista_ordenada[4:8]\n",
    "print(lista2)\n",
    "lista2_ordenada = sorted(lista2,reverse=True)\n",
    "lista2_ordenada"
   ]
  },
  {
   "cell_type": "code",
   "execution_count": 23,
   "id": "d6337c1e-5305-4b41-ba66-abadef84f1c7",
   "metadata": {},
   "outputs": [
    {
     "data": {
      "text/plain": [
       "[2, 4, 13, 14, 22, 20, 18, 17]"
      ]
     },
     "execution_count": 23,
     "metadata": {},
     "output_type": "execute_result"
    }
   ],
   "source": [
    "lista_final = lista1 + lista2_ordenada\n",
    "lista_final"
   ]
  },
  {
   "cell_type": "markdown",
   "id": "38f7965d-c5d7-498f-b0b9-b434b6ddb3e2",
   "metadata": {},
   "source": [
    "## Pregunta 3"
   ]
  },
  {
   "cell_type": "code",
   "execution_count": 24,
   "id": "9dfcb261-d00c-4675-8fb0-7286a637dca0",
   "metadata": {},
   "outputs": [
    {
     "name": "stdout",
     "output_type": "stream",
     "text": [
      "['Python', 'SQL Server', 'RStudio', 'Java', 'C++']\n",
      "['Python', 'RStudio', 'Java', 'Hadoop', 'Tableau']\n",
      "['Spark', 'SQL Server', 'RStudio', 'Power BI', 'C++']\n"
     ]
    }
   ],
   "source": [
    "software1 = [\"Python\",\"SQL Server\",\"RStudio\",\"Java\",\"C++\"]\n",
    "print(software1)\n",
    "software2 = [\"Python\",\"RStudio\",\"Java\",\"Hadoop\",\"Tableau\"]\n",
    "print(software2)\n",
    "software3 = [\"Spark\",\"SQL Server\",\"RStudio\",\"Power BI\",\"C++\"]\n",
    "print(software3)"
   ]
  },
  {
   "cell_type": "code",
   "execution_count": 26,
   "id": "3e981758-faf0-4ae9-9421-d97a5c97277e",
   "metadata": {},
   "outputs": [
    {
     "name": "stdout",
     "output_type": "stream",
     "text": [
      "{'SQL Server', 'RStudio', 'Java', 'C++', 'Python'}\n",
      "{'RStudio', 'Hadoop', 'Java', 'Tableau', 'Python'}\n",
      "{'SQL Server', 'RStudio', 'Power BI', 'Spark', 'C++'}\n"
     ]
    }
   ],
   "source": [
    "software1 = set(software1)\n",
    "print(software1)\n",
    "software2 = set(software2)\n",
    "print(software2)\n",
    "software3 = set(software3)\n",
    "print(software3)"
   ]
  },
  {
   "cell_type": "code",
   "execution_count": 29,
   "id": "e9dd70c2-781a-4274-a070-8f604bf4033a",
   "metadata": {},
   "outputs": [
    {
     "name": "stdout",
     "output_type": "stream",
     "text": [
      "{'RStudio'}\n",
      "{'SQL Server', 'Hadoop', 'Java', 'Power BI', 'Tableau', 'Python', 'Spark', 'C++'}\n"
     ]
    }
   ],
   "source": [
    "interseccion = software1 & software2 & software3\n",
    "print(interseccion)\n",
    "union = software1 | software2 | software3\n",
    "diferencia_simetrica = union - interseccion\n",
    "print(diferencia_simetrica)"
   ]
  },
  {
   "cell_type": "code",
   "execution_count": 40,
   "id": "c158c5b3-9b02-4b36-b9ea-1392f82f2ab1",
   "metadata": {},
   "outputs": [
    {
     "name": "stdout",
     "output_type": "stream",
     "text": [
      "['Tableau', 'Spark', 'SQL Server', 'Python', 'Power BI', 'Java', 'Hadoop', 'C++']\n"
     ]
    }
   ],
   "source": [
    "diferencia_simetrica_ord = sorted(diferencia_simetrica,reverse=True)\n",
    "print(diferencia_simetrica_ord)"
   ]
  },
  {
   "cell_type": "markdown",
   "id": "dcdef152-d621-43d3-8248-fa1ab727f520",
   "metadata": {},
   "source": [
    "## Pregunta 4"
   ]
  },
  {
   "cell_type": "code",
   "execution_count": 1,
   "id": "304a8c4c-8c07-434f-b3ec-ed5cf1097710",
   "metadata": {},
   "outputs": [
    {
     "name": "stdout",
     "output_type": "stream",
     "text": [
      "{'ISBN347': 'El Gran Gatsby', 'ISBN801': 'Orgullo y prejuicio', 'ISBN624': 'Cien años de soledad'}\n"
     ]
    }
   ],
   "source": [
    "claves = [\"ISBN347\",\"ISBN801\",\"ISBN624\"]\n",
    "valores = [\"El Gran Gatsby\",\"Orgullo y prejuicio\",\"Cien años de soledad\"]\n",
    "libros = dict(zip(claves, valores))\n",
    "print(libros)"
   ]
  },
  {
   "cell_type": "code",
   "execution_count": 2,
   "id": "f5e057b6-5d1f-491e-b882-2ca94cea8678",
   "metadata": {},
   "outputs": [
    {
     "name": "stdout",
     "output_type": "stream",
     "text": [
      "{'ISBN347': 'El Gran Gatsby', 'ISBN801': 'La Divina Comedia', 'ISBN624': 'Cien años de soledad'}\n",
      "{'ISBN347': 'El Gran Gatsby', 'ISBN801': 'La Divina Comedia', 'ISBN624': 'Cien años de soledad', 'ISBN960': 'La edad de la inocencia'}\n",
      "{'ISBN801': 'La Divina Comedia', 'ISBN624': 'Cien años de soledad', 'ISBN960': 'La edad de la inocencia'}\n"
     ]
    }
   ],
   "source": [
    "libros.update({\"ISBN801\":\"La Divina Comedia\"})\n",
    "print(libros)\n",
    "libros.update({\"ISBN960\":\"La edad de la inocencia\"})\n",
    "print(libros)\n",
    "del(libros[\"ISBN347\"])\n",
    "print(libros)"
   ]
  },
  {
   "cell_type": "code",
   "execution_count": 3,
   "id": "797b59d0-617d-4275-8d24-e3e3b301e33a",
   "metadata": {},
   "outputs": [
    {
     "name": "stdout",
     "output_type": "stream",
     "text": [
      "['ISBN801', 'ISBN624', 'ISBN960']\n",
      "['La Divina Comedia', 'Cien años de soledad', 'La edad de la inocencia']\n",
      "[('ISBN801', 'La Divina Comedia'), ('ISBN624', 'Cien años de soledad'), ('ISBN960', 'La edad de la inocencia')]\n",
      "(('ISBN801', 'La Divina Comedia'), ('ISBN624', 'Cien años de soledad'), ('ISBN960', 'La edad de la inocencia'))\n"
     ]
    }
   ],
   "source": [
    "claves = list(libros.keys())\n",
    "print(claves)\n",
    "valores = list(libros.values())\n",
    "print(valores)\n",
    "items = list(libros.items())\n",
    "print(items)\n",
    "libros = tuple(items)\n",
    "print(libros)"
   ]
  },
  {
   "cell_type": "code",
   "execution_count": null,
   "id": "7a49f46b-ce84-4f28-b1ba-bc4cbf7733c0",
   "metadata": {},
   "outputs": [],
   "source": []
  },
  {
   "cell_type": "code",
   "execution_count": null,
   "id": "417d1ff8-4124-4bd7-a935-f84ed8f9d183",
   "metadata": {},
   "outputs": [],
   "source": []
  }
 ],
 "metadata": {
  "kernelspec": {
   "display_name": "Python 3 (ipykernel)",
   "language": "python",
   "name": "python3"
  },
  "language_info": {
   "codemirror_mode": {
    "name": "ipython",
    "version": 3
   },
   "file_extension": ".py",
   "mimetype": "text/x-python",
   "name": "python",
   "nbconvert_exporter": "python",
   "pygments_lexer": "ipython3",
   "version": "3.12.3"
  }
 },
 "nbformat": 4,
 "nbformat_minor": 5
}
